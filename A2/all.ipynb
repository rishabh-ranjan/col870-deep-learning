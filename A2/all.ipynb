{
 "cells": [
  {
   "cell_type": "code",
   "execution_count": 1,
   "metadata": {},
   "outputs": [],
   "source": [
    "from IPython import display\n",
    "from PIL import Image\n",
    "import matplotlib.pyplot as plt\n",
    "plt.rcParams['image.cmap'] = 'gray'\n",
    "from sklearn.model_selection import train_test_split\n",
    "import torch\n",
    "torch.backends.cudnn.benchmark = True\n",
    "torch.cuda.set_device(1)\n",
    "from torch import nn, optim\n",
    "import torch.nn.functional as F\n",
    "from torch.utils.data import DataLoader, TensorDataset\n",
    "from torchvision import datasets, models, transforms, utils\n",
    "from tqdm.auto import tqdm"
   ]
  },
  {
   "cell_type": "code",
   "execution_count": 2,
   "metadata": {},
   "outputs": [
    {
     "data": {
      "text/plain": [
       "device(type='cuda')"
      ]
     },
     "execution_count": 2,
     "metadata": {},
     "output_type": "execute_result"
    }
   ],
   "source": [
    "device = torch.device('cuda' if torch.cuda.is_available() else 'cpu')\n",
    "device"
   ]
  },
  {
   "cell_type": "code",
   "execution_count": 3,
   "metadata": {},
   "outputs": [],
   "source": [
    "class RRN(nn.Module):\n",
    "    def __init__(self, n_steps):\n",
    "        super().__init__()\n",
    "        self.n_steps = n_steps\n",
    "        make_mlp = lambda i: nn.Sequential(\n",
    "                                nn.Linear(i,96), nn.ReLU(),\n",
    "                                nn.Linear(96,96), nn.ReLU(),\n",
    "                                nn.Linear(96,96), nn.ReLU(),\n",
    "                                nn.Linear(96,16)\n",
    "                            )\n",
    "        self.inp_enc = make_mlp(25)\n",
    "        self.msg_enc = make_mlp(32)\n",
    "        self.msg_comb = make_mlp(32)\n",
    "        self.lstm_cell = nn.LSTMCell(16,16)\n",
    "        self.decoder = nn.Linear(16,8)\n",
    "        self.rc = self.get_rc()\n",
    "        self.l, self.r = self.get_lr()\n",
    "        self.cross_entropy_loss = nn.CrossEntropyLoss()\n",
    "        \n",
    "    def get_rc(self):\n",
    "        t = F.one_hot(torch.arange(8, device=X.device))\n",
    "        rc = torch.cat((t.repeat(8,1), t.repeat(1,8).view(-1,8)), dim=-1)\n",
    "        return rc.float()\n",
    "    \n",
    "    def get_lr(self):\n",
    "        l, r = [], []\n",
    "        for i in range(8):\n",
    "            for j in range(8):\n",
    "                start = 8*i+j\n",
    "                for x in range(8):\n",
    "                    end = 8*i+x\n",
    "                    l.append(start)\n",
    "                    r.append(end)\n",
    "                    end = 8*x+j\n",
    "                    l.append(start)\n",
    "                    r.append(end)\n",
    "                block_start_x = i//2*2\n",
    "                block_start_y = j//4*4\n",
    "                for x in range(2):\n",
    "                    for y in range(4):\n",
    "                        X, Y = block_start_x + x, block_start_y + y\n",
    "                        end = 8*X + Y\n",
    "                        l.append(start)\n",
    "                        r.append(end)\n",
    "        return torch.tensor(l, dtype=torch.long), torch.tensor(r, dtype=torch.long)\n",
    "    \n",
    "    def forward(self, X):\n",
    "        b = X.shape[0]\n",
    "        X = X.view(-1,64,9)\n",
    "        RC = self.rc[None,:,:].to(X.device).expand(b,-1,-1)\n",
    "        X = self.inp_enc(torch.cat((RC, X.float()), dim=-1)).view(-1,16)\n",
    "        H = X\n",
    "        C = torch.zeros_like(H)\n",
    "        self.out = []\n",
    "        for step in range(self.n_steps):\n",
    "            Hv = H.view(-1,64,16)\n",
    "            M = torch.zeros(b,64,64,16, device=H.device)\n",
    "            M[:,self.l,self.r,:] = self.msg_enc(torch.cat((Hv[:,self.l,:], Hv[:,self.r,:]), dim=-1))\n",
    "            XM = self.msg_comb(torch.cat((X, torch.sum(M, dim=-2).view(-1,16)), dim=-1))\n",
    "            H, C = self.lstm_cell(XM, (H, C))\n",
    "            self.out.append(self.decoder(H))\n",
    "        return self.out[-1].view(-1,512)\n",
    "    \n",
    "    def criterion(self, y_true, X_pred):\n",
    "        y_true = y_true.view(-1)\n",
    "        s = 0\n",
    "        self.losses = []\n",
    "        for step in range(self.n_steps):\n",
    "            l = self.cross_entropy_loss(self.out[step], y_true)\n",
    "            self.losses.append(l.item())\n",
    "            s += l\n",
    "        return s"
   ]
  },
  {
   "cell_type": "code",
   "execution_count": 4,
   "metadata": {},
   "outputs": [],
   "source": [
    "def load_sudoku_images(path, total, device, normalize=False):\n",
    "    sudoku_img = torch.empty(total,1,224,224, device=device)\n",
    "    if normalize:\n",
    "        transform = transforms.Compose((\n",
    "            transforms.ToTensor(),\n",
    "            transforms.Normalize((0.5,),(0.5,))))\n",
    "    else:\n",
    "        transform = transforms.ToTensor()\n",
    "    for i in tqdm(range(total), 'sudoku images'):\n",
    "        sudoku_img[i,0] = transform(Image.open(f'{path}/{i}.png'))\n",
    "    return sudoku_img # (-1, 1, 224, 224)"
   ]
  },
  {
   "cell_type": "code",
   "execution_count": 5,
   "metadata": {},
   "outputs": [],
   "source": [
    "x = torch.load('data/pt-cache/query_y.pt').to(device)\n",
    "y = torch.load('data/pt-cache/target_y.pt').to(device)\n",
    "X = F.one_hot(x.long().view(-1,8,8), num_classes=9).view(-1,576)\n",
    "y = y.view(-1,64).long()\n",
    "net = RRN(24).to(device)"
   ]
  },
  {
   "cell_type": "code",
   "execution_count": 6,
   "metadata": {},
   "outputs": [],
   "source": [
    "ctr = 0\n",
    "losses = [[] for _ in range(32)]"
   ]
  },
  {
   "cell_type": "code",
   "execution_count": 7,
   "metadata": {},
   "outputs": [
    {
     "data": {
      "image/png": "[encoded data removed]",
      "text/plain": [
       "<Figure size 432x288 with 1 Axes>"
      ]
     },
     "metadata": {
      "needs_background": "light"
     },
     "output_type": "display_data"
    },
    {
     "data": {
      "application/vnd.jupyter.widget-view+json": {
       "model_id": "81ec1ca9c71e4f89b16c11b3a32b678a",
       "version_major": 2,
       "version_minor": 0
      },
      "text/plain": [
       "HBox(children=(HTML(value='batches'), FloatProgress(value=0.0, max=313.0), HTML(value='')))"
      ]
     },
     "metadata": {},
     "output_type": "display_data"
    },
    {
     "name": "stdout",
     "output_type": "stream",
     "text": [
      "\n"
     ]
    },
    {
     "ename": "KeyboardInterrupt",
     "evalue": "",
     "output_type": "error",
     "traceback": [
      "\u001b[0;31m---------------------------------------------------------------------------\u001b[0m",
      "\u001b[0;31mKeyboardInterrupt\u001b[0m                         Traceback (most recent call last)",
      "\u001b[0;32m<ipython-input-7-437e46abbb03>\u001b[0m in \u001b[0;36m<module>\u001b[0;34m\u001b[0m\n\u001b[1;32m      8\u001b[0m             \u001b[0mlosses\u001b[0m\u001b[0;34m[\u001b[0m\u001b[0mi\u001b[0m\u001b[0;34m]\u001b[0m\u001b[0;34m.\u001b[0m\u001b[0mappend\u001b[0m\u001b[0;34m(\u001b[0m\u001b[0mnet\u001b[0m\u001b[0;34m.\u001b[0m\u001b[0mlosses\u001b[0m\u001b[0;34m[\u001b[0m\u001b[0mi\u001b[0m\u001b[0;34m]\u001b[0m\u001b[0;34m)\u001b[0m\u001b[0;34m\u001b[0m\u001b[0;34m\u001b[0m\u001b[0m\n\u001b[1;32m      9\u001b[0m         \u001b[0mopt\u001b[0m\u001b[0;34m.\u001b[0m\u001b[0mzero_grad\u001b[0m\u001b[0;34m(\u001b[0m\u001b[0;34m)\u001b[0m\u001b[0;34m\u001b[0m\u001b[0;34m\u001b[0m\u001b[0m\n\u001b[0;32m---> 10\u001b[0;31m         \u001b[0mloss\u001b[0m\u001b[0;34m.\u001b[0m\u001b[0mbackward\u001b[0m\u001b[0;34m(\u001b[0m\u001b[0;34m)\u001b[0m\u001b[0;34m\u001b[0m\u001b[0;34m\u001b[0m\u001b[0m\n\u001b[0m\u001b[1;32m     11\u001b[0m         \u001b[0mnn\u001b[0m\u001b[0;34m.\u001b[0m\u001b[0mutils\u001b[0m\u001b[0;34m.\u001b[0m\u001b[0mclip_grad_norm_\u001b[0m\u001b[0;34m(\u001b[0m\u001b[0mnet\u001b[0m\u001b[0;34m.\u001b[0m\u001b[0mparameters\u001b[0m\u001b[0;34m(\u001b[0m\u001b[0;34m)\u001b[0m\u001b[0;34m,\u001b[0m \u001b[0;36m1\u001b[0m\u001b[0;34m)\u001b[0m\u001b[0;34m\u001b[0m\u001b[0;34m\u001b[0m\u001b[0m\n\u001b[1;32m     12\u001b[0m         \u001b[0mopt\u001b[0m\u001b[0;34m.\u001b[0m\u001b[0mstep\u001b[0m\u001b[0;34m(\u001b[0m\u001b[0;34m)\u001b[0m\u001b[0;34m\u001b[0m\u001b[0;34m\u001b[0m\u001b[0m\n",
      "\u001b[0;32m/home/apps/anaconda3_2018/4.6.9/lib/python3.6/site-packages/torch/tensor.py\u001b[0m in \u001b[0;36mbackward\u001b[0;34m(self, gradient, retain_graph, create_graph)\u001b[0m\n\u001b[1;32m    105\u001b[0m                 \u001b[0mproducts\u001b[0m\u001b[0;34m.\u001b[0m \u001b[0mDefaults\u001b[0m \u001b[0mto\u001b[0m\u001b[0;31m \u001b[0m\u001b[0;31m`\u001b[0m\u001b[0;31m`\u001b[0m\u001b[0;32mFalse\u001b[0m\u001b[0;31m`\u001b[0m\u001b[0;31m`\u001b[0m\u001b[0;34m.\u001b[0m\u001b[0;34m\u001b[0m\u001b[0;34m\u001b[0m\u001b[0m\n\u001b[1;32m    106\u001b[0m         \"\"\"\n\u001b[0;32m--> 107\u001b[0;31m         \u001b[0mtorch\u001b[0m\u001b[0;34m.\u001b[0m\u001b[0mautograd\u001b[0m\u001b[0;34m.\u001b[0m\u001b[0mbackward\u001b[0m\u001b[0;34m(\u001b[0m\u001b[0mself\u001b[0m\u001b[0;34m,\u001b[0m \u001b[0mgradient\u001b[0m\u001b[0;34m,\u001b[0m \u001b[0mretain_graph\u001b[0m\u001b[0;34m,\u001b[0m \u001b[0mcreate_graph\u001b[0m\u001b[0;34m)\u001b[0m\u001b[0;34m\u001b[0m\u001b[0;34m\u001b[0m\u001b[0m\n\u001b[0m\u001b[1;32m    108\u001b[0m \u001b[0;34m\u001b[0m\u001b[0m\n\u001b[1;32m    109\u001b[0m     \u001b[0;32mdef\u001b[0m \u001b[0mregister_hook\u001b[0m\u001b[0;34m(\u001b[0m\u001b[0mself\u001b[0m\u001b[0;34m,\u001b[0m \u001b[0mhook\u001b[0m\u001b[0;34m)\u001b[0m\u001b[0;34m:\u001b[0m\u001b[0;34m\u001b[0m\u001b[0;34m\u001b[0m\u001b[0m\n",
      "\u001b[0;32m/home/apps/anaconda3_2018/4.6.9/lib/python3.6/site-packages/torch/autograd/__init__.py\u001b[0m in \u001b[0;36mbackward\u001b[0;34m(tensors, grad_tensors, retain_graph, create_graph, grad_variables)\u001b[0m\n\u001b[1;32m     91\u001b[0m     Variable._execution_engine.run_backward(\n\u001b[1;32m     92\u001b[0m         \u001b[0mtensors\u001b[0m\u001b[0;34m,\u001b[0m \u001b[0mgrad_tensors\u001b[0m\u001b[0;34m,\u001b[0m \u001b[0mretain_graph\u001b[0m\u001b[0;34m,\u001b[0m \u001b[0mcreate_graph\u001b[0m\u001b[0;34m,\u001b[0m\u001b[0;34m\u001b[0m\u001b[0;34m\u001b[0m\u001b[0m\n\u001b[0;32m---> 93\u001b[0;31m         allow_unreachable=True)  # allow_unreachable flag\n\u001b[0m\u001b[1;32m     94\u001b[0m \u001b[0;34m\u001b[0m\u001b[0m\n\u001b[1;32m     95\u001b[0m \u001b[0;34m\u001b[0m\u001b[0m\n",
      "\u001b[0;31mKeyboardInterrupt\u001b[0m: "
     ]
    }
   ],
   "source": [
    "loader = DataLoader(TensorDataset(X,y), batch_size=32, shuffle=True)\n",
    "opt = optim.Adam(net.parameters(), lr=1e-3)\n",
    "while True:\n",
    "    for Xb, yb in tqdm(loader, 'batches'):\n",
    "        ctr += 1\n",
    "        loss = net.criterion(yb-1, net(Xb))\n",
    "        for i in range(net.n_steps):\n",
    "            losses[i].append(net.losses[i])\n",
    "        opt.zero_grad()\n",
    "        loss.backward()\n",
    "        nn.utils.clip_grad_norm_(net.parameters(), 1)\n",
    "        opt.step()\n",
    "        \n",
    "        if ctr % 10 == 0:\n",
    "            for i in [0,1,3,7,15,23]:\n",
    "                print(f'{losses[i][-1]:.3f}', end='\\t')\n",
    "            print()\n",
    "\n",
    "    plt.figure()\n",
    "    for i in [0,1,3,7,15,23]:\n",
    "        plt.plot(losses[i], label=f'{i}')\n",
    "    plt.legend()\n",
    "    display.clear_output(wait=True)\n",
    "    plt.show()"
   ]
  },
  {
   "cell_type": "code",
   "execution_count": null,
   "metadata": {},
   "outputs": [],
   "source": []
  }
 ],
 "metadata": {
  "kernelspec": {
   "display_name": "Python 3",
   "language": "python",
   "name": "python3"
  },
  "language_info": {
   "codemirror_mode": {
    "name": "ipython",
    "version": 3
   },
   "file_extension": ".py",
   "mimetype": "text/x-python",
   "name": "python",
   "nbconvert_exporter": "python",
   "pygments_lexer": "ipython3",
   "version": "3.6.10"
  }
 },
 "nbformat": 4,
 "nbformat_minor": 4
}
