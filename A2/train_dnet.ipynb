{
 "cells": [
  {
   "cell_type": "code",
   "execution_count": 1,
   "metadata": {},
   "outputs": [
    {
     "data": {
      "text/plain": [
       "<module 'utils' from '/home/cse/btech/cs1180416/col870-deep-learning/A2/utils.py'>"
      ]
     },
     "execution_count": 1,
     "metadata": {},
     "output_type": "execute_result"
    }
   ],
   "source": [
    "from sklearn.model_selection import train_test_split\n",
    "from sklearn.metrics import classification_report\n",
    "import torch\n",
    "import torch.nn.functional as F\n",
    "torch.cuda.set_device(1)\n",
    "import models, train, utils\n",
    "from importlib import reload\n",
    "reload(models)\n",
    "reload(train)\n",
    "reload(utils)"
   ]
  },
  {
   "cell_type": "code",
   "execution_count": 2,
   "metadata": {},
   "outputs": [
    {
     "data": {
      "text/plain": [
       "device(type='cuda')"
      ]
     },
     "execution_count": 2,
     "metadata": {},
     "output_type": "execute_result"
    }
   ],
   "source": [
    "device = torch.device('cuda' if torch.cuda.is_available() else 'cpu')\n",
    "device"
   ]
  },
  {
   "cell_type": "code",
   "execution_count": 3,
   "metadata": {},
   "outputs": [],
   "source": [
    "target_y = torch.load('data/pt-cache/target_pred.pt')\n",
    "query_y = torch.load('data/pt-cache/query_pred_adv.pt')"
   ]
  },
  {
   "cell_type": "code",
   "execution_count": 4,
   "metadata": {},
   "outputs": [],
   "source": [
    "target_X = torch.load('data/pt-cache/target_X_split.pt')\n",
    "query_X = torch.load('data/pt-cache/query_X_split.pt')"
   ]
  },
  {
   "cell_type": "code",
   "execution_count": 5,
   "metadata": {},
   "outputs": [],
   "source": [
    "train_X, test_X, train_y, test_y = train_test_split(\n",
    "    target_X, target_y-1, test_size=10000, stratify=target_y)"
   ]
  },
  {
   "cell_type": "code",
   "execution_count": 6,
   "metadata": {},
   "outputs": [],
   "source": [
    "lenet = models.LeNet()"
   ]
  },
  {
   "cell_type": "code",
   "execution_count": 7,
   "metadata": {},
   "outputs": [
    {
     "data": {
      "application/vnd.jupyter.widget-view+json": {
       "model_id": "ee3f3ca8b00744f0b08a4063d8f99bd3",
       "version_major": 2,
       "version_minor": 0
      },
      "text/plain": [
       "HBox(children=(HTML(value='epochs'), FloatProgress(value=0.0, max=1.0), HTML(value='')))"
      ]
     },
     "metadata": {},
     "output_type": "display_data"
    },
    {
     "data": {
      "application/vnd.jupyter.widget-view+json": {
       "model_id": "",
       "version_major": 2,
       "version_minor": 0
      },
      "text/plain": [
       "HBox(children=(HTML(value='batches'), FloatProgress(value=0.0, max=2461.0), HTML(value='')))"
      ]
     },
     "metadata": {},
     "output_type": "display_data"
    },
    {
     "name": "stdout",
     "output_type": "stream",
     "text": [
      "\n"
     ]
    }
   ],
   "source": [
    "losses = train.train_net(lenet, train_X, train_y, lr=1e-3, batch_size=256, n_epochs=1, device=device)"
   ]
  },
  {
   "cell_type": "code",
   "execution_count": null,
   "metadata": {},
   "outputs": [],
   "source": [
    "import matplotlib.pyplot as plt\n",
    "plt.plot(losses)"
   ]
  },
  {
   "cell_type": "code",
   "execution_count": 8,
   "metadata": {},
   "outputs": [
    {
     "name": "stdout",
     "output_type": "stream",
     "text": [
      "              precision    recall  f1-score   support\n",
      "\n",
      "           0       1.00      1.00      1.00      1515\n",
      "           1       1.00      1.00      1.00      1188\n",
      "           2       1.00      1.00      1.00      1104\n",
      "           3       1.00      1.00      1.00      1304\n",
      "           4       1.00      1.00      1.00      1035\n",
      "           5       1.00      1.00      1.00      1184\n",
      "           6       1.00      1.00      1.00      1365\n",
      "           7       1.00      1.00      1.00      1305\n",
      "\n",
      "    accuracy                           1.00     10000\n",
      "   macro avg       1.00      1.00      1.00     10000\n",
      "weighted avg       1.00      1.00      1.00     10000\n",
      "\n"
     ]
    }
   ],
   "source": [
    "test_pred = lenet.predict(test_X.to(device))\n",
    "print(classification_report(test_y, test_pred.cpu()))"
   ]
  },
  {
   "cell_type": "code",
   "execution_count": 9,
   "metadata": {},
   "outputs": [],
   "source": [
    "torch.save(lenet.state_dict(), 'data/pt-cache/lenet.pt')"
   ]
  },
  {
   "cell_type": "code",
   "execution_count": 10,
   "metadata": {},
   "outputs": [],
   "source": [
    "train_X, test_X, train_y, test_y = train_test_split(\n",
    "    query_X, (query_y == 0).float(), test_size=10000, stratify=query_y)"
   ]
  },
  {
   "cell_type": "code",
   "execution_count": 11,
   "metadata": {},
   "outputs": [],
   "source": [
    "zero_c = models.ZeroClassifier()"
   ]
  },
  {
   "cell_type": "code",
   "execution_count": null,
   "metadata": {},
   "outputs": [
    {
     "data": {
      "application/vnd.jupyter.widget-view+json": {
       "model_id": "aeca8f72d2ad46bda5f56b684216fe35",
       "version_major": 2,
       "version_minor": 0
      },
      "text/plain": [
       "HBox(children=(HTML(value='epochs'), FloatProgress(value=0.0, max=1.0), HTML(value='')))"
      ]
     },
     "metadata": {},
     "output_type": "display_data"
    },
    {
     "data": {
      "application/vnd.jupyter.widget-view+json": {
       "model_id": "6af8a92bfc8a4e089ac1e1eb07835b4d",
       "version_major": 2,
       "version_minor": 0
      },
      "text/plain": [
       "HBox(children=(HTML(value='batches'), FloatProgress(value=0.0, max=2461.0), HTML(value='')))"
      ]
     },
     "metadata": {},
     "output_type": "display_data"
    }
   ],
   "source": [
    "train.train_net(zero_c, train_X, train_y, lr=1e-3, batch_size=256, n_epochs=1, device=device)"
   ]
  },
  {
   "cell_type": "code",
   "execution_count": null,
   "metadata": {},
   "outputs": [],
   "source": [
    "test_pred = zero_c.predict(test_X.to(device))\n",
    "print(classification_report(test_y, test_pred.cpu()))"
   ]
  },
  {
   "cell_type": "code",
   "execution_count": null,
   "metadata": {},
   "outputs": [],
   "source": [
    "torch.save(zero_c.state_dict(), 'data/pt-cache/zero_c.pt')"
   ]
  },
  {
   "cell_type": "code",
   "execution_count": null,
   "metadata": {},
   "outputs": [],
   "source": [
    "dnet = models.DigitNet()\n",
    "dnet.lenet.load_state_dict(torch.load('data/pt-cache/lenet.pt'))\n",
    "dnet.zero_c.load_state_dict(torch.load('data/pt-cache/zero_c.pt'))\n",
    "torch.save(dnet.state_dict(), 'data/pt-cache/dnet.pt')"
   ]
  },
  {
   "cell_type": "code",
   "execution_count": 18,
   "metadata": {},
   "outputs": [],
   "source": [
    "test_X = torch.load('data/pt-cache/query_X_split.pt')[:10000].to(device)\n",
    "test_y = torch.load('data/pt-cache/query_y.pt')[:10000].long().to(device)"
   ]
  },
  {
   "cell_type": "code",
   "execution_count": 24,
   "metadata": {},
   "outputs": [],
   "source": [
    "test_X = torch.load('data/pt-cache/target_X_split.pt')[:1000].to(device)\n",
    "test_y = torch.load('data/pt-cache/target_y.pt')[:1000].long().to(device)"
   ]
  },
  {
   "cell_type": "code",
   "execution_count": 25,
   "metadata": {},
   "outputs": [
    {
     "name": "stdout",
     "output_type": "stream",
     "text": [
      "              precision    recall  f1-score   support\n",
      "\n",
      "           1       0.75      0.91      0.82       125\n",
      "           2       0.96      0.87      0.91       125\n",
      "           3       0.99      0.84      0.91       125\n",
      "           4       0.50      0.48      0.49       125\n",
      "           5       0.95      0.83      0.89       125\n",
      "           6       0.92      0.86      0.89       125\n",
      "           7       0.48      0.54      0.51       125\n",
      "           8       0.89      0.99      0.94       125\n",
      "\n",
      "    accuracy                           0.79      1000\n",
      "   macro avg       0.80      0.79      0.79      1000\n",
      "weighted avg       0.80      0.79      0.79      1000\n",
      "\n"
     ]
    }
   ],
   "source": [
    "dnet = models.DigitNet()\n",
    "# tmp = models.DigitDiscriminator()\n",
    "# tmp.load_state_dict(torch.load('data/pt-cache/digit_cgan_disc.pt'))\n",
    "# dnet.load_state_dict(tmp.dnet.state_dict())\n",
    "dnet.load_state_dict(torch.load('data/pt-cache/dnet.pt'))\n",
    "dnet = dnet.to(device)\n",
    "test_pred = dnet.predict(test_X)\n",
    "print(classification_report(test_y.cpu(), test_pred.cpu()))"
   ]
  },
  {
   "cell_type": "code",
   "execution_count": 26,
   "metadata": {},
   "outputs": [
    {
     "data": {
      "text/plain": [
       "4.019824504852295"
      ]
     },
     "execution_count": 26,
     "metadata": {},
     "output_type": "execute_result"
    }
   ],
   "source": [
    "dnet.criterion(dnet(test_X), test_y).item()"
   ]
  },
  {
   "cell_type": "code",
   "execution_count": 27,
   "metadata": {},
   "outputs": [
    {
     "name": "stdout",
     "output_type": "stream",
     "text": [
      "              precision    recall  f1-score   support\n",
      "\n",
      "           1       0.11      0.04      0.06       125\n",
      "           2       0.21      0.10      0.13       125\n",
      "           3       0.81      0.66      0.73       125\n",
      "           4       0.28      0.84      0.42       125\n",
      "           5       0.93      0.51      0.66       125\n",
      "           6       0.71      0.16      0.26       125\n",
      "           7       0.10      0.08      0.09       125\n",
      "           8       0.48      0.85      0.61       125\n",
      "\n",
      "    accuracy                           0.41      1000\n",
      "   macro avg       0.45      0.41      0.37      1000\n",
      "weighted avg       0.45      0.41      0.37      1000\n",
      "\n"
     ]
    }
   ],
   "source": [
    "dnet = models.DigitNet()\n",
    "tmp = models.DigitDiscriminator()\n",
    "tmp.load_state_dict(torch.load('data/pt-cache/digit_cgan_disc.pt'))\n",
    "dnet.load_state_dict(tmp.dnet.state_dict())\n",
    "# dnet.load_state_dict(torch.load('data/pt-cache/dnet.pt'))\n",
    "dnet = dnet.to(device)\n",
    "test_pred = dnet.predict(test_X)\n",
    "print(classification_report(test_y.cpu(), test_pred.cpu()))"
   ]
  },
  {
   "cell_type": "code",
   "execution_count": 31,
   "metadata": {},
   "outputs": [
    {
     "data": {
      "text/plain": [
       "1.7400015592575073"
      ]
     },
     "execution_count": 31,
     "metadata": {},
     "output_type": "execute_result"
    }
   ],
   "source": [
    "dnet.criterion(dnet(test_X), test_y).item()"
   ]
  },
  {
   "cell_type": "code",
   "execution_count": 36,
   "metadata": {},
   "outputs": [
    {
     "data": {
      "text/plain": [
       "torch.return_types.max(\n",
       "values=tensor([0.2098, 0.2133, 0.2695, 0.2606, 0.2478, 0.2556, 0.1839, 0.2290, 0.2016,\n",
       "        0.1836], device='cuda:1', grad_fn=<MaxBackward0>),\n",
       "indices=tensor([6, 8, 8, 4, 4, 4, 1, 7, 7, 7], device='cuda:1'))"
      ]
     },
     "execution_count": 36,
     "metadata": {},
     "output_type": "execute_result"
    }
   ],
   "source": [
    "dnet(test_X[:10]).max(dim=-1)"
   ]
  },
  {
   "cell_type": "code",
   "execution_count": 32,
   "metadata": {},
   "outputs": [
    {
     "data": {
      "text/plain": [
       "tensor([6, 8, 8, 4, 4, 4, 1, 7, 7, 7], device='cuda:1')"
      ]
     },
     "execution_count": 32,
     "metadata": {},
     "output_type": "execute_result"
    }
   ],
   "source": [
    "test_pred[:10]"
   ]
  },
  {
   "cell_type": "code",
   "execution_count": 33,
   "metadata": {},
   "outputs": [
    {
     "data": {
      "text/plain": [
       "tensor([6, 5, 8, 4, 7, 1, 3, 2, 2, 1], device='cuda:1')"
      ]
     },
     "execution_count": 33,
     "metadata": {},
     "output_type": "execute_result"
    }
   ],
   "source": [
    "test_y[:10]"
   ]
  },
  {
   "cell_type": "code",
   "execution_count": 17,
   "metadata": {},
   "outputs": [
    {
     "data": {
      "text/plain": [
       "<matplotlib.axes._subplots.AxesSubplot at 0x2b5555a3d5f8>"
      ]
     },
     "execution_count": 17,
     "metadata": {},
     "output_type": "execute_result"
    },
    {
     "data": {
      "image/png": "[encoded data removed]",
      "text/plain": [
       "<Figure size 432x288 with 2 Axes>"
      ]
     },
     "metadata": {
      "needs_background": "light"
     },
     "output_type": "display_data"
    }
   ],
   "source": [
    "import seaborn as sns\n",
    "sns.heatmap(zero_c.net.weight.view(28,28).detach().cpu(), cmap='gray')"
   ]
  },
  {
   "cell_type": "code",
   "execution_count": 18,
   "metadata": {},
   "outputs": [
    {
     "data": {
      "text/plain": [
       "Parameter containing:\n",
       "tensor([-0.0242], device='cuda:1', requires_grad=True)"
      ]
     },
     "execution_count": 18,
     "metadata": {},
     "output_type": "execute_result"
    }
   ],
   "source": [
    "zero_c.net.bias"
   ]
  },
  {
   "cell_type": "code",
   "execution_count": null,
   "metadata": {},
   "outputs": [],
   "source": []
  }
 ],
 "metadata": {
  "kernelspec": {
   "display_name": "Python 3",
   "language": "python",
   "name": "python3"
  },
  "language_info": {
   "codemirror_mode": {
    "name": "ipython",
    "version": 3
   },
   "file_extension": ".py",
   "mimetype": "text/x-python",
   "name": "python",
   "nbconvert_exporter": "python",
   "pygments_lexer": "ipython3",
   "version": "3.6.10"
  }
 },
 "nbformat": 4,
 "nbformat_minor": 4
}
