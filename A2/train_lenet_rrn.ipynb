{
 "cells": [
  {
   "cell_type": "code",
   "execution_count": 1,
   "metadata": {},
   "outputs": [
    {
     "data": {
      "text/plain": [
       "<module 'utils' from '/home/cse/btech/cs1180416/col870-deep-learning/A2/utils.py'>"
      ]
     },
     "execution_count": 1,
     "metadata": {},
     "output_type": "execute_result"
    }
   ],
   "source": [
    "from sklearn.metrics import accuracy_score\n",
    "import torch\n",
    "import torch.nn.functional as F\n",
    "# torch.cuda.set_device(1)\n",
    "import models, train, utils\n",
    "from importlib import reload\n",
    "reload(models)\n",
    "reload(train)\n",
    "reload(utils)"
   ]
  },
  {
   "cell_type": "code",
   "execution_count": 2,
   "metadata": {},
   "outputs": [
    {
     "data": {
      "text/plain": [
       "device(type='cuda')"
      ]
     },
     "execution_count": 2,
     "metadata": {},
     "output_type": "execute_result"
    }
   ],
   "source": [
    "device = torch.device('cuda' if torch.cuda.is_available() else 'cpu')\n",
    "device"
   ]
  },
  {
   "cell_type": "code",
   "execution_count": 3,
   "metadata": {},
   "outputs": [],
   "source": [
    "query_X = torch.load('data/pt-cache/query_X.pt', map_location='cpu')\n",
    "target_X = torch.load('data/pt-cache/target_X.pt', map_location='cpu')\n",
    "query_y = torch.load('data/pt-cache/query_y.pt', map_location='cpu')\n",
    "target_y = torch.load('data/pt-cache/target_y.pt', map_location='cpu')"
   ]
  },
  {
   "cell_type": "code",
   "execution_count": 4,
   "metadata": {},
   "outputs": [],
   "source": [
    "train_query_X, val_query_X, test_query_X = torch.split(query_X, [8000,1000,1000], dim=0)\n",
    "train_target_X, val_target_X, test_target_X = torch.split(target_X, [8000,1000,1000], dim=0)"
   ]
  },
  {
   "cell_type": "code",
   "execution_count": null,
   "metadata": {},
   "outputs": [],
   "source": [
    "dnet_val"
   ]
  },
  {
   "cell_type": "code",
   "execution_count": 4,
   "metadata": {},
   "outputs": [],
   "source": [
    "test_X = query_X[:100].to(device)\n",
    "test_q = query_y[:6400]\n",
    "test_t = target_y[:6400]"
   ]
  },
  {
   "cell_type": "code",
   "execution_count": 11,
   "metadata": {},
   "outputs": [],
   "source": [
    "from IPython import display\n",
    "from ipywidgets import Output\n",
    "import matplotlib.pyplot as plt\n",
    "import torch\n",
    "torch.backends.cudnn.benchmark = True\n",
    "from torch import nn, optim\n",
    "import torch.nn.functional as F\n",
    "from torch.utils.data import DataLoader, TensorDataset\n",
    "from tqdm.auto import tqdm\n",
    "\n",
    "def train_net(net, X, Y, lr, batch_size, n_epochs, device, show_step=None):\n",
    "    plt_out = Output()\n",
    "    display.display(plt_out)\n",
    "    net.train()\n",
    "    net = net.to(device)\n",
    "    loader = DataLoader(TensorDataset(X, Y), batch_size=batch_size, shuffle=True)\n",
    "    opt = optim.Adam(net.parameters(), lr=lr)\n",
    "    pos_losses = []\n",
    "    neg_losses = []\n",
    "    rrn_accs = []\n",
    "    dnet_accs = []\n",
    "    ctr = 0\n",
    "    for epoch in tqdm(range(n_epochs), 'epochs'):\n",
    "        for X, Y in tqdm(loader, 'batches', leave=False):\n",
    "            ctr += 1\n",
    "            X = X.to(device)\n",
    "            Y = Y.to(device)\n",
    "            pos_loss, neg_loss = net.criterion(net(X), Y)\n",
    "            pos_losses.append(pos_loss.item())\n",
    "            neg_losses.append(neg_loss.item())\n",
    "            opt.zero_grad()\n",
    "            (pos_loss+7*neg_loss).backward()\n",
    "            nn.utils.clip_grad_norm_(net.parameters(), 1)\n",
    "            opt.step()\n",
    "            \n",
    "            with torch.no_grad():\n",
    "                rrn_pred = net.predict(test_X)\n",
    "                rrn_acc = accuracy_score(test_t, rrn_pred.view(-1).cpu())\n",
    "                rrn_accs.append(rrn_acc)\n",
    "                dnet_pred = net.dnet.predict(utils.split_sudoku_img(test_X))\n",
    "                dnet_acc = accuracy_score(test_q, dnet_pred.view(-1).cpu())\n",
    "                dnet_accs.append(dnet_acc)\n",
    "                \n",
    "            if show_step is not None and ctr % show_step == 0:\n",
    "                with plt_out:\n",
    "                    plt.figure()\n",
    "                    plt.plot(pos_losses, label='pos')\n",
    "                    plt.plot(neg_losses, label='neg')\n",
    "                    plt.plot(rrn_accs, label='rrn acc')\n",
    "                    plt.plot(dnet_accs, label='dnet acc')\n",
    "                    plt.legend()\n",
    "                    plt.xlabel('batches')\n",
    "                    plt.ylabel('loss')\n",
    "                    plt.tick_params(labelright=True, right=True)\n",
    "                    plt.grid(axis='y')\n",
    "                    plt.yticks(torch.arange(0,1.1,0.1))\n",
    "                    plt.title(f'epoch={epoch} ctr={ctr} lr={lr} batch_size={batch_size}')\n",
    "                    plt.show()\n",
    "                    plt.close()\n",
    "#                     plt_out.clear_output(wait=True)\n",
    "    return losses"
   ]
  },
  {
   "cell_type": "code",
   "execution_count": 12,
   "metadata": {},
   "outputs": [],
   "source": [
    "rrn = models.DigitRRN(16).to(device)"
   ]
  },
  {
   "cell_type": "code",
   "execution_count": 13,
   "metadata": {},
   "outputs": [
    {
     "data": {
      "text/plain": [
       "IncompatibleKeys(missing_keys=[], unexpected_keys=[])"
      ]
     },
     "execution_count": 13,
     "metadata": {},
     "output_type": "execute_result"
    }
   ],
   "source": [
    "rrn.dnet.load_state_dict(torch.load('data/pt-cache/dnet.pt', map_location='cpu'))"
   ]
  },
  {
   "cell_type": "code",
   "execution_count": 14,
   "metadata": {},
   "outputs": [
    {
     "data": {
      "text/plain": [
       "IncompatibleKeys(missing_keys=[], unexpected_keys=[])"
      ]
     },
     "execution_count": 14,
     "metadata": {},
     "output_type": "execute_result"
    }
   ],
   "source": [
    "rrn.rrn.load_state_dict(torch.load('data/pt-cache/rrn_16.pt', map_location='cpu'))"
   ]
  },
  {
   "cell_type": "code",
   "execution_count": 15,
   "metadata": {},
   "outputs": [],
   "source": [
    "def freeze(net):\n",
    "    for p in net.parameters():\n",
    "        p.requires_grad = False"
   ]
  },
  {
   "cell_type": "code",
   "execution_count": null,
   "metadata": {},
   "outputs": [
    {
     "data": {
      "application/vnd.jupyter.widget-view+json": {
       "model_id": "8d2e99dcf3014a80b99a8dbedd742e8a",
       "version_major": 2,
       "version_minor": 0
      },
      "text/plain": [
       "Output()"
      ]
     },
     "metadata": {},
     "output_type": "display_data"
    },
    {
     "data": {
      "application/vnd.jupyter.widget-view+json": {
       "model_id": "80bb4175027b4c25bd5a4eafda15ba96",
       "version_major": 2,
       "version_minor": 0
      },
      "text/plain": [
       "HBox(children=(HTML(value='epochs'), FloatProgress(value=0.0, max=1000.0), HTML(value='')))"
      ]
     },
     "metadata": {},
     "output_type": "display_data"
    },
    {
     "data": {
      "application/vnd.jupyter.widget-view+json": {
       "model_id": "",
       "version_major": 2,
       "version_minor": 0
      },
      "text/plain": [
       "HBox(children=(HTML(value='batches'), FloatProgress(value=0.0, max=313.0), HTML(value='')))"
      ]
     },
     "metadata": {},
     "output_type": "display_data"
    },
    {
     "data": {
      "application/vnd.jupyter.widget-view+json": {
       "model_id": "",
       "version_major": 2,
       "version_minor": 0
      },
      "text/plain": [
       "HBox(children=(HTML(value='batches'), FloatProgress(value=0.0, max=313.0), HTML(value='')))"
      ]
     },
     "metadata": {},
     "output_type": "display_data"
    },
    {
     "data": {
      "application/vnd.jupyter.widget-view+json": {
       "model_id": "",
       "version_major": 2,
       "version_minor": 0
      },
      "text/plain": [
       "HBox(children=(HTML(value='batches'), FloatProgress(value=0.0, max=313.0), HTML(value='')))"
      ]
     },
     "metadata": {},
     "output_type": "display_data"
    },
    {
     "data": {
      "application/vnd.jupyter.widget-view+json": {
       "model_id": "",
       "version_major": 2,
       "version_minor": 0
      },
      "text/plain": [
       "HBox(children=(HTML(value='batches'), FloatProgress(value=0.0, max=313.0), HTML(value='')))"
      ]
     },
     "metadata": {},
     "output_type": "display_data"
    },
    {
     "data": {
      "application/vnd.jupyter.widget-view+json": {
       "model_id": "",
       "version_major": 2,
       "version_minor": 0
      },
      "text/plain": [
       "HBox(children=(HTML(value='batches'), FloatProgress(value=0.0, max=313.0), HTML(value='')))"
      ]
     },
     "metadata": {},
     "output_type": "display_data"
    },
    {
     "data": {
      "application/vnd.jupyter.widget-view+json": {
       "model_id": "",
       "version_major": 2,
       "version_minor": 0
      },
      "text/plain": [
       "HBox(children=(HTML(value='batches'), FloatProgress(value=0.0, max=313.0), HTML(value='')))"
      ]
     },
     "metadata": {},
     "output_type": "display_data"
    },
    {
     "data": {
      "application/vnd.jupyter.widget-view+json": {
       "model_id": "",
       "version_major": 2,
       "version_minor": 0
      },
      "text/plain": [
       "HBox(children=(HTML(value='batches'), FloatProgress(value=0.0, max=313.0), HTML(value='')))"
      ]
     },
     "metadata": {},
     "output_type": "display_data"
    },
    {
     "data": {
      "application/vnd.jupyter.widget-view+json": {
       "model_id": "",
       "version_major": 2,
       "version_minor": 0
      },
      "text/plain": [
       "HBox(children=(HTML(value='batches'), FloatProgress(value=0.0, max=313.0), HTML(value='')))"
      ]
     },
     "metadata": {},
     "output_type": "display_data"
    },
    {
     "data": {
      "application/vnd.jupyter.widget-view+json": {
       "model_id": "",
       "version_major": 2,
       "version_minor": 0
      },
      "text/plain": [
       "HBox(children=(HTML(value='batches'), FloatProgress(value=0.0, max=313.0), HTML(value='')))"
      ]
     },
     "metadata": {},
     "output_type": "display_data"
    },
    {
     "data": {
      "application/vnd.jupyter.widget-view+json": {
       "model_id": "",
       "version_major": 2,
       "version_minor": 0
      },
      "text/plain": [
       "HBox(children=(HTML(value='batches'), FloatProgress(value=0.0, max=313.0), HTML(value='')))"
      ]
     },
     "metadata": {},
     "output_type": "display_data"
    },
    {
     "data": {
      "application/vnd.jupyter.widget-view+json": {
       "model_id": "",
       "version_major": 2,
       "version_minor": 0
      },
      "text/plain": [
       "HBox(children=(HTML(value='batches'), FloatProgress(value=0.0, max=313.0), HTML(value='')))"
      ]
     },
     "metadata": {},
     "output_type": "display_data"
    },
    {
     "data": {
      "application/vnd.jupyter.widget-view+json": {
       "model_id": "",
       "version_major": 2,
       "version_minor": 0
      },
      "text/plain": [
       "HBox(children=(HTML(value='batches'), FloatProgress(value=0.0, max=313.0), HTML(value='')))"
      ]
     },
     "metadata": {},
     "output_type": "display_data"
    },
    {
     "data": {
      "application/vnd.jupyter.widget-view+json": {
       "model_id": "",
       "version_major": 2,
       "version_minor": 0
      },
      "text/plain": [
       "HBox(children=(HTML(value='batches'), FloatProgress(value=0.0, max=313.0), HTML(value='')))"
      ]
     },
     "metadata": {},
     "output_type": "display_data"
    },
    {
     "data": {
      "application/vnd.jupyter.widget-view+json": {
       "model_id": "",
       "version_major": 2,
       "version_minor": 0
      },
      "text/plain": [
       "HBox(children=(HTML(value='batches'), FloatProgress(value=0.0, max=313.0), HTML(value='')))"
      ]
     },
     "metadata": {},
     "output_type": "display_data"
    },
    {
     "data": {
      "application/vnd.jupyter.widget-view+json": {
       "model_id": "",
       "version_major": 2,
       "version_minor": 0
      },
      "text/plain": [
       "HBox(children=(HTML(value='batches'), FloatProgress(value=0.0, max=313.0), HTML(value='')))"
      ]
     },
     "metadata": {},
     "output_type": "display_data"
    },
    {
     "data": {
      "application/vnd.jupyter.widget-view+json": {
       "model_id": "9dc393b093ea419c961ec122e13e7846",
       "version_major": 2,
       "version_minor": 0
      },
      "text/plain": [
       "HBox(children=(HTML(value='batches'), FloatProgress(value=0.0, max=313.0), HTML(value='')))"
      ]
     },
     "metadata": {},
     "output_type": "display_data"
    }
   ],
   "source": [
    "train_net(rrn, query_X, target_X,\n",
    "          lr=1e-3, batch_size=32, n_epochs=1000, device=device, show_step=100)"
   ]
  },
  {
   "cell_type": "code",
   "execution_count": 20,
   "metadata": {},
   "outputs": [],
   "source": [
    "torch.save(rrn.state_dict(), 'data/pt-cache/digit_rrn.pt')"
   ]
  },
  {
   "cell_type": "code",
   "execution_count": 16,
   "metadata": {},
   "outputs": [],
   "source": [
    "q = query_X[1].to(device)[None,...]"
   ]
  },
  {
   "cell_type": "code",
   "execution_count": 17,
   "metadata": {},
   "outputs": [
    {
     "data": {
      "image/png": "[encoded data removed]",
      "text/plain": [
       "<Figure size 432x288 with 1 Axes>"
      ]
     },
     "metadata": {
      "needs_background": "light"
     },
     "output_type": "display_data"
    }
   ],
   "source": [
    "utils.viz_images(q, nrow=1)"
   ]
  },
  {
   "cell_type": "code",
   "execution_count": 18,
   "metadata": {},
   "outputs": [
    {
     "data": {
      "text/plain": [
       "tensor([[0, 0, 0, 1, 0, 0, 1, 7],\n",
       "        [0, 1, 0, 0, 3, 0, 0, 0],\n",
       "        [1, 0, 1, 7, 7, 6, 2, 0],\n",
       "        [0, 0, 0, 2, 0, 8, 7, 3],\n",
       "        [2, 7, 8, 1, 6, 3, 1, 0],\n",
       "        [0, 1, 0, 3, 8, 1, 7, 2],\n",
       "        [0, 0, 3, 8, 0, 0, 0, 0],\n",
       "        [0, 2, 1, 1, 0, 7, 0, 8]], device='cuda:1')"
      ]
     },
     "execution_count": 18,
     "metadata": {},
     "output_type": "execute_result"
    }
   ],
   "source": [
    "torch.argmax(rrn.dnet(utils.split_sudoku_img(q)), dim=-1).view(8,8)"
   ]
  },
  {
   "cell_type": "code",
   "execution_count": 19,
   "metadata": {},
   "outputs": [
    {
     "data": {
      "text/plain": [
       "tensor([[8, 3, 6, 1, 2, 7, 1, 7],\n",
       "        [7, 1, 2, 7, 3, 1, 8, 6],\n",
       "        [1, 8, 1, 7, 7, 6, 2, 3],\n",
       "        [3, 6, 7, 2, 7, 8, 7, 1],\n",
       "        [2, 7, 8, 1, 6, 3, 1, 7],\n",
       "        [6, 1, 7, 3, 8, 1, 7, 2],\n",
       "        [1, 7, 3, 8, 1, 2, 6, 1],\n",
       "        [7, 2, 1, 6, 1, 7, 3, 8]], device='cuda:1')"
      ]
     },
     "execution_count": 19,
     "metadata": {},
     "output_type": "execute_result"
    }
   ],
   "source": [
    "torch.argmax(F.softmax(rrn(q), dim=-1), dim=-1).view(8,8)+1"
   ]
  },
  {
   "cell_type": "code",
   "execution_count": null,
   "metadata": {},
   "outputs": [],
   "source": []
  }
 ],
 "metadata": {
  "kernelspec": {
   "display_name": "Python 3",
   "language": "python",
   "name": "python3"
  },
  "language_info": {
   "codemirror_mode": {
    "name": "ipython",
    "version": 3
   },
   "file_extension": ".py",
   "mimetype": "text/x-python",
   "name": "python",
   "nbconvert_exporter": "python",
   "pygments_lexer": "ipython3",
   "version": "3.6.10"
  }
 },
 "nbformat": 4,
 "nbformat_minor": 4
}
