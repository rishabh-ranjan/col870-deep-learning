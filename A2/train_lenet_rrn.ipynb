{
 "cells": [
  {
   "cell_type": "code",
   "execution_count": 1,
   "metadata": {},
   "outputs": [
    {
     "data": {
      "text/plain": [
       "<module 'utils' from '/home/cse/btech/cs1180416/col870-deep-learning/A2/utils.py'>"
      ]
     },
     "execution_count": 1,
     "metadata": {},
     "output_type": "execute_result"
    }
   ],
   "source": [
    "import numpy as np\n",
    "from sklearn.metrics import classification_report\n",
    "import torch\n",
    "import torch.nn.functional as F\n",
    "from torch.utils.data import DataLoader, TensorDataset\n",
    "# torch.cuda.set_device(1)\n",
    "import models, train, utils\n",
    "from importlib import reload\n",
    "reload(models)\n",
    "reload(train)\n",
    "reload(utils)"
   ]
  },
  {
   "cell_type": "code",
   "execution_count": 2,
   "metadata": {},
   "outputs": [
    {
     "data": {
      "text/plain": [
       "device(type='cuda')"
      ]
     },
     "execution_count": 2,
     "metadata": {},
     "output_type": "execute_result"
    }
   ],
   "source": [
    "device = torch.device('cuda' if torch.cuda.is_available() else 'cpu')\n",
    "device"
   ]
  },
  {
   "cell_type": "code",
   "execution_count": 3,
   "metadata": {},
   "outputs": [],
   "source": [
    "query_X = torch.load('data/pt-cache/query_X.pt', map_location='cpu')\n",
    "target_X = torch.load('data/pt-cache/target_X.pt', map_location='cpu')\n",
    "query_y = torch.load('data/pt-cache/query_y.pt', map_location='cpu')\n",
    "target_y = torch.load('data/pt-cache/target_y.pt', map_location='cpu')"
   ]
  },
  {
   "cell_type": "code",
   "execution_count": 4,
   "metadata": {},
   "outputs": [],
   "source": [
    "train_X, test_X = torch.split(query_X, [9000,1000], dim=0)\n",
    "train_Y, test_Y = torch.split(target_X, [9000,1000], dim=0)"
   ]
  },
  {
   "cell_type": "code",
   "execution_count": 5,
   "metadata": {},
   "outputs": [],
   "source": [
    "test_x = query_y[-64000:]\n",
    "test_y = target_y[-64000:]"
   ]
  },
  {
   "cell_type": "code",
   "execution_count": 20,
   "metadata": {},
   "outputs": [],
   "source": [
    "net = models.LeNetRRN(24, 1, 1)"
   ]
  },
  {
   "cell_type": "code",
   "execution_count": 21,
   "metadata": {},
   "outputs": [
    {
     "data": {
      "text/plain": [
       "IncompatibleKeys(missing_keys=[], unexpected_keys=[])"
      ]
     },
     "execution_count": 21,
     "metadata": {},
     "output_type": "execute_result"
    }
   ],
   "source": [
    "net.lenet.load_state_dict(torch.load('data/pt-cache/lenet.pt', map_location='cpu'))"
   ]
  },
  {
   "cell_type": "code",
   "execution_count": 22,
   "metadata": {},
   "outputs": [
    {
     "data": {
      "text/plain": [
       "IncompatibleKeys(missing_keys=[], unexpected_keys=[])"
      ]
     },
     "execution_count": 22,
     "metadata": {},
     "output_type": "execute_result"
    }
   ],
   "source": [
    "net.rrn.load_state_dict(torch.load('data/pt-cache/rrn_24.pt', map_location='cpu'))"
   ]
  },
  {
   "cell_type": "code",
   "execution_count": 23,
   "metadata": {},
   "outputs": [],
   "source": [
    "samples = (torch.tensor(np.load('data/sample_images.npy')).float()/127.5-1)[:9,None,:,:]"
   ]
  },
  {
   "cell_type": "code",
   "execution_count": 25,
   "metadata": {},
   "outputs": [],
   "source": [
    "train_loader = DataLoader(TensorDataset(train_X, train_Y), batch_size=32, shuffle=True, num_workers=4)\n",
    "aug_loader = DataLoader(models.AugmentedSamples(samples), batch_size=64, num_workers=8)\n",
    "train.train_lenet_rrn(net, train_loader, aug_loader, test_X, test_Y, test_x, test_y,\n",
    "                      lr=1e-3, n_epochs=1000, device=device, show_step=10)"
   ]
  },
  {
   "cell_type": "code",
   "execution_count": null,
   "metadata": {},
   "outputs": [],
   "source": [
    "torch.save(net.state_dict(), 'data/pt-cache/lenet_rrn_11.pt')"
   ]
  },
  {
   "cell_type": "code",
   "execution_count": null,
   "metadata": {},
   "outputs": [],
   "source": [
    "net.load_state_dict(torch.load('data/pt-cache/lenet_rrn_11.pt', map_location='cpu'))\n",
    "net = net.to(device)"
   ]
  },
  {
   "cell_type": "code",
   "execution_count": 26,
   "metadata": {},
   "outputs": [],
   "source": [
    "test_pred = torch.cat([net.predict(test_X[i*100:(i+1)*100].to(device)).cpu() for i in range(10)])"
   ]
  },
  {
   "cell_type": "code",
   "execution_count": 11,
   "metadata": {},
   "outputs": [
    {
     "name": "stdout",
     "output_type": "stream",
     "text": [
      "digit level accuracy: 0.992578125\n",
      "number of sudokus correctly solved: 925 / 1000\n"
     ]
    }
   ],
   "source": [
    "utils.validate_sudokus(test_y, test_pred)"
   ]
  },
  {
   "cell_type": "code",
   "execution_count": 14,
   "metadata": {},
   "outputs": [],
   "source": [
    "test_pred = torch.cat([net.rrn.predict(F.one_hot(test_x[i*6400:(i+1)*6400].long().to(device), num_classes=9)).cpu() for i in range(10)])"
   ]
  },
  {
   "cell_type": "code",
   "execution_count": 15,
   "metadata": {
    "scrolled": true
   },
   "outputs": [
    {
     "name": "stdout",
     "output_type": "stream",
     "text": [
      "digit level accuracy: 0.99303125\n",
      "number of sudokus correctly solved: 939 / 1000\n"
     ]
    }
   ],
   "source": [
    "utils.validate_sudokus(test_y, test_pred)"
   ]
  },
  {
   "cell_type": "code",
   "execution_count": 16,
   "metadata": {},
   "outputs": [
    {
     "name": "stdout",
     "output_type": "stream",
     "text": [
      "              precision    recall  f1-score   support\n",
      "\n",
      "           0       1.00      1.00      1.00     31495\n",
      "           1       1.00      1.00      1.00      4088\n",
      "           2       1.00      1.00      1.00      4069\n",
      "           3       1.00      1.00      1.00      4028\n",
      "           4       1.00      1.00      1.00      4014\n",
      "           5       1.00      0.99      1.00      4026\n",
      "           6       1.00      1.00      1.00      4120\n",
      "           7       1.00      1.00      1.00      4115\n",
      "           8       1.00      1.00      1.00      4045\n",
      "\n",
      "    accuracy                           1.00     64000\n",
      "   macro avg       1.00      1.00      1.00     64000\n",
      "weighted avg       1.00      1.00      1.00     64000\n",
      "\n"
     ]
    }
   ],
   "source": [
    "print(classification_report(test_x, net.lenet.predict(utils.split_sudoku_img(test_X.to(device))).cpu()))"
   ]
  },
  {
   "cell_type": "code",
   "execution_count": null,
   "metadata": {},
   "outputs": [],
   "source": []
  }
 ],
 "metadata": {
  "kernelspec": {
   "display_name": "Python 3",
   "language": "python",
   "name": "python3"
  },
  "language_info": {
   "codemirror_mode": {
    "name": "ipython",
    "version": 3
   },
   "file_extension": ".py",
   "mimetype": "text/x-python",
   "name": "python",
   "nbconvert_exporter": "python",
   "pygments_lexer": "ipython3",
   "version": "3.6.10"
  }
 },
 "nbformat": 4,
 "nbformat_minor": 4
}
