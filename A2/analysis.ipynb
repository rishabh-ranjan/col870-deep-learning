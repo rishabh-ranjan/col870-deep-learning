{
 "cells": [
  {
   "cell_type": "code",
   "execution_count": 1,
   "metadata": {},
   "outputs": [],
   "source": [
    "import numpy as np\n",
    "import torch\n",
    "from torchvision import transforms as transforms\n",
    "import matplotlib.pyplot as plt\n",
    "import matplotlib.image as mpimg\n",
    "from sklearn.cluster import KMeans\n",
    "from tqdm import tqdm\n",
    "from sklearn.decomposition import PCA"
   ]
  },
  {
   "cell_type": "code",
   "execution_count": 26,
   "metadata": {},
   "outputs": [
    {
     "name": "stdout",
     "output_type": "stream",
     "text": [
      "torch.Size([10, 28, 28])\n"
     ]
    }
   ],
   "source": [
    "actual = torch.from_numpy(np.load('Assignment 2/sample_images.npy')).float() / 255.0\n",
    "print(actual.shape)"
   ]
  },
  {
   "cell_type": "code",
   "execution_count": 3,
   "metadata": {},
   "outputs": [
    {
     "name": "stderr",
     "output_type": "stream",
     "text": [
      "100%|██████████| 10000/10000 [04:06<00:00, 40.60it/s]\n"
     ]
    }
   ],
   "source": [
    "query_sudokus = torch.empty((10000, 8, 8, 28, 28))\n",
    "for filename in tqdm(range(0, 10000)):\n",
    "    a = mpimg.imread('Assignment 2/visual_sudoku/train/query/' + str(filename) + '.png')\n",
    "    for i in range(0, 8):\n",
    "        for j in range(0, 8):\n",
    "            query_sudokus[filename][i][j] = torch.from_numpy(a[28*i : 28*(i+1), 28*j : 28*(j+1)])\n",
    "        "
   ]
  },
  {
   "cell_type": "code",
   "execution_count": 4,
   "metadata": {},
   "outputs": [
    {
     "name": "stdout",
     "output_type": "stream",
     "text": [
      "torch.Size([640000, 28, 28])\n"
     ]
    }
   ],
   "source": [
    "print(query_sudokus.flatten(0, 2).shape)\n",
    "torch.save(query_sudokus.flatten(0, 2), 'Assignment 2/visual_sudoku/query.pt')\n",
    "#query = torch.load('Assignment 2/visual_sudoku/query.pt')\n",
    "#target = torch.load('Assignment 2/visual_sudoku/target.pt')"
   ]
  },
  {
   "cell_type": "code",
   "execution_count": 2,
   "metadata": {},
   "outputs": [],
   "source": [
    "target = torch.load('Assignment 2/visual_sudoku/target.pt')\n",
    "query = torch.load('Assignment 2/visual_sudoku/query.pt')"
   ]
  },
  {
   "cell_type": "code",
   "execution_count": 7,
   "metadata": {},
   "outputs": [
    {
     "name": "stdout",
     "output_type": "stream",
     "text": [
      "torch.Size([640000])\n"
     ]
    }
   ],
   "source": [
    "tc = target.cuda()\n",
    "qc = query.cuda()\n",
    "diff = tc - qc\n",
    "diffnorm = diff.norm(dim=(1,2))\n",
    "select =diffnorm > 1e-6\n",
    "print(diffnorm.shape)"
   ]
  },
  {
   "cell_type": "code",
   "execution_count": 8,
   "metadata": {},
   "outputs": [
    {
     "name": "stdout",
     "output_type": "stream",
     "text": [
      "tensor([1, 0, 0, 1, 1, 0, 1, 0, 0, 0, 0, 0, 0, 1, 1, 0, 1, 0, 1, 0, 0, 1, 0, 0,\n",
      "        1, 0, 1, 0, 0, 0, 0, 1, 0, 0, 1, 1, 1, 1, 1, 1, 0, 0, 0, 1, 1, 1, 0, 1,\n",
      "        0, 1, 1, 1, 1, 1, 0, 0, 0, 0, 1, 1, 1, 1, 0, 1, 1, 1, 1, 0, 1, 1, 0, 0,\n",
      "        1, 0, 1, 1, 0, 1, 1, 1, 0, 1, 0, 0, 0, 0, 0, 1, 1, 1, 1, 0, 1, 0, 0, 1,\n",
      "        0, 0, 0, 0], device='cuda:0', dtype=torch.uint8)\n"
     ]
    }
   ],
   "source": [
    "print(select[:100])"
   ]
  },
  {
   "cell_type": "code",
   "execution_count": 18,
   "metadata": {},
   "outputs": [],
   "source": [
    "zeros = query[select]"
   ]
  },
  {
   "cell_type": "code",
   "execution_count": 24,
   "metadata": {},
   "outputs": [
    {
     "name": "stdout",
     "output_type": "stream",
     "text": [
      "torch.Size([316415, 28, 28])\n"
     ]
    }
   ],
   "source": [
    "print(zeros.shape)\n",
    "torch.save(zeros, 'Assignment 2/visual_sudoku/zeros.pt')"
   ]
  },
  {
   "cell_type": "code",
   "execution_count": null,
   "metadata": {},
   "outputs": [],
   "source": []
  }
 ],
 "metadata": {
  "kernelspec": {
   "display_name": "Python 3",
   "language": "python",
   "name": "python3"
  },
  "language_info": {
   "codemirror_mode": {
    "name": "ipython",
    "version": 3
   },
   "file_extension": ".py",
   "mimetype": "text/x-python",
   "name": "python",
   "nbconvert_exporter": "python",
   "pygments_lexer": "ipython3",
   "version": "3.6.10"
  }
 },
 "nbformat": 4,
 "nbformat_minor": 4
}
