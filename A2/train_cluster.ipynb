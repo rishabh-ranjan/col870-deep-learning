{
 "cells": [
  {
   "cell_type": "code",
   "execution_count": 1,
   "metadata": {},
   "outputs": [],
   "source": [
    "import numpy as np\n",
    "from sklearn.cluster import KMeans\n",
    "from sklearn.decomposition import PCA\n",
    "from sklearn.metrics import classification_report\n",
    "from sklearn.mixture import GaussianMixture\n",
    "import torch"
   ]
  },
  {
   "cell_type": "code",
   "execution_count": 42,
   "metadata": {},
   "outputs": [],
   "source": [
    "target_X = torch.load('data/pt-cache/target_X_split.pt')\n",
    "target_y = torch.load('data/pt-cache/target_y.pt')\n",
    "query_X = torch.load('data/pt-cache/query_X_split.pt')\n",
    "query_y = torch.load('data/pt-cache/query_y.pt')"
   ]
  },
  {
   "cell_type": "code",
   "execution_count": 46,
   "metadata": {},
   "outputs": [],
   "source": [
    "# zeros = (~torch.all(target_X.view(-1,784)==query_X.view(-1,784), dim=-1)).numpy().astype('bool')\n",
    "# torch.save(torch.tensor(zeros), 'data/pt-cache/zeros.pt')\n",
    "zeros = torch.load('data/pt-cache/zeros.pt')"
   ]
  },
  {
   "cell_type": "code",
   "execution_count": 49,
   "metadata": {},
   "outputs": [],
   "source": [
    "target_X = target_X.view(-1,784).numpy().astype('float')\n",
    "target_y = target_y.numpy().astype('int')"
   ]
  },
  {
   "cell_type": "code",
   "execution_count": 50,
   "metadata": {},
   "outputs": [],
   "source": [
    "query_X = query_X.view(-1,784).numpy().astype('float')\n",
    "query_y = query_y.numpy().astype('int')"
   ]
  },
  {
   "cell_type": "code",
   "execution_count": 51,
   "metadata": {},
   "outputs": [],
   "source": [
    "sample_X = (np.load('data/sample_images.npy')/127.5-1)[:9,:].reshape(-1,784)\n",
    "sample_y = np.arange(sample_X.shape[0])"
   ]
  },
  {
   "cell_type": "code",
   "execution_count": 11,
   "metadata": {},
   "outputs": [],
   "source": [
    "# pca_target = PCA(n_components=0.99)\n",
    "# target_pca = pca_target.fit_transform(target_X)\n",
    "# torch.save(pca_target, 'data/pt-cache/pca_target.pt')\n",
    "pca_target = torch.load('data/pt-cache/pca_target.pt')\n",
    "target_pca = pca_target.transform(target_X)\n",
    "sample_pca = pca_target.transform(sample_X)"
   ]
  },
  {
   "cell_type": "code",
   "execution_count": 52,
   "metadata": {},
   "outputs": [
    {
     "name": "stdout",
     "output_type": "stream",
     "text": [
      "              precision    recall  f1-score   support\n",
      "\n",
      "           1       0.77      0.93      0.84     80000\n",
      "           2       0.92      0.87      0.89     80000\n",
      "           3       0.99      0.87      0.93     80000\n",
      "           4       0.54      0.56      0.55     80000\n",
      "           5       0.96      0.80      0.87     80000\n",
      "           6       0.93      0.88      0.90     80000\n",
      "           7       0.51      0.56      0.54     80000\n",
      "           8       0.90      0.94      0.92     80000\n",
      "\n",
      "    accuracy                           0.80    640000\n",
      "   macro avg       0.81      0.80      0.81    640000\n",
      "weighted avg       0.81      0.80      0.81    640000\n",
      "\n"
     ]
    }
   ],
   "source": [
    "# kmeans_target = KMeans(n_clusters=8)\n",
    "# target_pred = kmeans_target.fit_predict(target_pca)\n",
    "# torch.save(kmeans_target, 'data/pt-cache/kmeans_target.pt')\n",
    "kmeans_target = torch.load('data/pt-cache/kmeans_target.pt')\n",
    "sample_pred = kmeans_target.predict(sample_pca)\n",
    "cluster_map = np.empty(8).astype('int')\n",
    "cluster_map[sample_pred] = sample_y\n",
    "target_pred = cluster_map[kmeans_target.predict(target_pca)]\n",
    "torch.save(torch.tensor(target_pred), 'data/pt-cache/target_pred.pt')\n",
    "print(classification_report(target_y, target_pred))"
   ]
  },
  {
   "cell_type": "code",
   "execution_count": 53,
   "metadata": {},
   "outputs": [
    {
     "name": "stdout",
     "output_type": "stream",
     "text": [
      "              precision    recall  f1-score   support\n",
      "\n",
      "           0       1.00      1.00      1.00    316413\n",
      "           1       0.76      0.93      0.84     40470\n",
      "           2       0.92      0.87      0.89     40442\n",
      "           3       0.99      0.88      0.93     40303\n",
      "           4       0.54      0.56      0.55     40542\n",
      "           5       0.96      0.80      0.87     40424\n",
      "           6       0.93      0.88      0.90     40245\n",
      "           7       0.51      0.56      0.54     40765\n",
      "           8       0.90      0.94      0.92     40396\n",
      "\n",
      "    accuracy                           0.90    640000\n",
      "   macro avg       0.83      0.82      0.83    640000\n",
      "weighted avg       0.91      0.90      0.90    640000\n",
      "\n"
     ]
    }
   ],
   "source": [
    "query_pca = pca_target.transform(query_X)\n",
    "query_pred_adv = cluster_map[kmeans_target.predict(query_pca)]\n",
    "query_pred_adv[zeros] = 0\n",
    "torch.save(torch.tensor(query_pred_adv), 'data/pt-cache/query_pred_adv.pt')\n",
    "print(classification_report(query_y, query_pred_adv))"
   ]
  },
  {
   "cell_type": "code",
   "execution_count": 54,
   "metadata": {},
   "outputs": [],
   "source": [
    "# pca_query = PCA(n_components=0.99)\n",
    "# query_pca = pca_query.fit_transform(query_X)\n",
    "# torch.save(pca_query, 'data/pt-cache/pca_query.pt')\n",
    "pca_query = torch.load('data/pt-cache/pca_query.pt')\n",
    "query_pca = pca_query.transform(query_X)\n",
    "sample_pca = pca_query.transform(sample_X)"
   ]
  },
  {
   "cell_type": "code",
   "execution_count": 55,
   "metadata": {},
   "outputs": [
    {
     "name": "stderr",
     "output_type": "stream",
     "text": [
      "/home/apps/anaconda3_2018/4.6.9/lib/python3.6/site-packages/sklearn/metrics/_classification.py:1221: UndefinedMetricWarning: Precision and F-score are ill-defined and being set to 0.0 in labels with no predicted samples. Use `zero_division` parameter to control this behavior.\n",
      "  _warn_prf(average, modifier, msg_start, len(result))\n",
      "/home/apps/anaconda3_2018/4.6.9/lib/python3.6/site-packages/sklearn/metrics/_classification.py:1221: UndefinedMetricWarning: Recall and F-score are ill-defined and being set to 0.0 in labels with no true samples. Use `zero_division` parameter to control this behavior.\n",
      "  _warn_prf(average, modifier, msg_start, len(result))\n"
     ]
    },
    {
     "name": "stdout",
     "output_type": "stream",
     "text": [
      "              precision    recall  f1-score   support\n",
      "\n",
      "           0       1.00      0.20      0.34    316413\n",
      "           1       0.00      0.00      0.00     40470\n",
      "           2       0.00      0.00      0.00     40442\n",
      "           3       0.90      0.86      0.88     40303\n",
      "           4       0.00      0.00      0.00     40542\n",
      "           5       0.52      0.96      0.68     40424\n",
      "           6       0.86      0.92      0.89     40245\n",
      "           7       0.45      0.90      0.60     40765\n",
      "           8       0.36      0.99      0.53     40396\n",
      "         186       0.00      0.00      0.00         0\n",
      "         207       0.00      0.00      0.00         0\n",
      "         293       0.00      0.00      0.00         0\n",
      "\n",
      "    accuracy                           0.39    640000\n",
      "   macro avg       0.34      0.40      0.33    640000\n",
      "weighted avg       0.69      0.39      0.39    640000\n",
      "\n"
     ]
    }
   ],
   "source": [
    "kmeans_query = KMeans(n_clusters=9)\n",
    "query_pred = kmeans_query.fit_predict(query_pca)\n",
    "torch.save(kmeans_query, 'data/pt-cache/kmeans_query.pt')\n",
    "kmeans_query = torch.load('data/pt-cache/kmeans_query.pt')\n",
    "sample_pred = kmeans_query.predict(sample_pca)\n",
    "cluster_map = np.empty(9).astype('int')\n",
    "cluster_map[sample_pred] = sample_y\n",
    "query_pred = cluster_map[kmeans_query.predict(query_pca)]\n",
    "torch.save(torch.tensor(query_pred), 'data/pt-cache/query_pred.pt')\n",
    "print(classification_report(query_y, query_pred))"
   ]
  },
  {
   "cell_type": "code",
   "execution_count": null,
   "metadata": {},
   "outputs": [],
   "source": []
  }
 ],
 "metadata": {
  "kernelspec": {
   "display_name": "Python 3",
   "language": "python",
   "name": "python3"
  },
  "language_info": {
   "codemirror_mode": {
    "name": "ipython",
    "version": 3
   },
   "file_extension": ".py",
   "mimetype": "text/x-python",
   "name": "python",
   "nbconvert_exporter": "python",
   "pygments_lexer": "ipython3",
   "version": "3.6.10"
  }
 },
 "nbformat": 4,
 "nbformat_minor": 4
}
