{
 "cells": [
  {
   "cell_type": "code",
   "execution_count": 1,
   "metadata": {},
   "outputs": [],
   "source": [
    "from PIL import Image\n",
    "import matplotlib.pyplot as plt\n",
    "plt.rcParams['image.cmap'] = 'gray'\n",
    "from sklearn.model_selection import train_test_split\n",
    "import torch\n",
    "from torch import nn, optim\n",
    "import torch.nn.functional as F\n",
    "from torch.utils.data import DataLoader, TensorDataset\n",
    "from torchvision import datasets, transforms, utils\n",
    "from tqdm.auto import tqdm\n",
    "import functools as ft"
   ]
  },
  {
   "cell_type": "code",
   "execution_count": 2,
   "metadata": {},
   "outputs": [
    {
     "data": {
      "text/plain": [
       "device(type='cuda')"
      ]
     },
     "execution_count": 2,
     "metadata": {},
     "output_type": "execute_result"
    }
   ],
   "source": [
    "device = torch.device('cuda' if torch.cuda.is_available() else 'cpu')\n",
    "device"
   ]
  },
  {
   "cell_type": "code",
   "execution_count": 12,
   "metadata": {},
   "outputs": [],
   "source": [
    "def load_sudoku_images(path, total, device, normalize=False):\n",
    "    sudoku_img = torch.empty(total,8*28,8*28, device=device)\n",
    "    if normalize:\n",
    "        transform = transforms.Compose((\n",
    "            transforms.ToTensor(),\n",
    "            transforms.Normalize((0.5,),(0.5,))))\n",
    "    else:\n",
    "        transform = transforms.ToTensor()\n",
    "    for i in tqdm(range(total), 'sudoku images'):\n",
    "        sudoku_img[i] = transform(Image.open(f'{path}/{i}.png'))\n",
    "    return sudoku_img"
   ]
  },
  {
   "cell_type": "code",
   "execution_count": 13,
   "metadata": {},
   "outputs": [],
   "source": [
    "def as_digit_images(sudoku_img):\n",
    "    return torch.stack(torch.split(\n",
    "        torch.stack(torch.split(sudoku_img, [28]*8, dim=-2), dim=-3),\n",
    "        [28]*8, dim=-1), dim=-3)"
   ]
  },
  {
   "cell_type": "code",
   "execution_count": 21,
   "metadata": {},
   "outputs": [],
   "source": [
    "#sudoku_img = load_sudoku_images('data/query', 10000, device, normalize=True)\n",
    "#torch.save(sudoku_img, 'data/pt-cache/query_sudoku_img_norm.pt')\n",
    "#sudoku_img = torch.load('data/pt-cache/query_sudoku_img_norm.pt')"
   ]
  },
  {
   "cell_type": "code",
   "execution_count": 22,
   "metadata": {},
   "outputs": [],
   "source": [
    "#digit_img = as_digit_images(sudoku_img)\n",
    "#torch.save(digit_img, 'data/pt-cache/query_digit_img_norm.pt')\n",
    "digit_img = torch.load('data/pt-cache/query_digit_img_norm.pt')"
   ]
  },
  {
   "cell_type": "code",
   "execution_count": 23,
   "metadata": {},
   "outputs": [],
   "source": [
    "full_X = digit_img.view(-1,1,28,28)\n",
    "full_y = torch.load('data/pt-cache/query_y.pt')\n",
    "class_size = torch.min(torch.bincount(full_y))\n",
    "bal_X = torch.cat([full_X[full_y==i][:class_size] for i in range(9)])\n",
    "bal_y = torch.cat([full_y[full_y==i][:class_size] for i in range(9)])\n",
    "train_X, test_X, train_y, test_y = train_test_split(\n",
    "    bal_X, bal_y, test_size=10000, stratify=bal_y)"
   ]
  },
  {
   "cell_type": "code",
   "execution_count": 67,
   "metadata": {},
   "outputs": [],
   "source": [
    "class Generator(nn.Module):\n",
    "    def __init__(self):\n",
    "        super().__init__()\n",
    "        make_block = lambda i, o, k, s: nn.Sequential(\n",
    "            nn.ConvTranspose2d(i, o, k, s),\n",
    "            nn.BatchNorm2d(o),\n",
    "            nn.ReLU()\n",
    "        )\n",
    "        self.gen = nn.Sequential(\n",
    "            make_block(73, 256, 3, 2),\n",
    "            make_block(256, 128, 4, 1),\n",
    "            make_block(128, 64, 3, 2),\n",
    "            nn.ConvTranspose2d(64, 1, 4, 2),\n",
    "            nn.Tanh()\n",
    "        )\n",
    "\n",
    "    def forward(self, Z, Y):\n",
    "        return self.gen(torch.cat((Z,Y), dim=1).view(-1,73,1,1))"
   ]
  },
  {
   "cell_type": "code",
   "execution_count": 68,
   "metadata": {},
   "outputs": [],
   "source": [
    "class Discriminator(nn.Module):\n",
    "    def __init__(self):\n",
    "        super().__init__()\n",
    "        make_block = lambda i, o, k, s: nn.Sequential(\n",
    "            nn.Conv2d(i, o, k, s),\n",
    "            nn.BatchNorm2d(o),\n",
    "            nn.LeakyReLU(0.2)\n",
    "        )\n",
    "        self.disc = nn.Sequential(\n",
    "            make_block(10,64,4,2),\n",
    "            make_block(64,128,4,2),\n",
    "            nn.Conv2d(128,1,4,2)\n",
    "        )\n",
    "\n",
    "    def forward(self, X, Y):\n",
    "        return self.disc(torch.cat((X, Y[:,:,None,None].repeat(1,1,28,28)), dim=1))"
   ]
  },
  {
   "cell_type": "code",
   "execution_count": 69,
   "metadata": {},
   "outputs": [],
   "source": [
    "def viz_images(img):\n",
    "    plt.imshow(utils.make_grid((img/2+0.5).detach().cpu(), nrow=10).permute(1,2,0))"
   ]
  },
  {
   "cell_type": "code",
   "execution_count": 70,
   "metadata": {
    "scrolled": true
   },
   "outputs": [],
   "source": [
    "gen = Generator().to(device)\n",
    "disc = Discriminator().to(device)\n",
    "disc_opt = optim.Adam(disc.parameters(), lr=2e-4)\n",
    "gen_opt = optim.Adam(gen.parameters(), lr=2e-4)\n",
    "train_loader = DataLoader(TensorDataset(train_X.to(device), train_y.to(device)), batch_size=128, shuffle=True)\n",
    "criterion = nn.BCEWithLogitsLoss()"
   ]
  },
  {
   "cell_type": "code",
   "execution_count": 71,
   "metadata": {},
   "outputs": [],
   "source": [
    "def weights_init(m):\n",
    "    if isinstance(m, nn.Conv2d) or isinstance(m, nn.ConvTranspose2d):\n",
    "        torch.nn.init.normal_(m.weight, 0.0, 0.02)\n",
    "    if isinstance(m, nn.BatchNorm2d):\n",
    "        torch.nn.init.normal_(m.weight, 0.0, 0.02)\n",
    "        torch.nn.init.constant_(m.bias, 0)\n",
    "gen = gen.apply(weights_init)\n",
    "disc = disc.apply(weights_init)"
   ]
  },
  {
   "cell_type": "code",
   "execution_count": null,
   "metadata": {
    "scrolled": true
   },
   "outputs": [
    {
     "data": {
      "application/vnd.jupyter.widget-view+json": {
       "model_id": "944ea442e74d4818b7fe751ba277deec",
       "version_major": 2,
       "version_minor": 0
      },
      "text/plain": [
       "HBox(children=(HTML(value='epochs'), FloatProgress(value=0.0), HTML(value='')))"
      ]
     },
     "metadata": {},
     "output_type": "display_data"
    },
    {
     "data": {
      "application/vnd.jupyter.widget-view+json": {
       "model_id": "38ee3bc447714d31ba1782163c111733",
       "version_major": 2,
       "version_minor": 0
      },
      "text/plain": [
       "HBox(children=(HTML(value='batches'), FloatProgress(value=0.0, max=2752.0), HTML(value='')))"
      ]
     },
     "metadata": {},
     "output_type": "display_data"
    }
   ],
   "source": [
    "n_epochs = 100\n",
    "disc_losses = []\n",
    "gen_losses = []\n",
    "# tqdm.__init__ = ft.partialmethod(tqdm.__init__, disable=True)\n",
    "ctr = 0\n",
    "for epoch in tqdm(range(n_epochs), 'epochs'):\n",
    "    for real_X, real_y in tqdm(train_loader, 'batches'):\n",
    "        ctr += 1\n",
    "        \n",
    "        real_Y = F.one_hot(real_y.long(), num_classes=9).float()\n",
    "        real_yhat = disc(real_X, real_Y)\n",
    "        real_loss = criterion(real_yhat, torch.ones_like(real_yhat))\n",
    "        \n",
    "        Z = torch.rand(real_X.shape[0],64, device=device)\n",
    "        fake_X = gen(Z, real_Y)\n",
    "        fake_yhat = disc(fake_X.detach(), real_Y)\n",
    "        fake_loss = criterion(fake_yhat, torch.zeros_like(fake_yhat))\n",
    "        \n",
    "        disc_loss = (real_loss + fake_loss)/2\n",
    "        disc_opt.zero_grad()\n",
    "        disc_loss.backward(retain_graph=True)\n",
    "        nn.utils.clip_grad_norm_(disc.parameters(), 5)\n",
    "        disc_opt.step()\n",
    "        disc_losses.append(disc_loss.item())\n",
    "        \n",
    "        fake_yhat = disc(fake_X, real_Y)\n",
    "        gen_loss = criterion(fake_yhat, torch.ones_like(fake_yhat))\n",
    "        gen_opt.zero_grad()\n",
    "        gen_loss.backward()\n",
    "        nn.utils.clip_grad_norm_(gen.parameters(), 5)\n",
    "        gen_opt.step()\n",
    "        gen_losses.append(gen_loss.item())\n",
    "        \n",
    "        if ctr % 500 == 499:\n",
    "            plt.figure(figsize=(12,5))\n",
    "            plt.subplot(121)\n",
    "            viz_images(fake_X[:100])\n",
    "            plt.subplot(122)\n",
    "            viz_images(real_X[:100])\n",
    "            plt.suptitle(f'epoch: {epoch}    gen loss: {gen_loss:.5f}    disc loss: {disc_loss:.5f}')\n",
    "            plt.show()\n",
    "            plt.close()\n",
    "\n",
    "            plt.figure()\n",
    "            plt.plot(disc_losses, label='discriminator')\n",
    "            plt.plot(gen_losses, label='generator')\n",
    "            plt.legend()\n",
    "            plt.xlabel('batches')\n",
    "            plt.ylabel('loss')\n",
    "            plt.title('Loss Curves')\n",
    "            plt.show()\n",
    "            plt.close()\n",
    "\n",
    "    torch.save(gen.state_dict(), f'data/pt-cache/nice_gen.{epoch}.pt')\n",
    "    print(f'gen.state_dict() saved in: data/pt-cache/nice_gen.{epoch}.pt')\n",
    "    torch.save(disc.state_dict(), f'data/pt-cache/nice_disc.{epoch}.pt')\n",
    "    print(f'disc.state_dict() saved in: data/pt-cache/nice_disc.{epoch}.pt')"
   ]
  },
  {
   "cell_type": "code",
   "execution_count": null,
   "metadata": {},
   "outputs": [],
   "source": []
  }
 ],
 "metadata": {
  "kernelspec": {
   "display_name": "Python 3",
   "language": "python",
   "name": "python3"
  },
  "language_info": {
   "codemirror_mode": {
    "name": "ipython",
    "version": 3
   },
   "file_extension": ".py",
   "mimetype": "text/x-python",
   "name": "python",
   "nbconvert_exporter": "python",
   "pygments_lexer": "ipython3",
   "version": "3.6.10"
  }
 },
 "nbformat": 4,
 "nbformat_minor": 4
}
