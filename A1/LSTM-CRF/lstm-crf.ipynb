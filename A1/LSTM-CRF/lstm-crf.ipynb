{
 "cells": [
  {
   "cell_type": "code",
   "execution_count": 1,
   "metadata": {},
   "outputs": [
    {
     "name": "stdout",
     "output_type": "stream",
     "text": [
      "device: cuda\n"
     ]
    }
   ],
   "source": [
    "import IPython as ipy\n",
    "import matplotlib.pyplot as plt\n",
    "import numpy as np\n",
    "import torch\n",
    "import torch.nn as nn\n",
    "import torch.nn.functional as F\n",
    "import torch.nn.utils\n",
    "import torch.optim as optim\n",
    "import torch.utils.data as data\n",
    "from tqdm.auto import tqdm\n",
    "\n",
    "import itertools as it\n",
    "import time\n",
    "\n",
    "from ner import *\n",
    "\n",
    "device = torch.device('cuda' if torch.cuda.is_available() else 'cpu')\n",
    "print('device:', device)"
   ]
  },
  {
   "cell_type": "code",
   "execution_count": 2,
   "metadata": {},
   "outputs": [],
   "source": [
    "#tok_to_id, glv_emb = load_emb('data/glove/glove.6B.100d.txt', int(4e5))\n",
    "#torch.save((tok_to_id, glv_emb), 'data/pt-cache/tok_to_id__glv_emb.pt')\n",
    "tok_to_id, glv_emb = torch.load('data/pt-cache/tok_to_id__glv_emb.pt')"
   ]
  },
  {
   "cell_type": "code",
   "execution_count": 3,
   "metadata": {},
   "outputs": [],
   "source": [
    "#chr_to_id = load_chrs('data/ner-gmb/train.txt')\n",
    "#torch.save(chr_to_id, 'data/pt-cache/chr_to_id.pt')\n",
    "chr_to_id = torch.load('data/pt-cache/chr_to_id.pt')"
   ]
  },
  {
   "cell_type": "code",
   "execution_count": 4,
   "metadata": {},
   "outputs": [],
   "source": [
    "#lbl_to_id, id_to_lbl = load_classes('data/ner-gmb/train.txt')\n",
    "#torch.save((lbl_to_id, id_to_lbl), 'data/pt-cache/lbl_to_id__id_to_lbl')\n",
    "lbl_to_id, id_to_lbl = torch.load('data/pt-cache/lbl_to_id__id_to_lbl')"
   ]
  },
  {
   "cell_type": "code",
   "execution_count": 5,
   "metadata": {},
   "outputs": [],
   "source": [
    "#train_W, train_X, train_Y = load_data('data/ner-gmb/train.txt', tok_to_id, lbl_to_id, chr_to_id)\n",
    "#torch.save((train_W, train_X, train_Y), 'data/pt-cache/train_W__train_X__train_Y.pt')\n",
    "train_W, train_X, train_Y = torch.load('data/pt-cache/train_W__train_X__train_Y.pt')"
   ]
  },
  {
   "cell_type": "code",
   "execution_count": 6,
   "metadata": {},
   "outputs": [],
   "source": [
    "#dev_W, dev_X, dev_Y = load_data('data/ner-gmb/dev.txt', tok_to_id, lbl_to_id, chr_to_id)\n",
    "#torch.save((dev_W, dev_X, dev_Y), 'data/pt-cache/dev_W__dev_X__dev_Y.pt')\n",
    "dev_W, dev_X, dev_Y = torch.load('data/pt-cache/dev_W__dev_X__dev_Y.pt')"
   ]
  },
  {
   "cell_type": "code",
   "execution_count": 7,
   "metadata": {},
   "outputs": [],
   "source": [
    "#test_W, test_X, test_Y = load_data('data/ner-gmb/test.txt', tok_to_id, lbl_to_id, chr_to_id)\n",
    "#torch.save((test_W, test_X, test_Y), 'data/pt-cache/test_W__test_X__test_Y.pt')\n",
    "test_W, test_X, test_Y = torch.load('data/pt-cache/test_W__test_X__test_Y.pt')"
   ]
  },
  {
   "cell_type": "code",
   "execution_count": 8,
   "metadata": {},
   "outputs": [],
   "source": [
    "train_W = train_W.to(device)\n",
    "train_X = train_X.to(device)\n",
    "train_Y = train_Y.to(device)"
   ]
  },
  {
   "cell_type": "code",
   "execution_count": 9,
   "metadata": {},
   "outputs": [],
   "source": [
    "dev_W = dev_W.to(device)\n",
    "dev_X = dev_X.to(device)\n",
    "dev_Y = dev_Y.to(device)"
   ]
  },
  {
   "cell_type": "code",
   "execution_count": 10,
   "metadata": {},
   "outputs": [],
   "source": [
    "test_W = test_W.to(device)\n",
    "test_X = test_X.to(device)\n",
    "test_Y = test_Y.to(device)"
   ]
  },
  {
   "cell_type": "code",
   "execution_count": 15,
   "metadata": {},
   "outputs": [],
   "source": [
    "assert(lbl_to_id['PAD_LBL'] == len(lbl_to_id)-1)\n",
    "rand_model = NERModel(\n",
    "    embed_model=TokEmbModel(\n",
    "        init_emb=torch.randn(len(tok_to_id), 100),\n",
    "        pad_tok_id=tok_to_id['PAD_TOK']\n",
    "    ),\n",
    "    seq_tag_model=SeqTagModel(\n",
    "        input_size=100,\n",
    "        hidden_size=100,\n",
    "        output_size=len(lbl_to_id)-1,\n",
    "        dropout_prob=0.5,\n",
    "    ),\n",
    "    pad_lbl_id=lbl_to_id['PAD_LBL'],\n",
    "    pad_tok_id=tok_to_id['PAD_TOK']\n",
    ")\n",
    "#rand_model.load_state_dict(torch.load('data/pt-cache/rand_model.pt'))"
   ]
  },
  {
   "cell_type": "code",
   "execution_count": 16,
   "metadata": {
    "scrolled": true
   },
   "outputs": [
    {
     "data": {
      "application/vnd.jupyter.widget-view+json": {
       "model_id": "6480034621dc484da9dffa623e6c639a",
       "version_major": 2,
       "version_minor": 0
      },
      "text/plain": [
       "HBox(children=(HTML(value='epochs'), FloatProgress(value=0.0), HTML(value='')))"
      ]
     },
     "metadata": {},
     "output_type": "display_data"
    },
    {
     "data": {
      "application/vnd.jupyter.widget-view+json": {
       "model_id": "",
       "version_major": 2,
       "version_minor": 0
      },
      "text/plain": [
       "HBox(children=(HTML(value='batches'), FloatProgress(value=0.0, max=291.0), HTML(value='')))"
      ]
     },
     "metadata": {},
     "output_type": "display_data"
    },
    {
     "name": "stdout",
     "output_type": "stream",
     "text": [
      "0.0009997532801828658\n"
     ]
    },
    {
     "data": {
      "application/vnd.jupyter.widget-view+json": {
       "model_id": "",
       "version_major": 2,
       "version_minor": 0
      },
      "text/plain": [
       "HBox(children=(HTML(value='batches'), FloatProgress(value=0.0, max=291.0), HTML(value='')))"
      ]
     },
     "metadata": {},
     "output_type": "display_data"
    },
    {
     "name": "stdout",
     "output_type": "stream",
     "text": [
      "0.0009990133642141358\n"
     ]
    },
    {
     "data": {
      "application/vnd.jupyter.widget-view+json": {
       "model_id": "",
       "version_major": 2,
       "version_minor": 0
      },
      "text/plain": [
       "HBox(children=(HTML(value='batches'), FloatProgress(value=0.0, max=291.0), HTML(value='')))"
      ]
     },
     "metadata": {},
     "output_type": "display_data"
    },
    {
     "name": "stdout",
     "output_type": "stream",
     "text": [
      "0.00099778098230154\n"
     ]
    },
    {
     "data": {
      "application/vnd.jupyter.widget-view+json": {
       "model_id": "",
       "version_major": 2,
       "version_minor": 0
      },
      "text/plain": [
       "HBox(children=(HTML(value='batches'), FloatProgress(value=0.0, max=291.0), HTML(value='')))"
      ]
     },
     "metadata": {},
     "output_type": "display_data"
    },
    {
     "name": "stdout",
     "output_type": "stream",
     "text": [
      "0.000996057350657239\n"
     ]
    },
    {
     "data": {
      "application/vnd.jupyter.widget-view+json": {
       "model_id": "",
       "version_major": 2,
       "version_minor": 0
      },
      "text/plain": [
       "HBox(children=(HTML(value='batches'), FloatProgress(value=0.0, max=291.0), HTML(value='')))"
      ]
     },
     "metadata": {},
     "output_type": "display_data"
    },
    {
     "name": "stdout",
     "output_type": "stream",
     "text": [
      "0.0009938441702975688\n"
     ]
    },
    {
     "data": {
      "application/vnd.jupyter.widget-view+json": {
       "model_id": "",
       "version_major": 2,
       "version_minor": 0
      },
      "text/plain": [
       "HBox(children=(HTML(value='batches'), FloatProgress(value=0.0, max=291.0), HTML(value='')))"
      ]
     },
     "metadata": {},
     "output_type": "display_data"
    },
    {
     "name": "stdout",
     "output_type": "stream",
     "text": [
      "0.0009911436253643444\n"
     ]
    },
    {
     "data": {
      "application/vnd.jupyter.widget-view+json": {
       "model_id": "",
       "version_major": 2,
       "version_minor": 0
      },
      "text/plain": [
       "HBox(children=(HTML(value='batches'), FloatProgress(value=0.0, max=291.0), HTML(value='')))"
      ]
     },
     "metadata": {},
     "output_type": "display_data"
    },
    {
     "name": "stdout",
     "output_type": "stream",
     "text": [
      "0.0009879583809693736\n"
     ]
    },
    {
     "data": {
      "application/vnd.jupyter.widget-view+json": {
       "model_id": "",
       "version_major": 2,
       "version_minor": 0
      },
      "text/plain": [
       "HBox(children=(HTML(value='batches'), FloatProgress(value=0.0, max=291.0), HTML(value='')))"
      ]
     },
     "metadata": {},
     "output_type": "display_data"
    },
    {
     "name": "stdout",
     "output_type": "stream",
     "text": [
      "0.0009842915805643154\n"
     ]
    },
    {
     "data": {
      "application/vnd.jupyter.widget-view+json": {
       "model_id": "",
       "version_major": 2,
       "version_minor": 0
      },
      "text/plain": [
       "HBox(children=(HTML(value='batches'), FloatProgress(value=0.0, max=291.0), HTML(value='')))"
      ]
     },
     "metadata": {},
     "output_type": "display_data"
    },
    {
     "name": "stdout",
     "output_type": "stream",
     "text": [
      "0.0009801468428384714\n"
     ]
    },
    {
     "data": {
      "application/vnd.jupyter.widget-view+json": {
       "model_id": "",
       "version_major": 2,
       "version_minor": 0
      },
      "text/plain": [
       "HBox(children=(HTML(value='batches'), FloatProgress(value=0.0, max=291.0), HTML(value='')))"
      ]
     },
     "metadata": {},
     "output_type": "display_data"
    },
    {
     "name": "stdout",
     "output_type": "stream",
     "text": [
      "0.0009755282581475767\n"
     ]
    },
    {
     "data": {
      "application/vnd.jupyter.widget-view+json": {
       "model_id": "",
       "version_major": 2,
       "version_minor": 0
      },
      "text/plain": [
       "HBox(children=(HTML(value='batches'), FloatProgress(value=0.0, max=291.0), HTML(value='')))"
      ]
     },
     "metadata": {},
     "output_type": "display_data"
    },
    {
     "name": "stdout",
     "output_type": "stream",
     "text": [
      "0.0009704403844771127\n"
     ]
    },
    {
     "data": {
      "application/vnd.jupyter.widget-view+json": {
       "model_id": "",
       "version_major": 2,
       "version_minor": 0
      },
      "text/plain": [
       "HBox(children=(HTML(value='batches'), FloatProgress(value=0.0, max=291.0), HTML(value='')))"
      ]
     },
     "metadata": {},
     "output_type": "display_data"
    },
    {
     "name": "stdout",
     "output_type": "stream",
     "text": [
      "0.0009648882429441257\n"
     ]
    },
    {
     "data": {
      "application/vnd.jupyter.widget-view+json": {
       "model_id": "",
       "version_major": 2,
       "version_minor": 0
      },
      "text/plain": [
       "HBox(children=(HTML(value='batches'), FloatProgress(value=0.0, max=291.0), HTML(value='')))"
      ]
     },
     "metadata": {},
     "output_type": "display_data"
    },
    {
     "name": "stdout",
     "output_type": "stream",
     "text": [
      "0.0009588773128419905\n"
     ]
    },
    {
     "data": {
      "application/vnd.jupyter.widget-view+json": {
       "model_id": "",
       "version_major": 2,
       "version_minor": 0
      },
      "text/plain": [
       "HBox(children=(HTML(value='batches'), FloatProgress(value=0.0, max=291.0), HTML(value='')))"
      ]
     },
     "metadata": {},
     "output_type": "display_data"
    },
    {
     "name": "stdout",
     "output_type": "stream",
     "text": [
      "0.0009524135262330098\n"
     ]
    },
    {
     "data": {
      "application/vnd.jupyter.widget-view+json": {
       "model_id": "",
       "version_major": 2,
       "version_minor": 0
      },
      "text/plain": [
       "HBox(children=(HTML(value='batches'), FloatProgress(value=0.0, max=291.0), HTML(value='')))"
      ]
     },
     "metadata": {},
     "output_type": "display_data"
    },
    {
     "name": "stdout",
     "output_type": "stream",
     "text": [
      "0.0009455032620941839\n"
     ]
    },
    {
     "data": {
      "application/vnd.jupyter.widget-view+json": {
       "model_id": "",
       "version_major": 2,
       "version_minor": 0
      },
      "text/plain": [
       "HBox(children=(HTML(value='batches'), FloatProgress(value=0.0, max=291.0), HTML(value='')))"
      ]
     },
     "metadata": {},
     "output_type": "display_data"
    },
    {
     "name": "stdout",
     "output_type": "stream",
     "text": [
      "0.0009381533400219318\n"
     ]
    },
    {
     "data": {
      "application/vnd.jupyter.widget-view+json": {
       "model_id": "",
       "version_major": 2,
       "version_minor": 0
      },
      "text/plain": [
       "HBox(children=(HTML(value='batches'), FloatProgress(value=0.0, max=291.0), HTML(value='')))"
      ]
     },
     "metadata": {},
     "output_type": "display_data"
    },
    {
     "name": "stdout",
     "output_type": "stream",
     "text": [
      "0.0009303710135019719\n"
     ]
    },
    {
     "data": {
      "application/vnd.jupyter.widget-view+json": {
       "model_id": "",
       "version_major": 2,
       "version_minor": 0
      },
      "text/plain": [
       "HBox(children=(HTML(value='batches'), FloatProgress(value=0.0, max=291.0), HTML(value='')))"
      ]
     },
     "metadata": {},
     "output_type": "display_data"
    },
    {
     "name": "stdout",
     "output_type": "stream",
     "text": [
      "0.0009221639627510076\n"
     ]
    },
    {
     "data": {
      "application/vnd.jupyter.widget-view+json": {
       "model_id": "",
       "version_major": 2,
       "version_minor": 0
      },
      "text/plain": [
       "HBox(children=(HTML(value='batches'), FloatProgress(value=0.0, max=291.0), HTML(value='')))"
      ]
     },
     "metadata": {},
     "output_type": "display_data"
    },
    {
     "name": "stdout",
     "output_type": "stream",
     "text": [
      "0.000913540287137281\n"
     ]
    },
    {
     "data": {
      "application/vnd.jupyter.widget-view+json": {
       "model_id": "",
       "version_major": 2,
       "version_minor": 0
      },
      "text/plain": [
       "HBox(children=(HTML(value='batches'), FloatProgress(value=0.0, max=291.0), HTML(value='')))"
      ]
     },
     "metadata": {},
     "output_type": "display_data"
    },
    {
     "name": "stdout",
     "output_type": "stream",
     "text": [
      "0.0009045084971874739\n"
     ]
    },
    {
     "data": {
      "application/vnd.jupyter.widget-view+json": {
       "model_id": "",
       "version_major": 2,
       "version_minor": 0
      },
      "text/plain": [
       "HBox(children=(HTML(value='batches'), FloatProgress(value=0.0, max=291.0), HTML(value='')))"
      ]
     },
     "metadata": {},
     "output_type": "display_data"
    },
    {
     "name": "stdout",
     "output_type": "stream",
     "text": [
      "0.0008950775061878452\n"
     ]
    },
    {
     "data": {
      "application/vnd.jupyter.widget-view+json": {
       "model_id": "",
       "version_major": 2,
       "version_minor": 0
      },
      "text/plain": [
       "HBox(children=(HTML(value='batches'), FloatProgress(value=0.0, max=291.0), HTML(value='')))"
      ]
     },
     "metadata": {},
     "output_type": "display_data"
    },
    {
     "name": "stdout",
     "output_type": "stream",
     "text": [
      "0.0008852566213878947\n"
     ]
    },
    {
     "data": {
      "application/vnd.jupyter.widget-view+json": {
       "model_id": "",
       "version_major": 2,
       "version_minor": 0
      },
      "text/plain": [
       "HBox(children=(HTML(value='batches'), FloatProgress(value=0.0, max=291.0), HTML(value='')))"
      ]
     },
     "metadata": {},
     "output_type": "display_data"
    },
    {
     "name": "stdout",
     "output_type": "stream",
     "text": [
      "0.0008750555348152298\n"
     ]
    },
    {
     "data": {
      "application/vnd.jupyter.widget-view+json": {
       "model_id": "",
       "version_major": 2,
       "version_minor": 0
      },
      "text/plain": [
       "HBox(children=(HTML(value='batches'), FloatProgress(value=0.0, max=291.0), HTML(value='')))"
      ]
     },
     "metadata": {},
     "output_type": "display_data"
    },
    {
     "name": "stdout",
     "output_type": "stream",
     "text": [
      "0.0008644843137107057\n"
     ]
    },
    {
     "data": {
      "application/vnd.jupyter.widget-view+json": {
       "model_id": "",
       "version_major": 2,
       "version_minor": 0
      },
      "text/plain": [
       "HBox(children=(HTML(value='batches'), FloatProgress(value=0.0, max=291.0), HTML(value='')))"
      ]
     },
     "metadata": {},
     "output_type": "display_data"
    },
    {
     "name": "stdout",
     "output_type": "stream",
     "text": [
      "0.0008535533905932737\n"
     ]
    },
    {
     "data": {
      "application/vnd.jupyter.widget-view+json": {
       "model_id": "",
       "version_major": 2,
       "version_minor": 0
      },
      "text/plain": [
       "HBox(children=(HTML(value='batches'), FloatProgress(value=0.0, max=291.0), HTML(value='')))"
      ]
     },
     "metadata": {},
     "output_type": "display_data"
    },
    {
     "name": "stdout",
     "output_type": "stream",
     "text": [
      "0.0008422735529643444\n"
     ]
    },
    {
     "data": {
      "application/vnd.jupyter.widget-view+json": {
       "model_id": "",
       "version_major": 2,
       "version_minor": 0
      },
      "text/plain": [
       "HBox(children=(HTML(value='batches'), FloatProgress(value=0.0, max=291.0), HTML(value='')))"
      ]
     },
     "metadata": {},
     "output_type": "display_data"
    },
    {
     "name": "stdout",
     "output_type": "stream",
     "text": [
      "0.0008306559326618259\n"
     ]
    },
    {
     "data": {
      "application/vnd.jupyter.widget-view+json": {
       "model_id": "",
       "version_major": 2,
       "version_minor": 0
      },
      "text/plain": [
       "HBox(children=(HTML(value='batches'), FloatProgress(value=0.0, max=291.0), HTML(value='')))"
      ]
     },
     "metadata": {},
     "output_type": "display_data"
    },
    {
     "name": "stdout",
     "output_type": "stream",
     "text": [
      "0.0008187119948743449\n"
     ]
    },
    {
     "data": {
      "application/vnd.jupyter.widget-view+json": {
       "model_id": "",
       "version_major": 2,
       "version_minor": 0
      },
      "text/plain": [
       "HBox(children=(HTML(value='batches'), FloatProgress(value=0.0, max=291.0), HTML(value='')))"
      ]
     },
     "metadata": {},
     "output_type": "display_data"
    },
    {
     "name": "stdout",
     "output_type": "stream",
     "text": [
      "0.0008064535268264883\n"
     ]
    },
    {
     "data": {
      "application/vnd.jupyter.widget-view+json": {
       "model_id": "",
       "version_major": 2,
       "version_minor": 0
      },
      "text/plain": [
       "HBox(children=(HTML(value='batches'), FloatProgress(value=0.0, max=291.0), HTML(value='')))"
      ]
     },
     "metadata": {},
     "output_type": "display_data"
    },
    {
     "name": "stdout",
     "output_type": "stream",
     "text": [
      "0.0007938926261462367\n"
     ]
    },
    {
     "data": {
      "application/vnd.jupyter.widget-view+json": {
       "model_id": "",
       "version_major": 2,
       "version_minor": 0
      },
      "text/plain": [
       "HBox(children=(HTML(value='batches'), FloatProgress(value=0.0, max=291.0), HTML(value='')))"
      ]
     },
     "metadata": {},
     "output_type": "display_data"
    },
    {
     "name": "stdout",
     "output_type": "stream",
     "text": [
      "0.0007810416889260654\n"
     ]
    },
    {
     "data": {
      "application/vnd.jupyter.widget-view+json": {
       "model_id": "",
       "version_major": 2,
       "version_minor": 0
      },
      "text/plain": [
       "HBox(children=(HTML(value='batches'), FloatProgress(value=0.0, max=291.0), HTML(value='')))"
      ]
     },
     "metadata": {},
     "output_type": "display_data"
    },
    {
     "name": "stdout",
     "output_type": "stream",
     "text": [
      "0.0007679133974894983\n"
     ]
    },
    {
     "data": {
      "application/vnd.jupyter.widget-view+json": {
       "model_id": "",
       "version_major": 2,
       "version_minor": 0
      },
      "text/plain": [
       "HBox(children=(HTML(value='batches'), FloatProgress(value=0.0, max=291.0), HTML(value='')))"
      ]
     },
     "metadata": {},
     "output_type": "display_data"
    },
    {
     "name": "stdout",
     "output_type": "stream",
     "text": [
      "0.0007545207078751857\n"
     ]
    },
    {
     "data": {
      "application/vnd.jupyter.widget-view+json": {
       "model_id": "",
       "version_major": 2,
       "version_minor": 0
      },
      "text/plain": [
       "HBox(children=(HTML(value='batches'), FloatProgress(value=0.0, max=291.0), HTML(value='')))"
      ]
     },
     "metadata": {},
     "output_type": "display_data"
    },
    {
     "name": "stdout",
     "output_type": "stream",
     "text": [
      "0.0007408768370508577\n"
     ]
    },
    {
     "data": {
      "application/vnd.jupyter.widget-view+json": {
       "model_id": "",
       "version_major": 2,
       "version_minor": 0
      },
      "text/plain": [
       "HBox(children=(HTML(value='batches'), FloatProgress(value=0.0, max=291.0), HTML(value='')))"
      ]
     },
     "metadata": {},
     "output_type": "display_data"
    },
    {
     "name": "stdout",
     "output_type": "stream",
     "text": [
      "0.0007269952498697734\n"
     ]
    },
    {
     "data": {
      "application/vnd.jupyter.widget-view+json": {
       "model_id": "",
       "version_major": 2,
       "version_minor": 0
      },
      "text/plain": [
       "HBox(children=(HTML(value='batches'), FloatProgress(value=0.0, max=291.0), HTML(value='')))"
      ]
     },
     "metadata": {},
     "output_type": "display_data"
    },
    {
     "name": "stdout",
     "output_type": "stream",
     "text": [
      "0.0007128896457825364\n"
     ]
    },
    {
     "data": {
      "application/vnd.jupyter.widget-view+json": {
       "model_id": "",
       "version_major": 2,
       "version_minor": 0
      },
      "text/plain": [
       "HBox(children=(HTML(value='batches'), FloatProgress(value=0.0, max=291.0), HTML(value='')))"
      ]
     },
     "metadata": {},
     "output_type": "display_data"
    },
    {
     "name": "stdout",
     "output_type": "stream",
     "text": [
      "0.0006985739453173903\n"
     ]
    },
    {
     "data": {
      "application/vnd.jupyter.widget-view+json": {
       "model_id": "",
       "version_major": 2,
       "version_minor": 0
      },
      "text/plain": [
       "HBox(children=(HTML(value='batches'), FloatProgress(value=0.0, max=291.0), HTML(value='')))"
      ]
     },
     "metadata": {},
     "output_type": "display_data"
    },
    {
     "name": "stdout",
     "output_type": "stream",
     "text": [
      "0.0006840622763423391\n"
     ]
    },
    {
     "data": {
      "application/vnd.jupyter.widget-view+json": {
       "model_id": "",
       "version_major": 2,
       "version_minor": 0
      },
      "text/plain": [
       "HBox(children=(HTML(value='batches'), FloatProgress(value=0.0, max=291.0), HTML(value='')))"
      ]
     },
     "metadata": {},
     "output_type": "display_data"
    },
    {
     "name": "stdout",
     "output_type": "stream",
     "text": [
      "0.0006693689601226458\n"
     ]
    },
    {
     "data": {
      "application/vnd.jupyter.widget-view+json": {
       "model_id": "",
       "version_major": 2,
       "version_minor": 0
      },
      "text/plain": [
       "HBox(children=(HTML(value='batches'), FloatProgress(value=0.0, max=291.0), HTML(value='')))"
      ]
     },
     "metadata": {},
     "output_type": "display_data"
    },
    {
     "name": "stdout",
     "output_type": "stream",
     "text": [
      "0.0006545084971874737\n"
     ]
    },
    {
     "data": {
      "application/vnd.jupyter.widget-view+json": {
       "model_id": "",
       "version_major": 2,
       "version_minor": 0
      },
      "text/plain": [
       "HBox(children=(HTML(value='batches'), FloatProgress(value=0.0, max=291.0), HTML(value='')))"
      ]
     },
     "metadata": {},
     "output_type": "display_data"
    },
    {
     "name": "stdout",
     "output_type": "stream",
     "text": [
      "0.0006394955530196147\n"
     ]
    },
    {
     "data": {
      "application/vnd.jupyter.widget-view+json": {
       "model_id": "",
       "version_major": 2,
       "version_minor": 0
      },
      "text/plain": [
       "HBox(children=(HTML(value='batches'), FloatProgress(value=0.0, max=291.0), HTML(value='')))"
      ]
     },
     "metadata": {},
     "output_type": "display_data"
    },
    {
     "name": "stdout",
     "output_type": "stream",
     "text": [
      "0.0006243449435824273\n"
     ]
    },
    {
     "data": {
      "application/vnd.jupyter.widget-view+json": {
       "model_id": "",
       "version_major": 2,
       "version_minor": 0
      },
      "text/plain": [
       "HBox(children=(HTML(value='batches'), FloatProgress(value=0.0, max=291.0), HTML(value='')))"
      ]
     },
     "metadata": {},
     "output_type": "display_data"
    },
    {
     "name": "stdout",
     "output_type": "stream",
     "text": [
      "0.0006090716206982714\n"
     ]
    },
    {
     "data": {
      "application/vnd.jupyter.widget-view+json": {
       "model_id": "",
       "version_major": 2,
       "version_minor": 0
      },
      "text/plain": [
       "HBox(children=(HTML(value='batches'), FloatProgress(value=0.0, max=291.0), HTML(value='')))"
      ]
     },
     "metadata": {},
     "output_type": "display_data"
    },
    {
     "name": "stdout",
     "output_type": "stream",
     "text": [
      "0.0005936906572928625\n"
     ]
    },
    {
     "data": {
      "application/vnd.jupyter.widget-view+json": {
       "model_id": "",
       "version_major": 2,
       "version_minor": 0
      },
      "text/plain": [
       "HBox(children=(HTML(value='batches'), FloatProgress(value=0.0, max=291.0), HTML(value='')))"
      ]
     },
     "metadata": {},
     "output_type": "display_data"
    },
    {
     "name": "stdout",
     "output_type": "stream",
     "text": [
      "0.0005782172325201156\n"
     ]
    },
    {
     "data": {
      "application/vnd.jupyter.widget-view+json": {
       "model_id": "",
       "version_major": 2,
       "version_minor": 0
      },
      "text/plain": [
       "HBox(children=(HTML(value='batches'), FloatProgress(value=0.0, max=291.0), HTML(value='')))"
      ]
     },
     "metadata": {},
     "output_type": "display_data"
    },
    {
     "name": "stdout",
     "output_type": "stream",
     "text": [
      "0.0005626666167821523\n"
     ]
    },
    {
     "data": {
      "application/vnd.jupyter.widget-view+json": {
       "model_id": "",
       "version_major": 2,
       "version_minor": 0
      },
      "text/plain": [
       "HBox(children=(HTML(value='batches'), FloatProgress(value=0.0, max=291.0), HTML(value='')))"
      ]
     },
     "metadata": {},
     "output_type": "display_data"
    },
    {
     "name": "stdout",
     "output_type": "stream",
     "text": [
      "0.0005470541566592572\n"
     ]
    },
    {
     "data": {
      "application/vnd.jupyter.widget-view+json": {
       "model_id": "",
       "version_major": 2,
       "version_minor": 0
      },
      "text/plain": [
       "HBox(children=(HTML(value='batches'), FloatProgress(value=0.0, max=291.0), HTML(value='')))"
      ]
     },
     "metadata": {},
     "output_type": "display_data"
    },
    {
     "name": "stdout",
     "output_type": "stream",
     "text": [
      "0.0005313952597646569\n"
     ]
    },
    {
     "data": {
      "application/vnd.jupyter.widget-view+json": {
       "model_id": "",
       "version_major": 2,
       "version_minor": 0
      },
      "text/plain": [
       "HBox(children=(HTML(value='batches'), FloatProgress(value=0.0, max=291.0), HTML(value='')))"
      ]
     },
     "metadata": {},
     "output_type": "display_data"
    },
    {
     "name": "stdout",
     "output_type": "stream",
     "text": [
      "0.0005157053795390643\n"
     ]
    },
    {
     "data": {
      "application/vnd.jupyter.widget-view+json": {
       "model_id": "",
       "version_major": 2,
       "version_minor": 0
      },
      "text/plain": [
       "HBox(children=(HTML(value='batches'), FloatProgress(value=0.0, max=291.0), HTML(value='')))"
      ]
     },
     "metadata": {},
     "output_type": "display_data"
    },
    {
     "name": "stdout",
     "output_type": "stream",
     "text": [
      "0.0005000000000000002\n"
     ]
    },
    {
     "data": {
      "application/vnd.jupyter.widget-view+json": {
       "model_id": "",
       "version_major": 2,
       "version_minor": 0
      },
      "text/plain": [
       "HBox(children=(HTML(value='batches'), FloatProgress(value=0.0, max=291.0), HTML(value='')))"
      ]
     },
     "metadata": {},
     "output_type": "display_data"
    },
    {
     "name": "stdout",
     "output_type": "stream",
     "text": [
      "0.00048429462046093607\n"
     ]
    },
    {
     "data": {
      "application/vnd.jupyter.widget-view+json": {
       "model_id": "",
       "version_major": 2,
       "version_minor": 0
      },
      "text/plain": [
       "HBox(children=(HTML(value='batches'), FloatProgress(value=0.0, max=291.0), HTML(value='')))"
      ]
     },
     "metadata": {},
     "output_type": "display_data"
    },
    {
     "name": "stdout",
     "output_type": "stream",
     "text": [
      "0.0004686047402353435\n"
     ]
    },
    {
     "data": {
      "application/vnd.jupyter.widget-view+json": {
       "model_id": "",
       "version_major": 2,
       "version_minor": 0
      },
      "text/plain": [
       "HBox(children=(HTML(value='batches'), FloatProgress(value=0.0, max=291.0), HTML(value='')))"
      ]
     },
     "metadata": {},
     "output_type": "display_data"
    },
    {
     "name": "stdout",
     "output_type": "stream",
     "text": [
      "0.000452945843340743\n"
     ]
    },
    {
     "data": {
      "application/vnd.jupyter.widget-view+json": {
       "model_id": "",
       "version_major": 2,
       "version_minor": 0
      },
      "text/plain": [
       "HBox(children=(HTML(value='batches'), FloatProgress(value=0.0, max=291.0), HTML(value='')))"
      ]
     },
     "metadata": {},
     "output_type": "display_data"
    },
    {
     "name": "stdout",
     "output_type": "stream",
     "text": [
      "0.00043733338321784806\n"
     ]
    },
    {
     "data": {
      "application/vnd.jupyter.widget-view+json": {
       "model_id": "",
       "version_major": 2,
       "version_minor": 0
      },
      "text/plain": [
       "HBox(children=(HTML(value='batches'), FloatProgress(value=0.0, max=291.0), HTML(value='')))"
      ]
     },
     "metadata": {},
     "output_type": "display_data"
    },
    {
     "name": "stdout",
     "output_type": "stream",
     "text": [
      "0.0004217827674798847\n"
     ]
    },
    {
     "data": {
      "application/vnd.jupyter.widget-view+json": {
       "model_id": "",
       "version_major": 2,
       "version_minor": 0
      },
      "text/plain": [
       "HBox(children=(HTML(value='batches'), FloatProgress(value=0.0, max=291.0), HTML(value='')))"
      ]
     },
     "metadata": {},
     "output_type": "display_data"
    },
    {
     "name": "stdout",
     "output_type": "stream",
     "text": [
      "0.00040630934270713783\n"
     ]
    },
    {
     "data": {
      "application/vnd.jupyter.widget-view+json": {
       "model_id": "",
       "version_major": 2,
       "version_minor": 0
      },
      "text/plain": [
       "HBox(children=(HTML(value='batches'), FloatProgress(value=0.0, max=291.0), HTML(value='')))"
      ]
     },
     "metadata": {},
     "output_type": "display_data"
    },
    {
     "name": "stdout",
     "output_type": "stream",
     "text": [
      "0.000390928379301729\n"
     ]
    },
    {
     "data": {
      "application/vnd.jupyter.widget-view+json": {
       "model_id": "",
       "version_major": 2,
       "version_minor": 0
      },
      "text/plain": [
       "HBox(children=(HTML(value='batches'), FloatProgress(value=0.0, max=291.0), HTML(value='')))"
      ]
     },
     "metadata": {},
     "output_type": "display_data"
    },
    {
     "name": "stdout",
     "output_type": "stream",
     "text": [
      "0.0003756550564175727\n"
     ]
    },
    {
     "data": {
      "application/vnd.jupyter.widget-view+json": {
       "model_id": "",
       "version_major": 2,
       "version_minor": 0
      },
      "text/plain": [
       "HBox(children=(HTML(value='batches'), FloatProgress(value=0.0, max=291.0), HTML(value='')))"
      ]
     },
     "metadata": {},
     "output_type": "display_data"
    },
    {
     "name": "stdout",
     "output_type": "stream",
     "text": [
      "0.00036050444698038553\n"
     ]
    },
    {
     "data": {
      "application/vnd.jupyter.widget-view+json": {
       "model_id": "",
       "version_major": 2,
       "version_minor": 0
      },
      "text/plain": [
       "HBox(children=(HTML(value='batches'), FloatProgress(value=0.0, max=291.0), HTML(value='')))"
      ]
     },
     "metadata": {},
     "output_type": "display_data"
    },
    {
     "name": "stdout",
     "output_type": "stream",
     "text": [
      "0.00034549150281252655\n"
     ]
    },
    {
     "data": {
      "application/vnd.jupyter.widget-view+json": {
       "model_id": "",
       "version_major": 2,
       "version_minor": 0
      },
      "text/plain": [
       "HBox(children=(HTML(value='batches'), FloatProgress(value=0.0, max=291.0), HTML(value='')))"
      ]
     },
     "metadata": {},
     "output_type": "display_data"
    },
    {
     "name": "stdout",
     "output_type": "stream",
     "text": [
      "0.0003306310398773544\n"
     ]
    },
    {
     "data": {
      "application/vnd.jupyter.widget-view+json": {
       "model_id": "",
       "version_major": 2,
       "version_minor": 0
      },
      "text/plain": [
       "HBox(children=(HTML(value='batches'), FloatProgress(value=0.0, max=291.0), HTML(value='')))"
      ]
     },
     "metadata": {},
     "output_type": "display_data"
    },
    {
     "name": "stdout",
     "output_type": "stream",
     "text": [
      "0.00031593772365766127\n"
     ]
    },
    {
     "data": {
      "application/vnd.jupyter.widget-view+json": {
       "model_id": "",
       "version_major": 2,
       "version_minor": 0
      },
      "text/plain": [
       "HBox(children=(HTML(value='batches'), FloatProgress(value=0.0, max=291.0), HTML(value='')))"
      ]
     },
     "metadata": {},
     "output_type": "display_data"
    },
    {
     "name": "stdout",
     "output_type": "stream",
     "text": [
      "0.0003014260546826097\n"
     ]
    },
    {
     "data": {
      "application/vnd.jupyter.widget-view+json": {
       "model_id": "",
       "version_major": 2,
       "version_minor": 0
      },
      "text/plain": [
       "HBox(children=(HTML(value='batches'), FloatProgress(value=0.0, max=291.0), HTML(value='')))"
      ]
     },
     "metadata": {},
     "output_type": "display_data"
    },
    {
     "name": "stdout",
     "output_type": "stream",
     "text": [
      "0.0002871103542174637\n"
     ]
    },
    {
     "data": {
      "application/vnd.jupyter.widget-view+json": {
       "model_id": "",
       "version_major": 2,
       "version_minor": 0
      },
      "text/plain": [
       "HBox(children=(HTML(value='batches'), FloatProgress(value=0.0, max=291.0), HTML(value='')))"
      ]
     },
     "metadata": {},
     "output_type": "display_data"
    },
    {
     "name": "stdout",
     "output_type": "stream",
     "text": [
      "0.0002730047501302267\n"
     ]
    },
    {
     "data": {
      "application/vnd.jupyter.widget-view+json": {
       "model_id": "",
       "version_major": 2,
       "version_minor": 0
      },
      "text/plain": [
       "HBox(children=(HTML(value='batches'), FloatProgress(value=0.0, max=291.0), HTML(value='')))"
      ]
     },
     "metadata": {},
     "output_type": "display_data"
    },
    {
     "name": "stdout",
     "output_type": "stream",
     "text": [
      "0.00025912316294914234\n"
     ]
    },
    {
     "data": {
      "application/vnd.jupyter.widget-view+json": {
       "model_id": "",
       "version_major": 2,
       "version_minor": 0
      },
      "text/plain": [
       "HBox(children=(HTML(value='batches'), FloatProgress(value=0.0, max=291.0), HTML(value='')))"
      ]
     },
     "metadata": {},
     "output_type": "display_data"
    },
    {
     "name": "stdout",
     "output_type": "stream",
     "text": [
      "0.0002454792921248144\n"
     ]
    },
    {
     "data": {
      "application/vnd.jupyter.widget-view+json": {
       "model_id": "",
       "version_major": 2,
       "version_minor": 0
      },
      "text/plain": [
       "HBox(children=(HTML(value='batches'), FloatProgress(value=0.0, max=291.0), HTML(value='')))"
      ]
     },
     "metadata": {},
     "output_type": "display_data"
    },
    {
     "name": "stdout",
     "output_type": "stream",
     "text": [
      "0.00023208660251050164\n"
     ]
    },
    {
     "data": {
      "application/vnd.jupyter.widget-view+json": {
       "model_id": "",
       "version_major": 2,
       "version_minor": 0
      },
      "text/plain": [
       "HBox(children=(HTML(value='batches'), FloatProgress(value=0.0, max=291.0), HTML(value='')))"
      ]
     },
     "metadata": {},
     "output_type": "display_data"
    },
    {
     "name": "stdout",
     "output_type": "stream",
     "text": [
      "0.00021895831107393473\n"
     ]
    },
    {
     "data": {
      "application/vnd.jupyter.widget-view+json": {
       "model_id": "",
       "version_major": 2,
       "version_minor": 0
      },
      "text/plain": [
       "HBox(children=(HTML(value='batches'), FloatProgress(value=0.0, max=291.0), HTML(value='')))"
      ]
     },
     "metadata": {},
     "output_type": "display_data"
    },
    {
     "name": "stdout",
     "output_type": "stream",
     "text": [
      "0.00020610737385376356\n"
     ]
    },
    {
     "data": {
      "application/vnd.jupyter.widget-view+json": {
       "model_id": "",
       "version_major": 2,
       "version_minor": 0
      },
      "text/plain": [
       "HBox(children=(HTML(value='batches'), FloatProgress(value=0.0, max=291.0), HTML(value='')))"
      ]
     },
     "metadata": {},
     "output_type": "display_data"
    },
    {
     "name": "stdout",
     "output_type": "stream",
     "text": [
      "0.00019354647317351177\n"
     ]
    },
    {
     "data": {
      "application/vnd.jupyter.widget-view+json": {
       "model_id": "",
       "version_major": 2,
       "version_minor": 0
      },
      "text/plain": [
       "HBox(children=(HTML(value='batches'), FloatProgress(value=0.0, max=291.0), HTML(value='')))"
      ]
     },
     "metadata": {},
     "output_type": "display_data"
    },
    {
     "name": "stdout",
     "output_type": "stream",
     "text": [
      "0.0001812880051256552\n"
     ]
    },
    {
     "data": {
      "application/vnd.jupyter.widget-view+json": {
       "model_id": "",
       "version_major": 2,
       "version_minor": 0
      },
      "text/plain": [
       "HBox(children=(HTML(value='batches'), FloatProgress(value=0.0, max=291.0), HTML(value='')))"
      ]
     },
     "metadata": {},
     "output_type": "display_data"
    },
    {
     "name": "stdout",
     "output_type": "stream",
     "text": [
      "0.00016934406733817422\n"
     ]
    },
    {
     "data": {
      "application/vnd.jupyter.widget-view+json": {
       "model_id": "",
       "version_major": 2,
       "version_minor": 0
      },
      "text/plain": [
       "HBox(children=(HTML(value='batches'), FloatProgress(value=0.0, max=291.0), HTML(value='')))"
      ]
     },
     "metadata": {},
     "output_type": "display_data"
    },
    {
     "name": "stdout",
     "output_type": "stream",
     "text": [
      "0.0001577264470356557\n"
     ]
    },
    {
     "data": {
      "application/vnd.jupyter.widget-view+json": {
       "model_id": "",
       "version_major": 2,
       "version_minor": 0
      },
      "text/plain": [
       "HBox(children=(HTML(value='batches'), FloatProgress(value=0.0, max=291.0), HTML(value='')))"
      ]
     },
     "metadata": {},
     "output_type": "display_data"
    },
    {
     "name": "stdout",
     "output_type": "stream",
     "text": [
      "0.00014644660940672634\n"
     ]
    },
    {
     "data": {
      "application/vnd.jupyter.widget-view+json": {
       "model_id": "",
       "version_major": 2,
       "version_minor": 0
      },
      "text/plain": [
       "HBox(children=(HTML(value='batches'), FloatProgress(value=0.0, max=291.0), HTML(value='')))"
      ]
     },
     "metadata": {},
     "output_type": "display_data"
    },
    {
     "name": "stdout",
     "output_type": "stream",
     "text": [
      "0.0001355156862892944\n"
     ]
    },
    {
     "data": {
      "application/vnd.jupyter.widget-view+json": {
       "model_id": "",
       "version_major": 2,
       "version_minor": 0
      },
      "text/plain": [
       "HBox(children=(HTML(value='batches'), FloatProgress(value=0.0, max=291.0), HTML(value='')))"
      ]
     },
     "metadata": {},
     "output_type": "display_data"
    },
    {
     "name": "stdout",
     "output_type": "stream",
     "text": [
      "0.00012494446518477025\n"
     ]
    },
    {
     "data": {
      "application/vnd.jupyter.widget-view+json": {
       "model_id": "",
       "version_major": 2,
       "version_minor": 0
      },
      "text/plain": [
       "HBox(children=(HTML(value='batches'), FloatProgress(value=0.0, max=291.0), HTML(value='')))"
      ]
     },
     "metadata": {},
     "output_type": "display_data"
    },
    {
     "name": "stdout",
     "output_type": "stream",
     "text": [
      "0.00011474337861210548\n"
     ]
    },
    {
     "data": {
      "application/vnd.jupyter.widget-view+json": {
       "model_id": "",
       "version_major": 2,
       "version_minor": 0
      },
      "text/plain": [
       "HBox(children=(HTML(value='batches'), FloatProgress(value=0.0, max=291.0), HTML(value='')))"
      ]
     },
     "metadata": {},
     "output_type": "display_data"
    },
    {
     "name": "stdout",
     "output_type": "stream",
     "text": [
      "0.00010492249381215483\n"
     ]
    },
    {
     "data": {
      "application/vnd.jupyter.widget-view+json": {
       "model_id": "",
       "version_major": 2,
       "version_minor": 0
      },
      "text/plain": [
       "HBox(children=(HTML(value='batches'), FloatProgress(value=0.0, max=291.0), HTML(value='')))"
      ]
     },
     "metadata": {},
     "output_type": "display_data"
    },
    {
     "name": "stdout",
     "output_type": "stream",
     "text": [
      "9.549150281252637e-05\n"
     ]
    },
    {
     "data": {
      "application/vnd.jupyter.widget-view+json": {
       "model_id": "",
       "version_major": 2,
       "version_minor": 0
      },
      "text/plain": [
       "HBox(children=(HTML(value='batches'), FloatProgress(value=0.0, max=291.0), HTML(value='')))"
      ]
     },
     "metadata": {},
     "output_type": "display_data"
    },
    {
     "name": "stdout",
     "output_type": "stream",
     "text": [
      "8.645971286271918e-05\n"
     ]
    },
    {
     "data": {
      "application/vnd.jupyter.widget-view+json": {
       "model_id": "",
       "version_major": 2,
       "version_minor": 0
      },
      "text/plain": [
       "HBox(children=(HTML(value='batches'), FloatProgress(value=0.0, max=291.0), HTML(value='')))"
      ]
     },
     "metadata": {},
     "output_type": "display_data"
    },
    {
     "name": "stdout",
     "output_type": "stream",
     "text": [
      "7.78360372489926e-05\n"
     ]
    },
    {
     "data": {
      "application/vnd.jupyter.widget-view+json": {
       "model_id": "",
       "version_major": 2,
       "version_minor": 0
      },
      "text/plain": [
       "HBox(children=(HTML(value='batches'), FloatProgress(value=0.0, max=291.0), HTML(value='')))"
      ]
     },
     "metadata": {},
     "output_type": "display_data"
    },
    {
     "name": "stdout",
     "output_type": "stream",
     "text": [
      "6.962898649802815e-05\n"
     ]
    },
    {
     "data": {
      "application/vnd.jupyter.widget-view+json": {
       "model_id": "",
       "version_major": 2,
       "version_minor": 0
      },
      "text/plain": [
       "HBox(children=(HTML(value='batches'), FloatProgress(value=0.0, max=291.0), HTML(value='')))"
      ]
     },
     "metadata": {},
     "output_type": "display_data"
    },
    {
     "name": "stdout",
     "output_type": "stream",
     "text": [
      "6.184665997806824e-05\n"
     ]
    },
    {
     "data": {
      "application/vnd.jupyter.widget-view+json": {
       "model_id": "",
       "version_major": 2,
       "version_minor": 0
      },
      "text/plain": [
       "HBox(children=(HTML(value='batches'), FloatProgress(value=0.0, max=291.0), HTML(value='')))"
      ]
     },
     "metadata": {},
     "output_type": "display_data"
    },
    {
     "name": "stdout",
     "output_type": "stream",
     "text": [
      "5.449673790581613e-05\n"
     ]
    },
    {
     "data": {
      "application/vnd.jupyter.widget-view+json": {
       "model_id": "",
       "version_major": 2,
       "version_minor": 0
      },
      "text/plain": [
       "HBox(children=(HTML(value='batches'), FloatProgress(value=0.0, max=291.0), HTML(value='')))"
      ]
     },
     "metadata": {},
     "output_type": "display_data"
    },
    {
     "name": "stdout",
     "output_type": "stream",
     "text": [
      "4.758647376699034e-05\n"
     ]
    },
    {
     "data": {
      "application/vnd.jupyter.widget-view+json": {
       "model_id": "",
       "version_major": 2,
       "version_minor": 0
      },
      "text/plain": [
       "HBox(children=(HTML(value='batches'), FloatProgress(value=0.0, max=291.0), HTML(value='')))"
      ]
     },
     "metadata": {},
     "output_type": "display_data"
    },
    {
     "name": "stdout",
     "output_type": "stream",
     "text": [
      "4.112268715800956e-05\n"
     ]
    },
    {
     "data": {
      "application/vnd.jupyter.widget-view+json": {
       "model_id": "",
       "version_major": 2,
       "version_minor": 0
      },
      "text/plain": [
       "HBox(children=(HTML(value='batches'), FloatProgress(value=0.0, max=291.0), HTML(value='')))"
      ]
     },
     "metadata": {},
     "output_type": "display_data"
    },
    {
     "name": "stdout",
     "output_type": "stream",
     "text": [
      "3.511175705587434e-05\n"
     ]
    },
    {
     "data": {
      "application/vnd.jupyter.widget-view+json": {
       "model_id": "",
       "version_major": 2,
       "version_minor": 0
      },
      "text/plain": [
       "HBox(children=(HTML(value='batches'), FloatProgress(value=0.0, max=291.0), HTML(value='')))"
      ]
     },
     "metadata": {},
     "output_type": "display_data"
    },
    {
     "name": "stdout",
     "output_type": "stream",
     "text": [
      "2.9559615522887284e-05\n"
     ]
    },
    {
     "data": {
      "application/vnd.jupyter.widget-view+json": {
       "model_id": "",
       "version_major": 2,
       "version_minor": 0
      },
      "text/plain": [
       "HBox(children=(HTML(value='batches'), FloatProgress(value=0.0, max=291.0), HTML(value='')))"
      ]
     },
     "metadata": {},
     "output_type": "display_data"
    },
    {
     "name": "stdout",
     "output_type": "stream",
     "text": [
      "2.447174185242324e-05\n"
     ]
    },
    {
     "data": {
      "application/vnd.jupyter.widget-view+json": {
       "model_id": "",
       "version_major": 2,
       "version_minor": 0
      },
      "text/plain": [
       "HBox(children=(HTML(value='batches'), FloatProgress(value=0.0, max=291.0), HTML(value='')))"
      ]
     },
     "metadata": {},
     "output_type": "display_data"
    },
    {
     "name": "stdout",
     "output_type": "stream",
     "text": [
      "1.9853157161528526e-05\n"
     ]
    },
    {
     "data": {
      "application/vnd.jupyter.widget-view+json": {
       "model_id": "",
       "version_major": 2,
       "version_minor": 0
      },
      "text/plain": [
       "HBox(children=(HTML(value='batches'), FloatProgress(value=0.0, max=291.0), HTML(value='')))"
      ]
     },
     "metadata": {},
     "output_type": "display_data"
    },
    {
     "name": "stdout",
     "output_type": "stream",
     "text": [
      "1.570841943568452e-05\n"
     ]
    },
    {
     "data": {
      "application/vnd.jupyter.widget-view+json": {
       "model_id": "",
       "version_major": 2,
       "version_minor": 0
      },
      "text/plain": [
       "HBox(children=(HTML(value='batches'), FloatProgress(value=0.0, max=291.0), HTML(value='')))"
      ]
     },
     "metadata": {},
     "output_type": "display_data"
    },
    {
     "name": "stdout",
     "output_type": "stream",
     "text": [
      "1.204161903062634e-05\n"
     ]
    },
    {
     "data": {
      "application/vnd.jupyter.widget-view+json": {
       "model_id": "",
       "version_major": 2,
       "version_minor": 0
      },
      "text/plain": [
       "HBox(children=(HTML(value='batches'), FloatProgress(value=0.0, max=291.0), HTML(value='')))"
      ]
     },
     "metadata": {},
     "output_type": "display_data"
    },
    {
     "name": "stdout",
     "output_type": "stream",
     "text": [
      "8.85637463565564e-06\n"
     ]
    },
    {
     "data": {
      "application/vnd.jupyter.widget-view+json": {
       "model_id": "",
       "version_major": 2,
       "version_minor": 0
      },
      "text/plain": [
       "HBox(children=(HTML(value='batches'), FloatProgress(value=0.0, max=291.0), HTML(value='')))"
      ]
     },
     "metadata": {},
     "output_type": "display_data"
    },
    {
     "name": "stdout",
     "output_type": "stream",
     "text": [
      "6.155829702431171e-06\n"
     ]
    },
    {
     "data": {
      "application/vnd.jupyter.widget-view+json": {
       "model_id": "",
       "version_major": 2,
       "version_minor": 0
      },
      "text/plain": [
       "HBox(children=(HTML(value='batches'), FloatProgress(value=0.0, max=291.0), HTML(value='')))"
      ]
     },
     "metadata": {},
     "output_type": "display_data"
    },
    {
     "name": "stdout",
     "output_type": "stream",
     "text": [
      "3.942649342761118e-06\n"
     ]
    },
    {
     "data": {
      "application/vnd.jupyter.widget-view+json": {
       "model_id": "",
       "version_major": 2,
       "version_minor": 0
      },
      "text/plain": [
       "HBox(children=(HTML(value='batches'), FloatProgress(value=0.0, max=291.0), HTML(value='')))"
      ]
     },
     "metadata": {},
     "output_type": "display_data"
    },
    {
     "name": "stdout",
     "output_type": "stream",
     "text": [
      "2.2190176984600023e-06\n",
      "\n"
     ]
    }
   ],
   "source": [
    "train_losses, train_metrics, dev_losses, dev_metrics = train_loop(\n",
    "    train_set=(train_W, train_X, train_Y),\n",
    "    dev_set=(dev_W, dev_X, dev_Y),\n",
    "    model=rand_model.to(device),\n",
    "    lr=0.001,\n",
    "    cos_max=100,\n",
    "    n_classes=len(lbl_to_id)-1,\n",
    "    train_batch_size=128,\n",
    "    dev_batch_size=128,\n",
    "    grad_clip_norm=5,\n",
    "    patience=5,\n",
    "    max_epochs=100,\n",
    "    show=False\n",
    ")"
   ]
  },
  {
   "cell_type": "code",
   "execution_count": 17,
   "metadata": {},
   "outputs": [],
   "source": [
    "torch.save(rand_model.state_dict(), 'data/pt-cache/rand_model.pt')"
   ]
  },
  {
   "cell_type": "code",
   "execution_count": 18,
   "metadata": {
    "scrolled": true
   },
   "outputs": [
    {
     "name": "stdout",
     "output_type": "stream",
     "text": [
      "              precision    recall  f1-score   support\n",
      "\n",
      "         art       0.42      0.08      0.13       102\n",
      "         eve       0.53      0.36      0.42        87\n",
      "         geo       0.84      0.86      0.85      9912\n",
      "         gpe       0.92      0.91      0.92      4168\n",
      "         nat       0.55      0.38      0.45        55\n",
      "         org       0.67      0.60      0.63      5205\n",
      "         per       0.74      0.76      0.75      4406\n",
      "         tim       0.87      0.85      0.86      5275\n",
      "\n",
      "   micro avg       0.81      0.80      0.81     29210\n",
      "   macro avg       0.69      0.60      0.63     29210\n",
      "weighted avg       0.81      0.80      0.80     29210\n",
      "\n"
     ]
    }
   ],
   "source": [
    "test_pred = rand_model.to(device).batch_predict(test_W, test_X, 4096)\n",
    "print(conll_report(test_Y, test_pred, id_to_lbl, lbl_to_id['PAD_LBL']))"
   ]
  },
  {
   "cell_type": "code",
   "execution_count": 17,
   "metadata": {},
   "outputs": [
    {
     "ename": "TypeError",
     "evalue": "__init__() got an unexpected keyword argument 'class_freq'",
     "output_type": "error",
     "traceback": [
      "\u001b[0;31m---------------------------------------------------------------------------\u001b[0m",
      "\u001b[0;31mTypeError\u001b[0m                                 Traceback (most recent call last)",
      "\u001b[0;32m<ipython-input-17-07e83a94f49b>\u001b[0m in \u001b[0;36m<module>\u001b[0;34m\u001b[0m\n\u001b[1;32m     13\u001b[0m     \u001b[0mpad_lbl_id\u001b[0m\u001b[0;34m=\u001b[0m\u001b[0mlbl_to_id\u001b[0m\u001b[0;34m[\u001b[0m\u001b[0;34m'PAD_LBL'\u001b[0m\u001b[0;34m]\u001b[0m\u001b[0;34m,\u001b[0m\u001b[0;34m\u001b[0m\u001b[0;34m\u001b[0m\u001b[0m\n\u001b[1;32m     14\u001b[0m     \u001b[0mpad_tok_id\u001b[0m\u001b[0;34m=\u001b[0m\u001b[0mtok_to_id\u001b[0m\u001b[0;34m[\u001b[0m\u001b[0;34m'PAD_TOK'\u001b[0m\u001b[0;34m]\u001b[0m\u001b[0;34m,\u001b[0m\u001b[0;34m\u001b[0m\u001b[0;34m\u001b[0m\u001b[0m\n\u001b[0;32m---> 15\u001b[0;31m     \u001b[0mclass_freq\u001b[0m\u001b[0;34m=\u001b[0m\u001b[0mtorch\u001b[0m\u001b[0;34m.\u001b[0m\u001b[0mbincount\u001b[0m\u001b[0;34m(\u001b[0m\u001b[0mtrain_Y\u001b[0m\u001b[0;34m.\u001b[0m\u001b[0mreshape\u001b[0m\u001b[0;34m(\u001b[0m\u001b[0;34m-\u001b[0m\u001b[0;36m1\u001b[0m\u001b[0;34m)\u001b[0m\u001b[0;34m)\u001b[0m\u001b[0;34m[\u001b[0m\u001b[0;34m:\u001b[0m\u001b[0;34m-\u001b[0m\u001b[0;36m1\u001b[0m\u001b[0;34m]\u001b[0m\u001b[0;34m\u001b[0m\u001b[0;34m\u001b[0m\u001b[0m\n\u001b[0m\u001b[1;32m     16\u001b[0m )\n\u001b[1;32m     17\u001b[0m \u001b[0;31m#glv_model.load_state_dict(torch.load('data/pt-cache/glv_model.pt'))\u001b[0m\u001b[0;34m\u001b[0m\u001b[0;34m\u001b[0m\u001b[0;34m\u001b[0m\u001b[0m\n",
      "\u001b[0;31mTypeError\u001b[0m: __init__() got an unexpected keyword argument 'class_freq'"
     ]
    }
   ],
   "source": [
    "assert(lbl_to_id['PAD_LBL'] == len(lbl_to_id)-1)\n",
    "glv_model = NERModel(\n",
    "    embed_model=TokEmbModel(\n",
    "        init_emb=glv_emb,\n",
    "        pad_tok_id=tok_to_id['PAD_TOK']\n",
    "    ),\n",
    "    seq_tag_model=SeqTagModel(\n",
    "        input_size=100,\n",
    "        hidden_size=100,\n",
    "        output_size=len(lbl_to_id)-1,\n",
    "        dropout_prob=0.5\n",
    "    ),\n",
    "    pad_lbl_id=lbl_to_id['PAD_LBL'],\n",
    "    pad_tok_id=tok_to_id['PAD_TOK'],\n",
    "    class_freq=torch.bincount(train_Y.reshape(-1))[:-1]\n",
    ")\n",
    "#glv_model.load_state_dict(torch.load('data/pt-cache/glv_model.pt'))"
   ]
  },
  {
   "cell_type": "code",
   "execution_count": null,
   "metadata": {
    "scrolled": true
   },
   "outputs": [],
   "source": [
    "train_loop(\n",
    "    train_set=(train_W, train_X, train_Y),\n",
    "    dev_set=(dev_W, dev_X, dev_Y),\n",
    "    model=glv_model.to(device),\n",
    "    opt=optim.Adam(glv_model.parameters(), lr=0.01),\n",
    "    n_classes=len(lbl_to_id)-1,\n",
    "    batch_size=128,\n",
    "    pred_batch_size=4096,\n",
    "    grad_clip_norm=5\n",
    ")"
   ]
  },
  {
   "cell_type": "code",
   "execution_count": null,
   "metadata": {},
   "outputs": [],
   "source": [
    "torch.save(glv_model.state_dict(), 'data/pt-cache/glv_model.pt')"
   ]
  },
  {
   "cell_type": "code",
   "execution_count": null,
   "metadata": {},
   "outputs": [],
   "source": [
    "test_pred = glv_model.to(device).batch_predict(test_X, 4096)\n",
    "print(conll_report(test_Y, test_pred, id_to_lbl, lbl_to_id['PAD_LBL']))"
   ]
  },
  {
   "cell_type": "code",
   "execution_count": 2,
   "metadata": {},
   "outputs": [
    {
     "ename": "NameError",
     "evalue": "name 'NERModel' is not defined",
     "output_type": "error",
     "traceback": [
      "\u001b[0;31m---------------------------------------------------------------------------\u001b[0m",
      "\u001b[0;31mNameError\u001b[0m                                 Traceback (most recent call last)",
      "\u001b[0;32m<ipython-input-2-87a7f696b031>\u001b[0m in \u001b[0;36m<module>\u001b[0;34m\u001b[0m\n\u001b[0;32m----> 1\u001b[0;31m chr_glv_model = NERModel(\n\u001b[0m\u001b[1;32m      2\u001b[0m     embed_model=ChrTokEmbModel(\n\u001b[1;32m      3\u001b[0m         chr_emb_model=ChrEmbModel(\n\u001b[1;32m      4\u001b[0m             \u001b[0mn_embs\u001b[0m\u001b[0;34m=\u001b[0m\u001b[0mlen\u001b[0m\u001b[0;34m(\u001b[0m\u001b[0mchr_to_id\u001b[0m\u001b[0;34m)\u001b[0m\u001b[0;34m,\u001b[0m\u001b[0;34m\u001b[0m\u001b[0;34m\u001b[0m\u001b[0m\n\u001b[1;32m      5\u001b[0m             \u001b[0mpad_chr_id\u001b[0m\u001b[0;34m=\u001b[0m\u001b[0mchr_to_id\u001b[0m\u001b[0;34m[\u001b[0m\u001b[0;34m'PAD_CHR'\u001b[0m\u001b[0;34m]\u001b[0m\u001b[0;34m,\u001b[0m\u001b[0;34m\u001b[0m\u001b[0;34m\u001b[0m\u001b[0m\n",
      "\u001b[0;31mNameError\u001b[0m: name 'NERModel' is not defined"
     ]
    }
   ],
   "source": [
    "chr_glv_model = NERModel(\n",
    "    embed_model=ChrTokEmbModel(\n",
    "        chr_emb_model=ChrEmbModel(\n",
    "            n_embs=len(chr_to_id),\n",
    "            pad_chr_id=chr_to_id['PAD_CHR'],\n",
    "            emb_size=8,\n",
    "            hidden_size=25\n",
    "        ),\n",
    "        tok_emb_model=nn.Embedding.from_pretrained(\n",
    "            glv_emb,\n",
    "            freeze=False,\n",
    "            padding_idx=tok_to_id['PAD_TOK']\n",
    "        )\n",
    "    ),\n",
    "    seq_tag_model=SeqTagModel(\n",
    "        input_size=150,\n",
    "        hidden_size=100,\n",
    "        output_size=len(lbl_to_id)-1,\n",
    "        dropout_prob=0.5\n",
    "    ),\n",
    "    pad_lbl_id=lbl_to_id['PAD_LBL'],\n",
    "    pad_tok_id=tok_to_id['PAD_TOK'],\n",
    "    class_freq=torch.bincount(train_Y.reshape(-1))[:-1]\n",
    ")\n",
    "#chr_glv_model.load_state_dict(torch.load('data/pt-cache/chr_glv_model.pt'))"
   ]
  },
  {
   "cell_type": "code",
   "execution_count": null,
   "metadata": {},
   "outputs": [],
   "source": [
    "train_loop(\n",
    "    train_set=(train_W, train_X, train_Y),\n",
    "    dev_set=(dev_W, dev_X, dev_Y),\n",
    "    model=chr_glv_model.to(device),\n",
    "    opt=optim.Adam(chr_glv_model.parameters(), lr=0.001),\n",
    "    n_classes=len(lbl_to_id)-1,\n",
    "    batch_size=128,\n",
    "    pred_batch_size=2048,\n",
    "    grad_clip_norm=5\n",
    ")"
   ]
  },
  {
   "cell_type": "code",
   "execution_count": null,
   "metadata": {},
   "outputs": [],
   "source": [
    "torch.save(chr_glv_model.state_dict(), 'data/pt-cache/glv_model.pt')"
   ]
  },
  {
   "cell_type": "code",
   "execution_count": null,
   "metadata": {},
   "outputs": [],
   "source": [
    "test_pred = chr_glv_model.to(device).batch_predict(test_W, test_X, 4096)\n",
    "print(conll_report(test_Y, test_pred, id_to_lbl, lbl_to_id['PAD_LBL']))"
   ]
  },
  {
   "cell_type": "code",
   "execution_count": 8,
   "metadata": {},
   "outputs": [],
   "source": [
    "assert(lbl_to_id['PAD_LBL'] == len(lbl_to_id)-1)\n",
    "ln_glv_model = NERModel(\n",
    "    embed_model=TokEmbModel(\n",
    "        init_emb=glv_emb,\n",
    "        pad_tok_id=tok_to_id['PAD_TOK']\n",
    "    ),\n",
    "    seq_tag_model=LNSeqTagModel(\n",
    "        input_size=100,\n",
    "        hidden_size=100,\n",
    "        output_size=len(lbl_to_id)-1,\n",
    "        dropout_prob=0.5\n",
    "    ),\n",
    "    pad_lbl_id=lbl_to_id['PAD_LBL'],\n",
    "    pad_tok_id=tok_to_id['PAD_TOK'],\n",
    "    class_freq=torch.bincount(train_Y.reshape(-1))[:-1]\n",
    ")\n",
    "#ln_glv_model.load_state_dict(torch.load('data/pt-cache/ln_glv_model.pt'))"
   ]
  },
  {
   "cell_type": "code",
   "execution_count": 20,
   "metadata": {},
   "outputs": [
    {
     "data": {
      "image/png": "[encoded data removed]",
      "text/plain": [
       "<Figure size 864x288 with 2 Axes>"
      ]
     },
     "metadata": {
      "needs_background": "light"
     },
     "output_type": "display_data"
    },
    {
     "data": {
      "image/png": "[encoded data removed]",
      "text/plain": [
       "<Figure size 1080x288 with 3 Axes>"
      ]
     },
     "metadata": {
      "needs_background": "light"
     },
     "output_type": "display_data"
    },
    {
     "name": "stdout",
     "output_type": "stream",
     "text": [
      "0.4750710129737854\n",
      "0.8744432926177979\n"
     ]
    },
    {
     "data": {
      "application/vnd.jupyter.widget-view+json": {
       "model_id": "0954eaa90d76450ab71f5e3863bc2b44",
       "version_major": 2,
       "version_minor": 0
      },
      "text/plain": [
       "HBox(children=(HTML(value='batches'), FloatProgress(value=0.0, max=291.0), HTML(value='')))"
      ]
     },
     "metadata": {},
     "output_type": "display_data"
    },
    {
     "name": "stdout",
     "output_type": "stream",
     "text": [
      "\n"
     ]
    },
    {
     "ename": "KeyboardInterrupt",
     "evalue": "",
     "output_type": "error",
     "traceback": [
      "\u001b[0;31m---------------------------------------------------------------------------\u001b[0m",
      "\u001b[0;31mKeyboardInterrupt\u001b[0m                         Traceback (most recent call last)",
      "\u001b[0;32m<ipython-input-20-38a8b3216393>\u001b[0m in \u001b[0;36m<module>\u001b[0;34m\u001b[0m\n\u001b[1;32m      7\u001b[0m     \u001b[0mbatch_size\u001b[0m\u001b[0;34m=\u001b[0m\u001b[0;36m128\u001b[0m\u001b[0;34m,\u001b[0m\u001b[0;34m\u001b[0m\u001b[0;34m\u001b[0m\u001b[0m\n\u001b[1;32m      8\u001b[0m     \u001b[0mpred_batch_size\u001b[0m\u001b[0;34m=\u001b[0m\u001b[0;36m4096\u001b[0m\u001b[0;34m,\u001b[0m\u001b[0;34m\u001b[0m\u001b[0;34m\u001b[0m\u001b[0m\n\u001b[0;32m----> 9\u001b[0;31m     \u001b[0mgrad_clip_norm\u001b[0m\u001b[0;34m=\u001b[0m\u001b[0;36m5\u001b[0m\u001b[0;34m\u001b[0m\u001b[0;34m\u001b[0m\u001b[0m\n\u001b[0m\u001b[1;32m     10\u001b[0m )\n",
      "\u001b[0;32m~/col870-deep-learning/A1/LSTM-CRF/ner.py\u001b[0m in \u001b[0;36mtrain_loop\u001b[0;34m(train_set, dev_set, model, opt, n_classes, batch_size, grad_clip_norm, pred_batch_size)\u001b[0m\n\u001b[1;32m    304\u001b[0m     \u001b[0mdev_loader\u001b[0m \u001b[0;34m=\u001b[0m \u001b[0mdata\u001b[0m\u001b[0;34m.\u001b[0m\u001b[0mDataLoader\u001b[0m\u001b[0;34m(\u001b[0m\u001b[0mdata\u001b[0m\u001b[0;34m.\u001b[0m\u001b[0mTensorDataset\u001b[0m\u001b[0;34m(\u001b[0m\u001b[0;34m*\u001b[0m\u001b[0mdev_set\u001b[0m\u001b[0;34m)\u001b[0m\u001b[0;34m,\u001b[0m \u001b[0mbatch_size\u001b[0m\u001b[0;34m=\u001b[0m\u001b[0mbatch_size\u001b[0m\u001b[0;34m,\u001b[0m \u001b[0mshuffle\u001b[0m\u001b[0;34m=\u001b[0m\u001b[0;32mTrue\u001b[0m\u001b[0;34m)\u001b[0m\u001b[0;34m\u001b[0m\u001b[0;34m\u001b[0m\u001b[0m\n\u001b[1;32m    305\u001b[0m     \u001b[0;32mwhile\u001b[0m \u001b[0;32mTrue\u001b[0m\u001b[0;34m:\u001b[0m\u001b[0;34m\u001b[0m\u001b[0;34m\u001b[0m\u001b[0m\n\u001b[0;32m--> 306\u001b[0;31m         \u001b[0mnew_train_losses\u001b[0m\u001b[0;34m,\u001b[0m \u001b[0mnew_dev_losses\u001b[0m \u001b[0;34m=\u001b[0m \u001b[0mtrain_epoch\u001b[0m\u001b[0;34m(\u001b[0m\u001b[0mmodel\u001b[0m\u001b[0;34m,\u001b[0m \u001b[0mopt\u001b[0m\u001b[0;34m,\u001b[0m \u001b[0mtrain_loader\u001b[0m\u001b[0;34m,\u001b[0m \u001b[0mdev_loader\u001b[0m\u001b[0;34m,\u001b[0m \u001b[0mgrad_clip_norm\u001b[0m\u001b[0;34m)\u001b[0m\u001b[0;34m\u001b[0m\u001b[0;34m\u001b[0m\u001b[0m\n\u001b[0m\u001b[1;32m    307\u001b[0m \u001b[0;34m\u001b[0m\u001b[0m\n\u001b[1;32m    308\u001b[0m         \u001b[0mtrain_losses\u001b[0m \u001b[0;34m+=\u001b[0m \u001b[0mnew_train_losses\u001b[0m\u001b[0;34m\u001b[0m\u001b[0;34m\u001b[0m\u001b[0m\n",
      "\u001b[0;32m~/col870-deep-learning/A1/LSTM-CRF/ner.py\u001b[0m in \u001b[0;36mtrain_epoch\u001b[0;34m(model, opt, train_loader, dev_loader, grad_clip_norm)\u001b[0m\n\u001b[1;32m    286\u001b[0m         \u001b[0mtrain_X_batch\u001b[0m \u001b[0;34m=\u001b[0m \u001b[0mtrain_X_batch\u001b[0m\u001b[0;34m.\u001b[0m\u001b[0mto\u001b[0m\u001b[0;34m(\u001b[0m\u001b[0mmodel\u001b[0m\u001b[0;34m.\u001b[0m\u001b[0mdevice\u001b[0m\u001b[0;34m(\u001b[0m\u001b[0;34m)\u001b[0m\u001b[0;34m)\u001b[0m\u001b[0;34m\u001b[0m\u001b[0;34m\u001b[0m\u001b[0m\n\u001b[1;32m    287\u001b[0m         \u001b[0mtrain_Y_batch\u001b[0m \u001b[0;34m=\u001b[0m \u001b[0mtrain_Y_batch\u001b[0m\u001b[0;34m.\u001b[0m\u001b[0mto\u001b[0m\u001b[0;34m(\u001b[0m\u001b[0mmodel\u001b[0m\u001b[0;34m.\u001b[0m\u001b[0mdevice\u001b[0m\u001b[0;34m(\u001b[0m\u001b[0;34m)\u001b[0m\u001b[0;34m)\u001b[0m\u001b[0;34m\u001b[0m\u001b[0;34m\u001b[0m\u001b[0m\n\u001b[0;32m--> 288\u001b[0;31m         \u001b[0mtrain_loss\u001b[0m \u001b[0;34m=\u001b[0m \u001b[0mmodel\u001b[0m\u001b[0;34m.\u001b[0m\u001b[0mcriterion\u001b[0m\u001b[0;34m(\u001b[0m\u001b[0mtrain_Y_batch\u001b[0m\u001b[0;34m,\u001b[0m \u001b[0mmodel\u001b[0m\u001b[0;34m(\u001b[0m\u001b[0mtrain_W_batch\u001b[0m\u001b[0;34m,\u001b[0m \u001b[0mtrain_X_batch\u001b[0m\u001b[0;34m)\u001b[0m\u001b[0;34m)\u001b[0m\u001b[0;34m\u001b[0m\u001b[0;34m\u001b[0m\u001b[0m\n\u001b[0m\u001b[1;32m    289\u001b[0m         \u001b[0mtrain_losses\u001b[0m\u001b[0;34m.\u001b[0m\u001b[0mappend\u001b[0m\u001b[0;34m(\u001b[0m\u001b[0mtrain_loss\u001b[0m\u001b[0;34m.\u001b[0m\u001b[0mitem\u001b[0m\u001b[0;34m(\u001b[0m\u001b[0;34m)\u001b[0m\u001b[0;34m)\u001b[0m\u001b[0;34m\u001b[0m\u001b[0;34m\u001b[0m\u001b[0m\n\u001b[1;32m    290\u001b[0m         \u001b[0mopt\u001b[0m\u001b[0;34m.\u001b[0m\u001b[0mzero_grad\u001b[0m\u001b[0;34m(\u001b[0m\u001b[0;34m)\u001b[0m\u001b[0;34m\u001b[0m\u001b[0;34m\u001b[0m\u001b[0m\n",
      "\u001b[0;32m/home/apps/centos7/pytorch/1.6.0/install/lib/python3.6/site-packages/torch/nn/modules/module.py\u001b[0m in \u001b[0;36m_call_impl\u001b[0;34m(self, *input, **kwargs)\u001b[0m\n\u001b[1;32m    720\u001b[0m             \u001b[0mresult\u001b[0m \u001b[0;34m=\u001b[0m \u001b[0mself\u001b[0m\u001b[0;34m.\u001b[0m\u001b[0m_slow_forward\u001b[0m\u001b[0;34m(\u001b[0m\u001b[0;34m*\u001b[0m\u001b[0minput\u001b[0m\u001b[0;34m,\u001b[0m \u001b[0;34m**\u001b[0m\u001b[0mkwargs\u001b[0m\u001b[0;34m)\u001b[0m\u001b[0;34m\u001b[0m\u001b[0;34m\u001b[0m\u001b[0m\n\u001b[1;32m    721\u001b[0m         \u001b[0;32melse\u001b[0m\u001b[0;34m:\u001b[0m\u001b[0;34m\u001b[0m\u001b[0;34m\u001b[0m\u001b[0m\n\u001b[0;32m--> 722\u001b[0;31m             \u001b[0mresult\u001b[0m \u001b[0;34m=\u001b[0m \u001b[0mself\u001b[0m\u001b[0;34m.\u001b[0m\u001b[0mforward\u001b[0m\u001b[0;34m(\u001b[0m\u001b[0;34m*\u001b[0m\u001b[0minput\u001b[0m\u001b[0;34m,\u001b[0m \u001b[0;34m**\u001b[0m\u001b[0mkwargs\u001b[0m\u001b[0;34m)\u001b[0m\u001b[0;34m\u001b[0m\u001b[0;34m\u001b[0m\u001b[0m\n\u001b[0m\u001b[1;32m    723\u001b[0m         for hook in itertools.chain(\n\u001b[1;32m    724\u001b[0m                 \u001b[0m_global_forward_hooks\u001b[0m\u001b[0;34m.\u001b[0m\u001b[0mvalues\u001b[0m\u001b[0;34m(\u001b[0m\u001b[0;34m)\u001b[0m\u001b[0;34m,\u001b[0m\u001b[0;34m\u001b[0m\u001b[0;34m\u001b[0m\u001b[0m\n",
      "\u001b[0;32m~/col870-deep-learning/A1/LSTM-CRF/ner.py\u001b[0m in \u001b[0;36mforward\u001b[0;34m(self, W, X)\u001b[0m\n\u001b[1;32m     97\u001b[0m         \u001b[0mX\u001b[0m \u001b[0;34m=\u001b[0m \u001b[0mX\u001b[0m\u001b[0;34m[\u001b[0m\u001b[0;34m...\u001b[0m\u001b[0;34m,\u001b[0m\u001b[0;34m:\u001b[0m\u001b[0mmax_len\u001b[0m\u001b[0;34m]\u001b[0m\u001b[0;34m\u001b[0m\u001b[0;34m\u001b[0m\u001b[0m\n\u001b[1;32m     98\u001b[0m         \u001b[0mW\u001b[0m \u001b[0;34m=\u001b[0m \u001b[0mW\u001b[0m\u001b[0;34m[\u001b[0m\u001b[0;34m...\u001b[0m\u001b[0;34m,\u001b[0m\u001b[0;34m:\u001b[0m\u001b[0mmax_len\u001b[0m\u001b[0;34m,\u001b[0m\u001b[0;34m:\u001b[0m\u001b[0;34m]\u001b[0m\u001b[0;34m\u001b[0m\u001b[0;34m\u001b[0m\u001b[0m\n\u001b[0;32m---> 99\u001b[0;31m         \u001b[0;32mreturn\u001b[0m \u001b[0mself\u001b[0m\u001b[0;34m.\u001b[0m\u001b[0mseq_tag_model\u001b[0m\u001b[0;34m(\u001b[0m\u001b[0mself\u001b[0m\u001b[0;34m.\u001b[0m\u001b[0membed_model\u001b[0m\u001b[0;34m(\u001b[0m\u001b[0mW\u001b[0m\u001b[0;34m,\u001b[0m \u001b[0mX\u001b[0m\u001b[0;34m)\u001b[0m\u001b[0;34m)\u001b[0m\u001b[0;34m\u001b[0m\u001b[0;34m\u001b[0m\u001b[0m\n\u001b[0m\u001b[1;32m    100\u001b[0m \u001b[0;34m\u001b[0m\u001b[0m\n\u001b[1;32m    101\u001b[0m     \u001b[0;32mdef\u001b[0m \u001b[0mpredict\u001b[0m\u001b[0;34m(\u001b[0m\u001b[0mself\u001b[0m\u001b[0;34m,\u001b[0m \u001b[0mW\u001b[0m\u001b[0;34m,\u001b[0m \u001b[0mX\u001b[0m\u001b[0;34m)\u001b[0m\u001b[0;34m:\u001b[0m\u001b[0;34m\u001b[0m\u001b[0;34m\u001b[0m\u001b[0m\n",
      "\u001b[0;32m/home/apps/centos7/pytorch/1.6.0/install/lib/python3.6/site-packages/torch/nn/modules/module.py\u001b[0m in \u001b[0;36m_call_impl\u001b[0;34m(self, *input, **kwargs)\u001b[0m\n\u001b[1;32m    720\u001b[0m             \u001b[0mresult\u001b[0m \u001b[0;34m=\u001b[0m \u001b[0mself\u001b[0m\u001b[0;34m.\u001b[0m\u001b[0m_slow_forward\u001b[0m\u001b[0;34m(\u001b[0m\u001b[0;34m*\u001b[0m\u001b[0minput\u001b[0m\u001b[0;34m,\u001b[0m \u001b[0;34m**\u001b[0m\u001b[0mkwargs\u001b[0m\u001b[0;34m)\u001b[0m\u001b[0;34m\u001b[0m\u001b[0;34m\u001b[0m\u001b[0m\n\u001b[1;32m    721\u001b[0m         \u001b[0;32melse\u001b[0m\u001b[0;34m:\u001b[0m\u001b[0;34m\u001b[0m\u001b[0;34m\u001b[0m\u001b[0m\n\u001b[0;32m--> 722\u001b[0;31m             \u001b[0mresult\u001b[0m \u001b[0;34m=\u001b[0m \u001b[0mself\u001b[0m\u001b[0;34m.\u001b[0m\u001b[0mforward\u001b[0m\u001b[0;34m(\u001b[0m\u001b[0;34m*\u001b[0m\u001b[0minput\u001b[0m\u001b[0;34m,\u001b[0m \u001b[0;34m**\u001b[0m\u001b[0mkwargs\u001b[0m\u001b[0;34m)\u001b[0m\u001b[0;34m\u001b[0m\u001b[0;34m\u001b[0m\u001b[0m\n\u001b[0m\u001b[1;32m    723\u001b[0m         for hook in itertools.chain(\n\u001b[1;32m    724\u001b[0m                 \u001b[0m_global_forward_hooks\u001b[0m\u001b[0;34m.\u001b[0m\u001b[0mvalues\u001b[0m\u001b[0;34m(\u001b[0m\u001b[0;34m)\u001b[0m\u001b[0;34m,\u001b[0m\u001b[0;34m\u001b[0m\u001b[0;34m\u001b[0m\u001b[0m\n",
      "\u001b[0;32m~/col870-deep-learning/A1/LSTM-CRF/ner.py\u001b[0m in \u001b[0;36mforward\u001b[0;34m(self, X)\u001b[0m\n\u001b[1;32m    171\u001b[0m         \u001b[0mc\u001b[0m \u001b[0;34m=\u001b[0m \u001b[0mself\u001b[0m\u001b[0;34m.\u001b[0m\u001b[0mc0_f\u001b[0m\u001b[0;34m.\u001b[0m\u001b[0mexpand\u001b[0m\u001b[0;34m(\u001b[0m\u001b[0mX\u001b[0m\u001b[0;34m.\u001b[0m\u001b[0mshape\u001b[0m\u001b[0;34m[\u001b[0m\u001b[0;36m0\u001b[0m\u001b[0;34m]\u001b[0m\u001b[0;34m,\u001b[0m \u001b[0;34m-\u001b[0m\u001b[0;36m1\u001b[0m\u001b[0;34m)\u001b[0m\u001b[0;34m.\u001b[0m\u001b[0mcontiguous\u001b[0m\u001b[0;34m(\u001b[0m\u001b[0;34m)\u001b[0m\u001b[0;34m\u001b[0m\u001b[0;34m\u001b[0m\u001b[0m\n\u001b[1;32m    172\u001b[0m         \u001b[0;32mfor\u001b[0m \u001b[0mi\u001b[0m \u001b[0;32min\u001b[0m \u001b[0mrange\u001b[0m\u001b[0;34m(\u001b[0m\u001b[0mX\u001b[0m\u001b[0;34m.\u001b[0m\u001b[0mshape\u001b[0m\u001b[0;34m[\u001b[0m\u001b[0;36m1\u001b[0m\u001b[0;34m]\u001b[0m\u001b[0;34m)\u001b[0m\u001b[0;34m:\u001b[0m\u001b[0;34m\u001b[0m\u001b[0;34m\u001b[0m\u001b[0m\n\u001b[0;32m--> 173\u001b[0;31m             \u001b[0mh\u001b[0m\u001b[0;34m,\u001b[0m \u001b[0mc\u001b[0m \u001b[0;34m=\u001b[0m \u001b[0mself\u001b[0m\u001b[0;34m.\u001b[0m\u001b[0mlstm_cell_f\u001b[0m\u001b[0;34m(\u001b[0m\u001b[0mD\u001b[0m\u001b[0;34m[\u001b[0m\u001b[0;34m:\u001b[0m\u001b[0;34m,\u001b[0m\u001b[0mi\u001b[0m\u001b[0;34m,\u001b[0m\u001b[0;34m:\u001b[0m\u001b[0;34m]\u001b[0m\u001b[0;34m,\u001b[0m \u001b[0;34m(\u001b[0m\u001b[0mh\u001b[0m\u001b[0;34m,\u001b[0m \u001b[0mc\u001b[0m\u001b[0;34m)\u001b[0m\u001b[0;34m)\u001b[0m\u001b[0;34m\u001b[0m\u001b[0;34m\u001b[0m\u001b[0m\n\u001b[0m\u001b[1;32m    174\u001b[0m             \u001b[0mH\u001b[0m\u001b[0;34m[\u001b[0m\u001b[0;34m:\u001b[0m\u001b[0;34m,\u001b[0m\u001b[0mi\u001b[0m\u001b[0;34m,\u001b[0m\u001b[0;34m:\u001b[0m\u001b[0mself\u001b[0m\u001b[0;34m.\u001b[0m\u001b[0mhidden_size\u001b[0m\u001b[0;34m]\u001b[0m \u001b[0;34m=\u001b[0m \u001b[0mh\u001b[0m\u001b[0;34m\u001b[0m\u001b[0;34m\u001b[0m\u001b[0m\n\u001b[1;32m    175\u001b[0m \u001b[0;34m\u001b[0m\u001b[0m\n",
      "\u001b[0;32m/home/apps/centos7/pytorch/1.6.0/install/lib/python3.6/site-packages/torch/nn/modules/module.py\u001b[0m in \u001b[0;36m_call_impl\u001b[0;34m(self, *input, **kwargs)\u001b[0m\n\u001b[1;32m    720\u001b[0m             \u001b[0mresult\u001b[0m \u001b[0;34m=\u001b[0m \u001b[0mself\u001b[0m\u001b[0;34m.\u001b[0m\u001b[0m_slow_forward\u001b[0m\u001b[0;34m(\u001b[0m\u001b[0;34m*\u001b[0m\u001b[0minput\u001b[0m\u001b[0;34m,\u001b[0m \u001b[0;34m**\u001b[0m\u001b[0mkwargs\u001b[0m\u001b[0;34m)\u001b[0m\u001b[0;34m\u001b[0m\u001b[0;34m\u001b[0m\u001b[0m\n\u001b[1;32m    721\u001b[0m         \u001b[0;32melse\u001b[0m\u001b[0;34m:\u001b[0m\u001b[0;34m\u001b[0m\u001b[0;34m\u001b[0m\u001b[0m\n\u001b[0;32m--> 722\u001b[0;31m             \u001b[0mresult\u001b[0m \u001b[0;34m=\u001b[0m \u001b[0mself\u001b[0m\u001b[0;34m.\u001b[0m\u001b[0mforward\u001b[0m\u001b[0;34m(\u001b[0m\u001b[0;34m*\u001b[0m\u001b[0minput\u001b[0m\u001b[0;34m,\u001b[0m \u001b[0;34m**\u001b[0m\u001b[0mkwargs\u001b[0m\u001b[0;34m)\u001b[0m\u001b[0;34m\u001b[0m\u001b[0;34m\u001b[0m\u001b[0m\n\u001b[0m\u001b[1;32m    723\u001b[0m         for hook in itertools.chain(\n\u001b[1;32m    724\u001b[0m                 \u001b[0m_global_forward_hooks\u001b[0m\u001b[0;34m.\u001b[0m\u001b[0mvalues\u001b[0m\u001b[0;34m(\u001b[0m\u001b[0;34m)\u001b[0m\u001b[0;34m,\u001b[0m\u001b[0;34m\u001b[0m\u001b[0;34m\u001b[0m\u001b[0m\n",
      "\u001b[0;32m~/col870-deep-learning/A1/LSTM-CRF/ner.py\u001b[0m in \u001b[0;36mforward\u001b[0;34m(self, X, HC)\u001b[0m\n\u001b[1;32m    147\u001b[0m         \u001b[0mtmp\u001b[0m \u001b[0;34m=\u001b[0m \u001b[0mself\u001b[0m\u001b[0;34m.\u001b[0m\u001b[0mlnh\u001b[0m\u001b[0;34m(\u001b[0m\u001b[0mH\u001b[0m\u001b[0;34m@\u001b[0m\u001b[0mself\u001b[0m\u001b[0;34m.\u001b[0m\u001b[0mWh\u001b[0m\u001b[0;34m)\u001b[0m \u001b[0;34m+\u001b[0m \u001b[0mself\u001b[0m\u001b[0;34m.\u001b[0m\u001b[0mlnx\u001b[0m\u001b[0;34m(\u001b[0m\u001b[0mX\u001b[0m\u001b[0;34m@\u001b[0m\u001b[0mself\u001b[0m\u001b[0;34m.\u001b[0m\u001b[0mWx\u001b[0m\u001b[0;34m)\u001b[0m \u001b[0;34m+\u001b[0m \u001b[0mself\u001b[0m\u001b[0;34m.\u001b[0m\u001b[0mb\u001b[0m\u001b[0;34m\u001b[0m\u001b[0;34m\u001b[0m\u001b[0m\n\u001b[1;32m    148\u001b[0m         \u001b[0mf\u001b[0m\u001b[0;34m,\u001b[0m \u001b[0mi\u001b[0m\u001b[0;34m,\u001b[0m \u001b[0mo\u001b[0m\u001b[0;34m,\u001b[0m \u001b[0mg\u001b[0m \u001b[0;34m=\u001b[0m \u001b[0mtorch\u001b[0m\u001b[0;34m.\u001b[0m\u001b[0msplit\u001b[0m\u001b[0;34m(\u001b[0m\u001b[0mtmp\u001b[0m\u001b[0;34m,\u001b[0m \u001b[0;34m[\u001b[0m\u001b[0mself\u001b[0m\u001b[0;34m.\u001b[0m\u001b[0mhidden_size\u001b[0m\u001b[0;34m]\u001b[0m\u001b[0;34m*\u001b[0m\u001b[0;36m4\u001b[0m\u001b[0;34m,\u001b[0m \u001b[0mdim\u001b[0m\u001b[0;34m=\u001b[0m\u001b[0;34m-\u001b[0m\u001b[0;36m1\u001b[0m\u001b[0;34m)\u001b[0m\u001b[0;34m\u001b[0m\u001b[0;34m\u001b[0m\u001b[0m\n\u001b[0;32m--> 149\u001b[0;31m         \u001b[0mC\u001b[0m \u001b[0;34m=\u001b[0m \u001b[0mtorch\u001b[0m\u001b[0;34m.\u001b[0m\u001b[0msigmoid\u001b[0m\u001b[0;34m(\u001b[0m\u001b[0mf\u001b[0m\u001b[0;34m)\u001b[0m \u001b[0;34m*\u001b[0m \u001b[0mC\u001b[0m \u001b[0;34m+\u001b[0m \u001b[0mtorch\u001b[0m\u001b[0;34m.\u001b[0m\u001b[0msigmoid\u001b[0m\u001b[0;34m(\u001b[0m\u001b[0mi\u001b[0m\u001b[0;34m)\u001b[0m \u001b[0;34m*\u001b[0m \u001b[0mtorch\u001b[0m\u001b[0;34m.\u001b[0m\u001b[0mtanh\u001b[0m\u001b[0;34m(\u001b[0m\u001b[0mg\u001b[0m\u001b[0;34m)\u001b[0m\u001b[0;34m\u001b[0m\u001b[0;34m\u001b[0m\u001b[0m\n\u001b[0m\u001b[1;32m    150\u001b[0m         \u001b[0mH\u001b[0m \u001b[0;34m=\u001b[0m \u001b[0mtorch\u001b[0m\u001b[0;34m.\u001b[0m\u001b[0msigmoid\u001b[0m\u001b[0;34m(\u001b[0m\u001b[0mo\u001b[0m\u001b[0;34m)\u001b[0m \u001b[0;34m*\u001b[0m \u001b[0mtorch\u001b[0m\u001b[0;34m.\u001b[0m\u001b[0mtanh\u001b[0m\u001b[0;34m(\u001b[0m\u001b[0mself\u001b[0m\u001b[0;34m.\u001b[0m\u001b[0mlnc\u001b[0m\u001b[0;34m(\u001b[0m\u001b[0mC\u001b[0m\u001b[0;34m)\u001b[0m\u001b[0;34m)\u001b[0m\u001b[0;34m\u001b[0m\u001b[0;34m\u001b[0m\u001b[0m\n\u001b[1;32m    151\u001b[0m         \u001b[0;32mreturn\u001b[0m \u001b[0mH\u001b[0m\u001b[0;34m,\u001b[0m \u001b[0mC\u001b[0m\u001b[0;34m\u001b[0m\u001b[0;34m\u001b[0m\u001b[0m\n",
      "\u001b[0;31mKeyboardInterrupt\u001b[0m: "
     ]
    }
   ],
   "source": [
    "train_loop(\n",
    "    train_set=(train_W, train_X, train_Y),\n",
    "    dev_set=(dev_W, dev_X, dev_Y),\n",
    "    model=ln_glv_model.to(device),\n",
    "    opt=optim.Adam(ln_glv_model.parameters(), lr=0.0001),\n",
    "    n_classes=len(lbl_to_id)-1,\n",
    "    batch_size=128,\n",
    "    pred_batch_size=4096,\n",
    "    grad_clip_norm=5\n",
    ")"
   ]
  },
  {
   "cell_type": "code",
   "execution_count": 21,
   "metadata": {},
   "outputs": [],
   "source": [
    "torch.save(ln_glv_model.state_dict(), 'data/pt-cache/ln_glv_model.pt')"
   ]
  },
  {
   "cell_type": "code",
   "execution_count": 22,
   "metadata": {},
   "outputs": [],
   "source": [
    "test_pred = ln_glv_model.to(device).batch_predict(test_W, test_X, 4096)"
   ]
  },
  {
   "cell_type": "code",
   "execution_count": 23,
   "metadata": {},
   "outputs": [
    {
     "name": "stdout",
     "output_type": "stream",
     "text": [
      "              precision    recall  f1-score   support\n",
      "\n",
      "         art       0.01      0.32      0.02       102\n",
      "         eve       0.04      0.52      0.07        87\n",
      "         geo       0.60      0.79      0.68      9912\n",
      "         gpe       0.78      0.87      0.82      4168\n",
      "         nat       0.04      0.58      0.07        55\n",
      "         org       0.24      0.44      0.31      5205\n",
      "         per       0.55      0.74      0.63      4406\n",
      "         tim       0.24      0.49      0.32      5275\n",
      "\n",
      "   micro avg       0.40      0.67      0.50     29210\n",
      "   macro avg       0.31      0.59      0.37     29210\n",
      "weighted avg       0.48      0.67      0.56     29210\n",
      "\n",
      "11.826610326766968\n"
     ]
    }
   ],
   "source": [
    "tic = time.time()\n",
    "print(conll_report(test_Y, test_pred, id_to_lbl, lbl_to_id['PAD_LBL']))\n",
    "toc = time.time()\n",
    "print(toc-tic)"
   ]
  },
  {
   "cell_type": "code",
   "execution_count": 11,
   "metadata": {},
   "outputs": [],
   "source": [
    "ln_chr_glv_model = NERModel(\n",
    "    embed_model=ChrTokEmbModel(\n",
    "        chr_emb_model=ChrEmbModel(\n",
    "            n_embs=len(chr_to_id),\n",
    "            pad_chr_id=chr_to_id['PAD_CHR'],\n",
    "            emb_size=8,\n",
    "            hidden_size=25,\n",
    "            unk_chr_id=chr_to_id['UNK_CHR'],\n",
    "            unk_replace_prob=0.2\n",
    "        ),\n",
    "        tok_emb_model=TokEmbModel(\n",
    "            init_emb=glv_emb,\n",
    "            pad_tok_id=tok_to_id['PAD_TOK']\n",
    "        ),\n",
    "    ),\n",
    "    seq_tag_model=LNSeqTagModel(\n",
    "        input_size=150,\n",
    "        hidden_size=100,\n",
    "        output_size=len(lbl_to_id)-1,\n",
    "        dropout_prob=0.5\n",
    "    ),\n",
    "    pad_lbl_id=lbl_to_id['PAD_LBL'],\n",
    "    pad_tok_id=tok_to_id['PAD_TOK']\n",
    ")\n",
    "#ln_chr_glv_model.load_state_dict(torch.load('data/pt-cache/ln_chr_glv_model.pt'))"
   ]
  },
  {
   "cell_type": "code",
   "execution_count": 20,
   "metadata": {},
   "outputs": [
    {
     "data": {
      "application/vnd.jupyter.widget-view+json": {
       "model_id": "23458e3c13a644038fd156eb50c0293d",
       "version_major": 2,
       "version_minor": 0
      },
      "text/plain": [
       "HBox(children=(HTML(value='epochs'), FloatProgress(value=0.0), HTML(value='')))"
      ]
     },
     "metadata": {},
     "output_type": "display_data"
    },
    {
     "data": {
      "application/vnd.jupyter.widget-view+json": {
       "model_id": "",
       "version_major": 2,
       "version_minor": 0
      },
      "text/plain": [
       "HBox(children=(HTML(value='batches'), FloatProgress(value=0.0, max=291.0), HTML(value='')))"
      ]
     },
     "metadata": {},
     "output_type": "display_data"
    },
    {
     "name": "stdout",
     "output_type": "stream",
     "text": [
      "0.0009755282581475768\n"
     ]
    },
    {
     "data": {
      "application/vnd.jupyter.widget-view+json": {
       "model_id": "",
       "version_major": 2,
       "version_minor": 0
      },
      "text/plain": [
       "HBox(children=(HTML(value='batches'), FloatProgress(value=0.0, max=291.0), HTML(value='')))"
      ]
     },
     "metadata": {},
     "output_type": "display_data"
    },
    {
     "name": "stdout",
     "output_type": "stream",
     "text": [
      "0.0009045084971874736\n"
     ]
    },
    {
     "data": {
      "application/vnd.jupyter.widget-view+json": {
       "model_id": "",
       "version_major": 2,
       "version_minor": 0
      },
      "text/plain": [
       "HBox(children=(HTML(value='batches'), FloatProgress(value=0.0, max=291.0), HTML(value='')))"
      ]
     },
     "metadata": {},
     "output_type": "display_data"
    },
    {
     "name": "stdout",
     "output_type": "stream",
     "text": [
      "0.0007938926261462366\n"
     ]
    },
    {
     "data": {
      "application/vnd.jupyter.widget-view+json": {
       "model_id": "",
       "version_major": 2,
       "version_minor": 0
      },
      "text/plain": [
       "HBox(children=(HTML(value='batches'), FloatProgress(value=0.0, max=291.0), HTML(value='')))"
      ]
     },
     "metadata": {},
     "output_type": "display_data"
    },
    {
     "name": "stdout",
     "output_type": "stream",
     "text": [
      "0.0006545084971874737\n",
      "\n"
     ]
    },
    {
     "data": {
      "text/plain": [
       "([0.07222694903612137,\n",
       "  0.056267622858285904,\n",
       "  0.0628572627902031,\n",
       "  0.05374956130981445,\n",
       "  0.05427341163158417,\n",
       "  0.042730286717414856,\n",
       "  0.04443303123116493,\n",
       "  0.04920130595564842,\n",
       "  0.050296932458877563,\n",
       "  0.04919472709298134,\n",
       "  0.05453028529882431,\n",
       "  0.07218747586011887,\n",
       "  0.0430409200489521,\n",
       "  0.05611911043524742,\n",
       "  0.04503302276134491,\n",
       "  0.04847097396850586,\n",
       "  0.04084367677569389,\n",
       "  0.04171796143054962,\n",
       "  0.06195199862122536,\n",
       "  0.04498093202710152,\n",
       "  0.05530839413404465,\n",
       "  0.058663465082645416,\n",
       "  0.04439467564225197,\n",
       "  0.05942241847515106,\n",
       "  0.04868136718869209,\n",
       "  0.06377633661031723,\n",
       "  0.06287714093923569,\n",
       "  0.04330388084053993,\n",
       "  0.052154187113046646,\n",
       "  0.04688587784767151,\n",
       "  0.04454159364104271,\n",
       "  0.05314933881163597,\n",
       "  0.058061711490154266,\n",
       "  0.04724319279193878,\n",
       "  0.04110421985387802,\n",
       "  0.043533213436603546,\n",
       "  0.05980009585618973,\n",
       "  0.05646244063973427,\n",
       "  0.05920771509408951,\n",
       "  0.0528162345290184,\n",
       "  0.052808452397584915,\n",
       "  0.05462720990180969,\n",
       "  0.04007876664400101,\n",
       "  0.05739245191216469,\n",
       "  0.058455243706703186,\n",
       "  0.04085974022746086,\n",
       "  0.05574457719922066,\n",
       "  0.059859178960323334,\n",
       "  0.04739651456475258,\n",
       "  0.051115043461322784,\n",
       "  0.0506308376789093,\n",
       "  0.037176892161369324,\n",
       "  0.060008417814970016,\n",
       "  0.03661710023880005,\n",
       "  0.05338333919644356,\n",
       "  0.0709390863776207,\n",
       "  0.0663902536034584,\n",
       "  0.0677374005317688,\n",
       "  0.04084462672472,\n",
       "  0.04629555717110634,\n",
       "  0.04331815615296364,\n",
       "  0.04705337807536125,\n",
       "  0.03336649015545845,\n",
       "  0.061749063432216644,\n",
       "  0.05747423321008682,\n",
       "  0.0558905154466629,\n",
       "  0.04490409418940544,\n",
       "  0.051964905112981796,\n",
       "  0.050300076603889465,\n",
       "  0.0631214827299118,\n",
       "  0.043877989053726196,\n",
       "  0.04365687072277069,\n",
       "  0.0507548451423645,\n",
       "  0.06042773276567459,\n",
       "  0.0513918437063694,\n",
       "  0.044633254408836365,\n",
       "  0.06856925040483475,\n",
       "  0.05651253089308739,\n",
       "  0.042541082948446274,\n",
       "  0.05744141712784767,\n",
       "  0.05950881540775299,\n",
       "  0.042469341307878494,\n",
       "  0.05808074399828911,\n",
       "  0.04697892814874649,\n",
       "  0.05540653318166733,\n",
       "  0.058999162167310715,\n",
       "  0.04583589732646942,\n",
       "  0.05047614872455597,\n",
       "  0.04743862897157669,\n",
       "  0.06000038608908653,\n",
       "  0.045148592442274094,\n",
       "  0.042673904448747635,\n",
       "  0.0531427338719368,\n",
       "  0.0723215788602829,\n",
       "  0.04561153054237366,\n",
       "  0.06493110209703445,\n",
       "  0.0491558276116848,\n",
       "  0.05240669101476669,\n",
       "  0.04829002171754837,\n",
       "  0.05564116686582565,\n",
       "  0.04631612449884415,\n",
       "  0.05154106765985489,\n",
       "  0.0618293471634388,\n",
       "  0.05638663098216057,\n",
       "  0.06424085795879364,\n",
       "  0.05571092665195465,\n",
       "  0.05120375007390976,\n",
       "  0.04506678134202957,\n",
       "  0.03912968561053276,\n",
       "  0.03159811347723007,\n",
       "  0.054125722497701645,\n",
       "  0.060109686106443405,\n",
       "  0.05354642868041992,\n",
       "  0.041463471949100494,\n",
       "  0.04410002753138542,\n",
       "  0.04350777342915535,\n",
       "  0.04454045742750168,\n",
       "  0.06547876447439194,\n",
       "  0.05631938576698303,\n",
       "  0.05975945666432381,\n",
       "  0.044820304960012436,\n",
       "  0.06394864618778229,\n",
       "  0.051249418407678604,\n",
       "  0.05457942932844162,\n",
       "  0.06138388812541962,\n",
       "  0.06534131616353989,\n",
       "  0.04576203227043152,\n",
       "  0.05710110440850258,\n",
       "  0.054432231932878494,\n",
       "  0.06150799244642258,\n",
       "  0.042144522070884705,\n",
       "  0.03419635817408562,\n",
       "  0.057119257748126984,\n",
       "  0.043707121163606644,\n",
       "  0.055326320230960846,\n",
       "  0.05262243002653122,\n",
       "  0.058660779148340225,\n",
       "  0.06947115063667297,\n",
       "  0.041983481496572495,\n",
       "  0.05639711394906044,\n",
       "  0.05090292915701866,\n",
       "  0.05051182955503464,\n",
       "  0.03984294831752777,\n",
       "  0.056487154215574265,\n",
       "  0.042316220700740814,\n",
       "  0.059223875403404236,\n",
       "  0.05745169147849083,\n",
       "  0.043018218129873276,\n",
       "  0.04794982448220253,\n",
       "  0.06965583562850952,\n",
       "  0.0627354308962822,\n",
       "  0.06635064631700516,\n",
       "  0.05150124058127403,\n",
       "  0.052636727690696716,\n",
       "  0.06169953569769859,\n",
       "  0.05100846663117409,\n",
       "  0.06004973128437996,\n",
       "  0.05426390841603279,\n",
       "  0.045641131699085236,\n",
       "  0.05512947216629982,\n",
       "  0.035394132137298584,\n",
       "  0.0398964025080204,\n",
       "  0.05857951566576958,\n",
       "  0.04903598874807358,\n",
       "  0.04192843660712242,\n",
       "  0.04487541317939758,\n",
       "  0.06396517157554626,\n",
       "  0.05355105921626091,\n",
       "  0.04602797329425812,\n",
       "  0.059291575103998184,\n",
       "  0.05644065514206886,\n",
       "  0.046356089413166046,\n",
       "  0.045800987631082535,\n",
       "  0.05268249288201332,\n",
       "  0.05678965151309967,\n",
       "  0.053302962332963943,\n",
       "  0.05420047789812088,\n",
       "  0.06239229068160057,\n",
       "  0.04802799969911575,\n",
       "  0.03985579311847687,\n",
       "  0.05763411149382591,\n",
       "  0.047513652592897415,\n",
       "  0.056642431765794754,\n",
       "  0.05565022677183151,\n",
       "  0.05910247564315796,\n",
       "  0.07116330415010452,\n",
       "  0.03691168129444122,\n",
       "  0.052520979195833206,\n",
       "  0.057991303503513336,\n",
       "  0.06293774396181107,\n",
       "  0.0421428419649601,\n",
       "  0.05184132978320122,\n",
       "  0.04995695501565933,\n",
       "  0.03799711912870407,\n",
       "  0.043590571731328964,\n",
       "  0.050348326563835144,\n",
       "  0.03893233835697174,\n",
       "  0.05897447466850281,\n",
       "  0.05220235884189606,\n",
       "  0.05805974826216698,\n",
       "  0.04784991219639778,\n",
       "  0.05148645117878914,\n",
       "  0.053840190172195435,\n",
       "  0.042929068207740784,\n",
       "  0.05667076259851456,\n",
       "  0.060282398015260696,\n",
       "  0.053755663335323334,\n",
       "  0.050473764538764954,\n",
       "  0.045865532010793686,\n",
       "  0.04677579924464226,\n",
       "  0.04391728341579437,\n",
       "  0.04308579862117767,\n",
       "  0.055855173617601395,\n",
       "  0.05867098271846771,\n",
       "  0.05065123364329338,\n",
       "  0.05820683762431145,\n",
       "  0.04361788555979729,\n",
       "  0.04435017704963684,\n",
       "  0.0648321583867073,\n",
       "  0.05486062541604042,\n",
       "  0.04857870563864708,\n",
       "  0.06522149592638016,\n",
       "  0.044473160058259964,\n",
       "  0.06508810818195343,\n",
       "  0.07096423953771591,\n",
       "  0.0465933121740818,\n",
       "  0.054953545331954956,\n",
       "  0.060459401458501816,\n",
       "  0.049859266728162766,\n",
       "  0.05553542822599411,\n",
       "  0.0479249581694603,\n",
       "  0.06630336493253708,\n",
       "  0.04187861084938049,\n",
       "  0.06628623604774475,\n",
       "  0.04689839854836464,\n",
       "  0.0570683516561985,\n",
       "  0.03774687275290489,\n",
       "  0.05571692809462547,\n",
       "  0.057537782937288284,\n",
       "  0.05728801712393761,\n",
       "  0.039230167865753174,\n",
       "  0.059301577508449554,\n",
       "  0.05938633531332016,\n",
       "  0.037112899124622345,\n",
       "  0.04983378201723099,\n",
       "  0.04807587340474129,\n",
       "  0.04862457886338234,\n",
       "  0.07782843708992004,\n",
       "  0.05520772561430931,\n",
       "  0.047796640545129776,\n",
       "  0.04032858461141586,\n",
       "  0.0462028831243515,\n",
       "  0.04544568061828613,\n",
       "  0.055563632398843765,\n",
       "  0.05665621533989906,\n",
       "  0.07706480473279953,\n",
       "  0.06332327425479889,\n",
       "  0.042582739144563675,\n",
       "  0.049878351390361786,\n",
       "  0.042767807841300964,\n",
       "  0.04551174119114876,\n",
       "  0.05547069385647774,\n",
       "  0.04859904199838638,\n",
       "  0.038468118757009506,\n",
       "  0.04637448489665985,\n",
       "  0.06502342224121094,\n",
       "  0.04870473966002464,\n",
       "  0.04069989547133446,\n",
       "  0.04711989685893059,\n",
       "  0.04691724106669426,\n",
       "  0.055164650082588196,\n",
       "  0.05041298270225525,\n",
       "  0.05530814081430435,\n",
       "  0.06062712520360947,\n",
       "  0.05318828299641609,\n",
       "  0.04513833671808243,\n",
       "  0.0608212910592556,\n",
       "  0.045505717396736145,\n",
       "  0.04870098456740379,\n",
       "  0.057801440358161926,\n",
       "  0.06080694869160652,\n",
       "  0.04041893035173416,\n",
       "  0.05869051441550255,\n",
       "  0.05287087336182594,\n",
       "  0.05086134746670723,\n",
       "  0.04172583296895027,\n",
       "  0.07831425964832306,\n",
       "  0.05577999725937843,\n",
       "  0.04883052408695221,\n",
       "  0.04868011921644211,\n",
       "  0.05614686757326126,\n",
       "  0.0459895096719265,\n",
       "  0.05188475176692009,\n",
       "  0.0701630711555481,\n",
       "  0.05523812398314476,\n",
       "  0.05142927169799805,\n",
       "  0.055940255522727966,\n",
       "  0.051533013582229614,\n",
       "  0.05581512674689293,\n",
       "  0.04833889752626419,\n",
       "  0.048908401280641556,\n",
       "  0.055122509598731995,\n",
       "  0.033913906663656235,\n",
       "  0.05983998626470566,\n",
       "  0.05119742080569267,\n",
       "  0.04207883030176163,\n",
       "  0.05184908211231232,\n",
       "  0.06207684427499771,\n",
       "  0.050667762756347656,\n",
       "  0.04813002422451973,\n",
       "  0.050752077251672745,\n",
       "  0.048102859407663345,\n",
       "  0.05920702964067459,\n",
       "  0.07245322316884995,\n",
       "  0.05738982558250427,\n",
       "  0.052443698048591614,\n",
       "  0.053565219044685364,\n",
       "  0.0654560998082161,\n",
       "  0.03654373437166214,\n",
       "  0.04923563823103905,\n",
       "  0.04785873740911484,\n",
       "  0.06357745826244354,\n",
       "  0.043656542897224426,\n",
       "  0.052837613970041275,\n",
       "  0.04910210147500038,\n",
       "  0.05237053707242012,\n",
       "  0.06104324758052826,\n",
       "  0.05646452680230141,\n",
       "  0.06101875752210617,\n",
       "  0.053553126752376556,\n",
       "  0.04506842792034149,\n",
       "  0.04428478330373764,\n",
       "  0.03715282306075096,\n",
       "  0.04148449748754501,\n",
       "  0.05361294001340866,\n",
       "  0.05767379701137543,\n",
       "  0.040927641093730927,\n",
       "  0.04140409827232361,\n",
       "  0.05882830172777176,\n",
       "  0.051952287554740906,\n",
       "  0.04509306326508522,\n",
       "  0.05134216323494911,\n",
       "  0.05119059234857559,\n",
       "  0.05795428156852722,\n",
       "  0.03766249120235443,\n",
       "  0.054877012968063354,\n",
       "  0.041485562920570374,\n",
       "  0.05363260582089424,\n",
       "  0.045659828931093216,\n",
       "  0.05372044816613197,\n",
       "  0.05896582454442978,\n",
       "  0.05490022525191307,\n",
       "  0.04705718159675598,\n",
       "  0.06145215034484863,\n",
       "  0.05090353265404701,\n",
       "  0.041371915489435196,\n",
       "  0.06400993466377258,\n",
       "  0.045656438916921616,\n",
       "  0.052150458097457886,\n",
       "  0.0551348514854908,\n",
       "  0.05633583664894104,\n",
       "  0.04693117365241051,\n",
       "  0.04384994879364967,\n",
       "  0.057819098234176636,\n",
       "  0.04600079730153084,\n",
       "  0.033488910645246506,\n",
       "  0.05695829167962074,\n",
       "  0.06015018746256828,\n",
       "  0.05753001570701599,\n",
       "  0.07582101970911026,\n",
       "  0.039062805473804474,\n",
       "  0.03739611804485321,\n",
       "  0.049445364624261856,\n",
       "  0.05153219401836395,\n",
       "  0.04810710623860359,\n",
       "  0.043528202921152115,\n",
       "  0.04824523255228996,\n",
       "  0.03830961510539055,\n",
       "  0.060886770486831665,\n",
       "  0.06378458440303802,\n",
       "  0.04925462603569031,\n",
       "  0.05207964777946472,\n",
       "  0.040990907698869705,\n",
       "  0.05092993751168251,\n",
       "  0.05490412190556526,\n",
       "  0.03980597108602524,\n",
       "  0.043342236429452896,\n",
       "  0.05003925785422325,\n",
       "  0.05584366247057915,\n",
       "  0.04382000118494034,\n",
       "  0.048576317727565765,\n",
       "  0.061169810593128204,\n",
       "  0.04808669164776802,\n",
       "  0.05120960995554924,\n",
       "  0.06360381096601486,\n",
       "  0.05224856361746788,\n",
       "  0.051456354558467865,\n",
       "  0.06383746862411499,\n",
       "  0.05308816581964493,\n",
       "  0.06788727641105652,\n",
       "  0.04136296361684799,\n",
       "  0.06274682283401489,\n",
       "  0.05623895674943924,\n",
       "  0.059970688074827194,\n",
       "  0.06305775791406631,\n",
       "  0.049669526517391205,\n",
       "  0.05291863903403282,\n",
       "  0.03513316810131073,\n",
       "  0.04927545413374901,\n",
       "  0.05461449548602104,\n",
       "  0.06848925352096558,\n",
       "  0.03748498484492302,\n",
       "  0.05364017188549042,\n",
       "  0.05278449133038521,\n",
       "  0.07473260909318924,\n",
       "  0.05027676373720169,\n",
       "  0.04916105791926384,\n",
       "  0.05746559798717499,\n",
       "  0.04414902627468109,\n",
       "  0.04925597459077835,\n",
       "  0.03844185173511505,\n",
       "  0.049323130398988724,\n",
       "  0.04620439559221268,\n",
       "  0.0365331768989563,\n",
       "  0.05370693653821945,\n",
       "  0.049834027886390686,\n",
       "  0.04679690673947334,\n",
       "  0.06620278209447861,\n",
       "  0.04937473684549332,\n",
       "  0.03923467919230461,\n",
       "  0.051529671996831894,\n",
       "  0.054976388812065125,\n",
       "  0.06159788742661476,\n",
       "  0.05060478299856186,\n",
       "  0.04057998210191727,\n",
       "  0.033607590943574905,\n",
       "  0.039283622056245804,\n",
       "  0.04165058210492134,\n",
       "  0.03797973692417145,\n",
       "  0.0428711399435997,\n",
       "  0.04601206257939339,\n",
       "  0.057045161724090576,\n",
       "  0.07020434737205505,\n",
       "  0.050272200256586075,\n",
       "  0.03543118014931679,\n",
       "  0.035821009427309036,\n",
       "  0.05471337214112282,\n",
       "  0.050020039081573486,\n",
       "  0.06052495911717415,\n",
       "  0.06287018954753876,\n",
       "  0.04983822628855705,\n",
       "  0.04320581629872322,\n",
       "  0.03770498186349869,\n",
       "  0.048519689589738846,\n",
       "  0.05115634948015213,\n",
       "  0.05738726630806923,\n",
       "  0.05117936059832573,\n",
       "  0.03777391463518143,\n",
       "  0.052851125597953796,\n",
       "  0.058041173964738846,\n",
       "  0.052602220326662064,\n",
       "  0.06159472092986107,\n",
       "  0.04124320670962334,\n",
       "  0.04422865808010101,\n",
       "  0.044253550469875336,\n",
       "  0.04678964614868164,\n",
       "  0.049361955374479294,\n",
       "  0.05731600895524025,\n",
       "  0.054590459913015366,\n",
       "  0.04527941718697548,\n",
       "  0.05198367312550545,\n",
       "  0.06726523488759995,\n",
       "  0.05715139955282211,\n",
       "  0.052664145827293396,\n",
       "  0.0499255545437336,\n",
       "  0.05660456418991089,\n",
       "  0.04887800291180611,\n",
       "  0.04125179722905159,\n",
       "  0.03647856041789055,\n",
       "  0.05099993944168091,\n",
       "  0.04400979354977608,\n",
       "  0.06166622415184975,\n",
       "  0.04312755912542343,\n",
       "  0.04600241035223007,\n",
       "  0.05227086320519447,\n",
       "  0.06142454594373703,\n",
       "  0.040429577231407166,\n",
       "  0.04229283332824707,\n",
       "  0.052643511444330215,\n",
       "  0.0536426343023777,\n",
       "  0.03354118391871452,\n",
       "  0.044124819338321686,\n",
       "  0.0390806682407856,\n",
       "  0.05597684532403946,\n",
       "  0.04891514405608177,\n",
       "  0.043169450014829636,\n",
       "  0.07851380109786987,\n",
       "  0.06073513627052307,\n",
       "  0.060200221836566925,\n",
       "  0.047933418303728104,\n",
       "  0.04951271414756775,\n",
       "  0.04039004445075989,\n",
       "  0.04468090832233429,\n",
       "  0.05315062776207924,\n",
       "  0.044235799461603165,\n",
       "  0.04434795677661896,\n",
       "  0.048912689089775085,\n",
       "  0.049034420400857925,\n",
       "  0.05741334706544876,\n",
       "  0.05650455877184868,\n",
       "  0.05838000774383545,\n",
       "  0.05938209593296051,\n",
       "  0.06925518810749054,\n",
       "  0.05444828048348427,\n",
       "  0.03831924870610237,\n",
       "  0.062333088368177414,\n",
       "  0.04034280404448509,\n",
       "  0.04893546923995018,\n",
       "  0.05950857326388359,\n",
       "  0.04920811578631401,\n",
       "  0.06500264257192612,\n",
       "  0.04581412300467491,\n",
       "  0.05244927853345871,\n",
       "  0.05811898410320282,\n",
       "  0.06191949546337128,\n",
       "  0.04810001701116562,\n",
       "  0.05507712811231613,\n",
       "  0.04063546657562256,\n",
       "  0.051465414464473724,\n",
       "  0.05084973946213722,\n",
       "  0.047409676015377045,\n",
       "  0.05200858414173126,\n",
       "  0.05446913093328476,\n",
       "  0.06123434007167816,\n",
       "  0.06719567626714706,\n",
       "  0.04731534421443939,\n",
       "  0.04296829551458359,\n",
       "  0.05058702081441879,\n",
       "  0.04994331672787666,\n",
       "  0.04921947792172432,\n",
       "  0.037737734615802765,\n",
       "  0.047890592366456985,\n",
       "  0.0641588643193245,\n",
       "  0.028911178931593895,\n",
       "  0.045169368386268616,\n",
       "  0.04678117856383324,\n",
       "  0.05296951159834862,\n",
       "  0.055210452526807785,\n",
       "  0.057007648050785065,\n",
       "  0.04998243600130081,\n",
       "  0.06391624361276627,\n",
       "  0.047427453100681305,\n",
       "  0.044250406324863434,\n",
       "  0.07058839499950409,\n",
       "  0.04408456012606621,\n",
       "  0.05668986961245537,\n",
       "  0.053880780935287476,\n",
       "  0.038665905594825745,\n",
       "  0.04430479556322098,\n",
       "  0.06876848638057709,\n",
       "  0.04648485779762268,\n",
       "  0.04177219793200493,\n",
       "  0.04785275086760521,\n",
       "  0.038060471415519714,\n",
       "  0.053490523248910904,\n",
       "  0.04719690978527069,\n",
       "  0.04946405813097954,\n",
       "  0.045981183648109436,\n",
       "  0.050019554793834686,\n",
       "  0.0489102303981781,\n",
       "  0.03823784366250038,\n",
       "  0.060668304562568665,\n",
       "  0.042979661375284195,\n",
       "  0.05646263808012009,\n",
       "  0.04350775107741356,\n",
       "  0.04714019596576691,\n",
       "  0.04149181768298149,\n",
       "  0.04537321254611015,\n",
       "  0.05004613846540451,\n",
       "  0.04642406851053238,\n",
       "  0.048112332820892334,\n",
       "  0.05225589871406555,\n",
       "  0.04422522336244583,\n",
       "  0.05316583812236786,\n",
       "  0.05860138311982155,\n",
       "  0.04902806505560875,\n",
       "  0.04678806662559509,\n",
       "  0.047550879418849945,\n",
       "  0.05080445110797882,\n",
       "  0.039418067783117294,\n",
       "  0.04601186141371727,\n",
       "  0.04658032953739166,\n",
       "  0.04618825763463974,\n",
       "  0.0532614067196846,\n",
       "  0.0516529344022274,\n",
       "  0.042320698499679565,\n",
       "  0.04805544391274452,\n",
       "  0.05673791840672493,\n",
       "  0.032877907156944275,\n",
       "  0.04127940535545349,\n",
       "  0.05150211602449417,\n",
       "  0.0490792915225029,\n",
       "  0.04131735488772392,\n",
       "  0.056836143136024475,\n",
       "  0.05730978026986122,\n",
       "  0.06045682728290558,\n",
       "  0.035204000771045685,\n",
       "  0.04245631769299507,\n",
       "  0.03732316568493843,\n",
       "  0.04714573547244072,\n",
       "  0.040242984890937805,\n",
       "  0.03947310149669647,\n",
       "  0.049346283078193665,\n",
       "  0.06730089336633682,\n",
       "  0.03822604566812515,\n",
       "  0.055148106068372726,\n",
       "  0.05908149108290672,\n",
       "  0.043215516954660416,\n",
       "  0.04254929721355438,\n",
       "  0.042303815484046936,\n",
       "  0.04814450815320015,\n",
       "  0.054415006190538406,\n",
       "  0.045868631452322006,\n",
       "  0.03752465173602104,\n",
       "  0.05163643881678581,\n",
       "  0.04212173447012901,\n",
       "  0.061442721635103226,\n",
       "  0.05176403746008873,\n",
       "  0.04012443125247955,\n",
       "  0.04010218754410744,\n",
       "  0.04515895992517471,\n",
       "  0.05365973338484764,\n",
       "  0.05837306007742882,\n",
       "  0.03830277919769287,\n",
       "  0.05563768744468689,\n",
       "  0.055537983775138855,\n",
       "  0.061711862683296204,\n",
       "  0.03277428820729256,\n",
       "  0.04359521344304085,\n",
       "  0.047877516597509384,\n",
       "  0.040335167199373245,\n",
       "  0.04864564910531044,\n",
       "  0.05097982659935951,\n",
       "  0.06403389573097229,\n",
       "  0.03816048055887222,\n",
       "  0.047977227717638016,\n",
       "  0.05210311338305473,\n",
       "  0.04489266499876976,\n",
       "  0.04242317005991936,\n",
       "  0.05602838099002838,\n",
       "  0.04711092635989189,\n",
       "  0.03179417550563812,\n",
       "  0.04064568877220154,\n",
       "  0.042952343821525574,\n",
       "  0.04888126999139786,\n",
       "  0.05042067542672157,\n",
       "  0.04040241986513138,\n",
       "  0.06708081811666489,\n",
       "  0.050626784563064575,\n",
       "  0.052420374006032944,\n",
       "  0.04789888858795166,\n",
       "  0.04294823482632637,\n",
       "  0.0403924323618412,\n",
       "  0.04835879057645798,\n",
       "  0.05464811995625496,\n",
       "  0.049941521137952805,\n",
       "  0.06625349819660187,\n",
       "  0.04241546615958214,\n",
       "  0.04063437879085541,\n",
       "  0.04325651749968529,\n",
       "  0.06855714321136475,\n",
       "  0.050140321254730225,\n",
       "  0.04473084583878517,\n",
       "  0.04876967519521713,\n",
       "  0.053993698209524155,\n",
       "  0.0711357593536377,\n",
       "  0.05069699510931969,\n",
       "  0.04310854896903038,\n",
       "  0.061960626393556595,\n",
       "  0.05998653173446655,\n",
       "  0.026320522651076317,\n",
       "  0.045035962015390396,\n",
       "  0.05909699201583862,\n",
       "  0.05490840971469879,\n",
       "  0.05435750260949135,\n",
       "  0.04435915872454643,\n",
       "  0.057306285947561264,\n",
       "  0.04895677790045738,\n",
       "  0.04756211116909981,\n",
       "  0.044436030089855194,\n",
       "  0.05049983784556389,\n",
       "  0.039067141711711884,\n",
       "  0.059394821524620056,\n",
       "  0.048732418566942215,\n",
       "  0.052951887249946594,\n",
       "  0.054838284850120544,\n",
       "  0.038857489824295044,\n",
       "  0.06215260550379753,\n",
       "  0.0625804215669632,\n",
       "  0.03725728392601013,\n",
       "  0.05734766274690628,\n",
       "  0.0426596999168396,\n",
       "  0.04162610322237015,\n",
       "  0.06082472950220108,\n",
       "  0.04270505905151367,\n",
       "  0.0604046992957592,\n",
       "  0.04996562376618385,\n",
       "  0.05044959485530853,\n",
       "  0.03941654786467552,\n",
       "  0.06951633840799332,\n",
       "  0.04654795676469803,\n",
       "  0.059437789022922516,\n",
       "  0.05556516349315643,\n",
       "  0.04941074177622795,\n",
       "  0.05784730613231659,\n",
       "  0.047510407865047455,\n",
       "  0.06202678754925728,\n",
       "  0.05081423744559288,\n",
       "  0.057804640382528305,\n",
       "  0.037563759833574295,\n",
       "  0.042120203375816345,\n",
       "  0.04677703231573105,\n",
       "  0.05013665184378624,\n",
       "  0.043256789445877075,\n",
       "  0.04718512296676636,\n",
       "  0.05171641707420349,\n",
       "  0.05120750516653061,\n",
       "  0.06375941634178162,\n",
       "  0.039269596338272095,\n",
       "  0.048355501145124435,\n",
       "  0.03529337793588638,\n",
       "  0.05537170544266701,\n",
       "  0.04688016697764397,\n",
       "  0.05945603922009468,\n",
       "  0.05218195170164108,\n",
       "  0.04444824531674385,\n",
       "  0.06572526693344116,\n",
       "  0.05514637008309364,\n",
       "  0.042226266115903854,\n",
       "  0.05629086121916771,\n",
       "  0.0464121550321579,\n",
       "  0.05243229866027832,\n",
       "  0.03221827372908592,\n",
       "  0.05553191155195236,\n",
       "  0.03772718831896782,\n",
       "  0.041070278733968735,\n",
       "  0.039855483919382095,\n",
       "  0.04525072127580643,\n",
       "  0.03531789779663086,\n",
       "  0.04616439715027809,\n",
       "  0.06350357830524445,\n",
       "  0.049857087433338165,\n",
       "  0.04516548290848732,\n",
       "  0.04798593372106552,\n",
       "  0.044985756278038025,\n",
       "  0.04170126095414162,\n",
       "  0.05053411051630974,\n",
       "  0.05317821726202965,\n",
       "  0.05754772201180458,\n",
       "  0.060284461826086044,\n",
       "  0.052608706057071686,\n",
       "  0.044903211295604706,\n",
       "  0.03811142221093178,\n",
       "  0.053829729557037354,\n",
       "  0.05383744463324547,\n",
       "  0.04920065030455589,\n",
       "  0.05057399719953537,\n",
       "  0.04756239429116249,\n",
       "  0.047704536467790604,\n",
       "  0.040640659630298615,\n",
       "  0.04801419377326965,\n",
       "  0.04889686405658722,\n",
       "  0.06530261784791946,\n",
       "  0.05196969211101532,\n",
       "  0.039010290056467056,\n",
       "  0.06277794390916824,\n",
       "  0.04176870360970497,\n",
       "  0.0473814383149147,\n",
       "  0.05009235441684723,\n",
       "  0.0485612154006958,\n",
       "  0.05076758190989494,\n",
       "  0.05461513623595238,\n",
       "  0.0521625317633152,\n",
       "  0.04907297343015671,\n",
       "  0.07275474816560745,\n",
       "  0.05962098017334938,\n",
       "  0.03601222112774849,\n",
       "  0.052572038024663925,\n",
       "  0.03041268326342106,\n",
       "  0.04742301255464554,\n",
       "  0.047407664358615875,\n",
       "  0.04591018706560135,\n",
       "  0.07193531841039658,\n",
       "  0.04391080141067505,\n",
       "  0.040424894541502,\n",
       "  0.035899702459573746,\n",
       "  0.05436866730451584,\n",
       "  0.049641676247119904,\n",
       "  0.04151070490479469,\n",
       "  0.028001708909869194,\n",
       "  0.056717026978731155,\n",
       "  0.06293579936027527,\n",
       "  0.048164453357458115,\n",
       "  0.06110499054193497,\n",
       "  0.04926957190036774,\n",
       "  0.045582111924886703,\n",
       "  0.03911571577191353,\n",
       "  0.0441925972700119,\n",
       "  0.056882213801145554,\n",
       "  0.052713360637426376,\n",
       "  0.044695496559143066,\n",
       "  0.04357161372900009,\n",
       "  0.0494486466050148,\n",
       "  0.06347530335187912,\n",
       "  0.053984347730875015,\n",
       "  0.042680177837610245,\n",
       "  0.048424676060676575,\n",
       "  0.03183489292860031,\n",
       "  0.04110303893685341,\n",
       "  0.03822808340191841,\n",
       "  0.04854122921824455,\n",
       "  0.04530665650963783,\n",
       "  0.04382474347949028,\n",
       "  0.049627769738435745,\n",
       "  0.05534043908119202,\n",
       "  0.04329532012343407,\n",
       "  0.056137815117836,\n",
       "  0.05502793937921524,\n",
       "  0.06920329481363297,\n",
       "  0.055708374828100204,\n",
       "  0.03979623317718506,\n",
       "  0.05317690595984459,\n",
       "  0.04484269395470619,\n",
       "  0.051787905395030975,\n",
       "  0.055579010397195816,\n",
       "  0.0409996435046196,\n",
       "  0.04063579440116882,\n",
       "  0.05490374192595482,\n",
       "  0.035748232156038284,\n",
       "  0.06181267276406288,\n",
       "  0.04613332450389862,\n",
       "  0.05107874050736427,\n",
       "  0.04389842227101326,\n",
       "  0.048287566751241684,\n",
       "  0.046339988708496094,\n",
       "  0.04673559591174126,\n",
       "  0.050820544362068176,\n",
       "  0.037512924522161484,\n",
       "  0.049425262957811356,\n",
       "  0.04375056177377701,\n",
       "  0.03867051750421524,\n",
       "  0.04495380073785782,\n",
       "  0.05758944898843765,\n",
       "  0.05910802260041237,\n",
       "  0.07475492358207703,\n",
       "  0.03759673237800598,\n",
       "  0.03633289784193039,\n",
       "  0.053610097616910934,\n",
       "  0.04140741750597954,\n",
       "  0.059223830699920654,\n",
       "  0.0610760822892189,\n",
       "  0.052384328097105026,\n",
       "  0.049309875816106796,\n",
       "  0.049622420221567154,\n",
       "  0.06839578598737717,\n",
       "  0.06081858277320862,\n",
       "  0.051490604877471924,\n",
       "  0.03490738943219185,\n",
       "  0.05243099480867386,\n",
       "  0.052120257169008255,\n",
       "  0.03799061477184296,\n",
       "  0.04055795446038246,\n",
       "  0.040566734969615936],\n",
       " [[0.9746457934379578, 0.7542955279350281],\n",
       "  [0.9810279607772827, 0.8060470819473267],\n",
       "  [0.9797197580337524, 0.8450021147727966],\n",
       "  [0.9815024733543396, 0.7681814432144165],\n",
       "  [0.9808871150016785, 0.9093610644340515],\n",
       "  [0.9852889776229858, 0.8687549233436584],\n",
       "  [0.9815928936004639, 0.9123283624649048],\n",
       "  [0.9816243648529053, 0.662470817565918],\n",
       "  [0.9830631017684937, 0.7101306319236755],\n",
       "  [0.9842215776443481, 0.848109781742096],\n",
       "  [0.983433187007904, 0.853050947189331],\n",
       "  [0.973767101764679, 0.7485784888267517],\n",
       "  [0.9858728051185608, 0.9390206933021545],\n",
       "  [0.9793887734413147, 0.799056351184845],\n",
       "  [0.9853342771530151, 0.8600026369094849],\n",
       "  [0.98221755027771, 0.9191017150878906],\n",
       "  [0.9862068891525269, 0.8699344396591187],\n",
       "  [0.9865942597389221, 0.8393292427062988],\n",
       "  [0.982136607170105, 0.9452577829360962],\n",
       "  [0.9825623035430908, 0.8170381784439087],\n",
       "  [0.9818118214607239, 0.7626554369926453],\n",
       "  [0.9793282151222229, 0.7612342238426208],\n",
       "  [0.9837157130241394, 0.8306288719177246],\n",
       "  [0.9809733033180237, 0.84090256690979],\n",
       "  [0.9857142567634583, 0.9433888792991638],\n",
       "  [0.9786232113838196, 0.9027907252311707],\n",
       "  [0.9763083457946777, 0.8664684295654297],\n",
       "  [0.9842326045036316, 0.8986268043518066],\n",
       "  [0.9811046719551086, 0.8231179118156433],\n",
       "  [0.9844026565551758, 0.9339450001716614],\n",
       "  [0.9848127365112305, 0.9238001108169556],\n",
       "  [0.9802886247634888, 0.7592057585716248],\n",
       "  [0.9791224002838135, 0.8342936038970947],\n",
       "  [0.9845075011253357, 0.7755717039108276],\n",
       "  [0.9873737096786499, 0.8620012998580933],\n",
       "  [0.9859422445297241, 0.7806352376937866],\n",
       "  [0.981961727142334, 0.9052563905715942],\n",
       "  [0.9820466637611389, 0.8344448804855347],\n",
       "  [0.9807287454605103, 0.783232569694519],\n",
       "  [0.9834039807319641, 0.7675116062164307],\n",
       "  [0.9840580224990845, 0.9217912554740906],\n",
       "  [0.9815012216567993, 0.9220898151397705],\n",
       "  [0.9865649938583374, 0.8637976050376892],\n",
       "  [0.9824812412261963, 0.9365844130516052],\n",
       "  [0.9791808724403381, 0.7574312090873718],\n",
       "  [0.9852038621902466, 0.9389618039131165],\n",
       "  [0.9812222719192505, 0.8426808714866638],\n",
       "  [0.9790210127830505, 0.6466458439826965],\n",
       "  [0.9840867519378662, 0.7068855166435242],\n",
       "  [0.9807417988777161, 0.788853108882904],\n",
       "  [0.9813051223754883, 0.7760403752326965],\n",
       "  [0.9877106547355652, 0.8457560539245605],\n",
       "  [0.9801047444343567, 0.8909176588058472],\n",
       "  [0.9864320158958435, 0.9396718144416809],\n",
       "  [0.9806602001190186, 0.8330102562904358],\n",
       "  [0.9761140942573547, 0.9063828587532043],\n",
       "  [0.9792576432228088, 0.914078950881958],\n",
       "  [0.9746519327163696, 0.8469253778457642],\n",
       "  [0.9856063723564148, 0.9319272041320801],\n",
       "  [0.9845045208930969, 0.7569613456726074],\n",
       "  [0.9855438470840454, 0.9417170286178589],\n",
       "  [0.9826839566230774, 0.9158979654312134],\n",
       "  [0.9878048896789551, 0.9474780559539795],\n",
       "  [0.9793373346328735, 0.744879424571991],\n",
       "  [0.9794567823410034, 0.8842384219169617],\n",
       "  [0.9806357622146606, 0.9206253290176392],\n",
       "  [0.9836660623550415, 0.8685457706451416],\n",
       "  [0.9814063310623169, 0.838034987449646],\n",
       "  [0.9846614599227905, 0.921840488910675],\n",
       "  [0.9802656769752502, 0.8446192741394043],\n",
       "  [0.9837368726730347, 0.9062782526016235],\n",
       "  [0.9860703945159912, 0.7509111762046814],\n",
       "  [0.9801084399223328, 0.8180621862411499],\n",
       "  [0.9778860807418823, 0.8554429411888123],\n",
       "  [0.9794520139694214, 0.8455618023872375],\n",
       "  [0.9850690960884094, 0.9236268401145935],\n",
       "  [0.977297306060791, 0.8571972250938416],\n",
       "  [0.9779829978942871, 0.8947307467460632],\n",
       "  [0.9861782789230347, 0.8935809135437012],\n",
       "  [0.9767113924026489, 0.9053868651390076],\n",
       "  [0.9810080528259277, 0.8331547379493713],\n",
       "  [0.9865871667861938, 0.9196079969406128],\n",
       "  [0.9805790781974792, 0.9308609962463379],\n",
       "  [0.9819754958152771, 0.8402365446090698],\n",
       "  [0.9792376160621643, 0.7520430088043213],\n",
       "  [0.9777464270591736, 0.8959333896636963],\n",
       "  [0.9839181303977966, 0.929702877998352],\n",
       "  [0.9813849925994873, 0.8272930979728699],\n",
       "  [0.9819004535675049, 0.5809370279312134],\n",
       "  [0.9813849925994873, 0.7159584760665894],\n",
       "  [0.9797041416168213, 0.8172959685325623],\n",
       "  [0.9859685301780701, 0.7876903414726257],\n",
       "  [0.9833212494850159, 0.8991967439651489],\n",
       "  [0.9761505126953125, 0.781923770904541],\n",
       "  [0.9854092597961426, 0.7870323061943054],\n",
       "  [0.9791433811187744, 0.9176740646362305],\n",
       "  [0.98478102684021, 0.8135595917701721],\n",
       "  [0.983146071434021, 0.8081765174865723],\n",
       "  [0.9814361333847046, 0.8351962566375732],\n",
       "  [0.9812478423118591, 0.8131662011146545],\n",
       "  [0.9831334352493286, 0.9307443499565125],\n",
       "  [0.9817560315132141, 0.6603023409843445],\n",
       "  [0.9761042594909668, 0.882215142250061],\n",
       "  [0.9811954498291016, 0.7257142663002014],\n",
       "  [0.9797422289848328, 0.8704119920730591],\n",
       "  [0.9817095994949341, 0.9319865703582764],\n",
       "  [0.983798623085022, 0.8575124740600586],\n",
       "  [0.985629141330719, 0.880502462387085],\n",
       "  [0.9852786064147949, 0.9058911204338074],\n",
       "  [0.9910345077514648, 0.9381061792373657],\n",
       "  [0.9813305735588074, 0.8432218432426453],\n",
       "  [0.9780969023704529, 0.9144365191459656],\n",
       "  [0.9798922538757324, 0.9070799946784973],\n",
       "  [0.9858797788619995, 0.8037017583847046],\n",
       "  [0.9863739609718323, 0.8532067537307739],\n",
       "  [0.9842800498008728, 0.8246475458145142],\n",
       "  [0.9842033386230469, 0.7702690958976746],\n",
       "  [0.9766494035720825, 0.7921565771102905],\n",
       "  [0.9851621389389038, 0.9142974615097046],\n",
       "  [0.9773640036582947, 0.8038562536239624],\n",
       "  [0.9854704141616821, 0.7749952077865601],\n",
       "  [0.9781228303909302, 0.7972473502159119],\n",
       "  [0.9847841262817383, 0.8335835337638855],\n",
       "  [0.9814997911453247, 0.8056548833847046],\n",
       "  [0.9823104739189148, 0.7579038143157959],\n",
       "  [0.9769830107688904, 0.8696643114089966],\n",
       "  [0.9840637445449829, 0.7037148475646973],\n",
       "  [0.9780969023704529, 0.9276975393295288],\n",
       "  [0.9779783487319946, 0.9121710062026978],\n",
       "  [0.9788927435874939, 0.7877262830734253],\n",
       "  [0.9864498972892761, 0.9231578707695007],\n",
       "  [0.9875275492668152, 0.9492908716201782],\n",
       "  [0.981044352054596, 0.8878251910209656],\n",
       "  [0.9871060252189636, 0.932403564453125],\n",
       "  [0.9825000166893005, 0.8315011858940125],\n",
       "  [0.9823104739189148, 0.848598837852478],\n",
       "  [0.9803536534309387, 0.8657934069633484],\n",
       "  [0.9746787548065186, 0.8768715858459473],\n",
       "  [0.9860498905181885, 0.906817615032196],\n",
       "  [0.9827337861061096, 0.9117931723594666],\n",
       "  [0.9810971617698669, 0.8936757445335388],\n",
       "  [0.9854369163513184, 0.8860692381858826],\n",
       "  [0.9824270606040955, 0.8629679679870605],\n",
       "  [0.9823334813117981, 0.9543720483779907],\n",
       "  [0.9847216606140137, 0.8465080857276917],\n",
       "  [0.9798489212989807, 0.7744565010070801],\n",
       "  [0.9822883605957031, 0.9274211525917053],\n",
       "  [0.9842894077301025, 0.8091875314712524],\n",
       "  [0.9855803847312927, 0.9361696243286133],\n",
       "  [0.9760885238647461, 0.8180358409881592],\n",
       "  [0.9794742465019226, 0.862931489944458],\n",
       "  [0.9730222821235657, 0.7639250159263611],\n",
       "  [0.9826415181159973, 0.91324383020401],\n",
       "  [0.9818626046180725, 0.913587212562561],\n",
       "  [0.9814748764038086, 0.7811640501022339],\n",
       "  [0.9836293458938599, 0.8774479627609253],\n",
       "  [0.9796732664108276, 0.8271373510360718],\n",
       "  [0.9824684262275696, 0.9326512813568115],\n",
       "  [0.9854756593704224, 0.7183598279953003],\n",
       "  [0.978081226348877, 0.8811064958572388],\n",
       "  [0.9881568551063538, 0.8642581701278687],\n",
       "  [0.9894365668296814, 0.812014639377594],\n",
       "  [0.9787083268165588, 0.8252909779548645],\n",
       "  [0.9849597811698914, 0.7639235854148865],\n",
       "  [0.9833332896232605, 0.8515950441360474],\n",
       "  [0.9830278158187866, 0.7910057306289673],\n",
       "  [0.9790540933609009, 0.9051468372344971],\n",
       "  [0.9810990691184998, 0.7593917846679688],\n",
       "  [0.9837513566017151, 0.9253417253494263],\n",
       "  [0.9790377616882324, 0.8439685702323914],\n",
       "  [0.982330858707428, 0.8924950957298279],\n",
       "  [0.9838312864303589, 0.72963547706604],\n",
       "  [0.9863196611404419, 0.9513459205627441],\n",
       "  [0.9816941618919373, 0.7032053470611572],\n",
       "  [0.9810149669647217, 0.7883549928665161],\n",
       "  [0.9799256324768066, 0.9076144099235535],\n",
       "  [0.9824753403663635, 0.7656224966049194],\n",
       "  [0.9770722985267639, 0.6829901933670044],\n",
       "  [0.9821308255195618, 0.9081829786300659],\n",
       "  [0.9851928353309631, 0.8044474720954895],\n",
       "  [0.9816422462463379, 0.8776692152023315],\n",
       "  [0.9819397926330566, 0.6641141772270203],\n",
       "  [0.9754399061203003, 0.7289566397666931],\n",
       "  [0.977421760559082, 0.8714395761489868],\n",
       "  [0.9812637567520142, 0.9205746650695801],\n",
       "  [0.9767274856567383, 0.8857705593109131],\n",
       "  [0.986558198928833, 0.9448505640029907],\n",
       "  [0.9780027866363525, 0.7160175442695618],\n",
       "  [0.9810169339179993, 0.8182790279388428],\n",
       "  [0.9782763719558716, 0.8468497395515442],\n",
       "  [0.9862816333770752, 0.9162284135818481],\n",
       "  [0.9798732399940491, 0.7578879594802856],\n",
       "  [0.9826825261116028, 0.8180856108665466],\n",
       "  [0.9870409965515137, 0.9177031517028809],\n",
       "  [0.9844402074813843, 0.8484274744987488],\n",
       "  [0.9858747124671936, 0.9395027160644531],\n",
       "  [0.986896276473999, 0.9566544890403748],\n",
       "  [0.9827337861061096, 0.9256930351257324],\n",
       "  [0.9817987084388733, 0.8365793824195862],\n",
       "  [0.9811525940895081, 0.9269657135009766],\n",
       "  [0.9859052896499634, 0.8106502890586853],\n",
       "  [0.9819884300231934, 0.8252145648002625],\n",
       "  [0.9832788705825806, 0.8506165146827698],\n",
       "  [0.9843804836273193, 0.8279176950454712],\n",
       "  [0.9800901412963867, 0.8834437727928162],\n",
       "  [0.9822946190834045, 0.8092929720878601],\n",
       "  [0.9833274483680725, 0.949569821357727],\n",
       "  [0.9809421300888062, 0.8956310153007507],\n",
       "  [0.9845505952835083, 0.8423344492912292],\n",
       "  [0.9825018644332886, 0.843011736869812],\n",
       "  [0.9857090711593628, 0.8798847198486328],\n",
       "  [0.9867410659790039, 0.920268177986145],\n",
       "  [0.980678141117096, 0.8305953741073608],\n",
       "  [0.9831372499465942, 0.8860686421394348],\n",
       "  [0.9826749563217163, 0.6980583071708679],\n",
       "  [0.9799785614013672, 0.9078380465507507],\n",
       "  [0.9839372634887695, 0.9180390238761902],\n",
       "  [0.9838012456893921, 0.8530288338661194],\n",
       "  [0.9769176244735718, 0.8616024851799011],\n",
       "  [0.9832502007484436, 0.7962260246276855],\n",
       "  [0.9836648106575012, 0.9247161746025085],\n",
       "  [0.9783705472946167, 0.6792648434638977],\n",
       "  [0.983647346496582, 0.9297577738761902],\n",
       "  [0.9804478883743286, 0.7944700121879578],\n",
       "  [0.9799636006355286, 0.8984394669532776],\n",
       "  [0.9828341007232666, 0.8533288240432739],\n",
       "  [0.9843578934669495, 0.8682572245597839],\n",
       "  [0.9831117391586304, 0.7068892121315002],\n",
       "  [0.9847715497016907, 0.7652668952941895],\n",
       "  [0.9828355312347412, 0.8801774978637695],\n",
       "  [0.9849706888198853, 0.8448061943054199],\n",
       "  [0.9777219295501709, 0.8569119572639465],\n",
       "  [0.987518846988678, 0.861686110496521],\n",
       "  [0.977508008480072, 0.7972218990325928],\n",
       "  [0.9842433333396912, 0.9136510491371155],\n",
       "  [0.9796355366706848, 0.8620607852935791],\n",
       "  [0.9851356148719788, 0.9360892176628113],\n",
       "  [0.9821624159812927, 0.8359656929969788],\n",
       "  [0.9801390767097473, 0.7232157588005066],\n",
       "  [0.9799295663833618, 0.8759716749191284],\n",
       "  [0.9876922965049744, 0.8438657522201538],\n",
       "  [0.9778905510902405, 0.836272656917572],\n",
       "  [0.9806064963340759, 0.8504183888435364],\n",
       "  [0.9868900775909424, 0.9404461979866028],\n",
       "  [0.9842779040336609, 0.9380649924278259],\n",
       "  [0.9833627939224243, 0.8684506416320801],\n",
       "  [0.9807193279266357, 0.918181836605072],\n",
       "  [0.9746115803718567, 0.780463695526123],\n",
       "  [0.9799777865409851, 0.8476002216339111],\n",
       "  [0.9823071360588074, 0.8168647885322571],\n",
       "  [0.9854721426963806, 0.735093891620636],\n",
       "  [0.983842670917511, 0.9433457255363464],\n",
       "  [0.9835886359214783, 0.8676368594169617],\n",
       "  [0.97786945104599, 0.7445927262306213],\n",
       "  [0.9811251759529114, 0.9386712908744812],\n",
       "  [0.9737216234207153, 0.8042505979537964],\n",
       "  [0.9805825352668762, 0.6905397176742554],\n",
       "  [0.9859437942504883, 0.674511730670929],\n",
       "  [0.9819757342338562, 0.8849121332168579],\n",
       "  [0.9857397675514221, 0.7960172891616821],\n",
       "  [0.9852734804153442, 0.8651317358016968],\n",
       "  [0.9780411124229431, 0.7422105669975281],\n",
       "  [0.9811320900917053, 0.8371459245681763],\n",
       "  [0.9864479303359985, 0.9185792207717896],\n",
       "  [0.9835655093193054, 0.9067777991294861],\n",
       "  [0.9802581071853638, 0.8009535670280457],\n",
       "  [0.9832621216773987, 0.7681396007537842],\n",
       "  [0.984620988368988, 0.7371305823326111],\n",
       "  [0.9843304753303528, 0.7961416244506836],\n",
       "  [0.9833804965019226, 0.8309217691421509],\n",
       "  [0.9792122840881348, 0.7446187734603882],\n",
       "  [0.979686439037323, 0.8216717839241028],\n",
       "  [0.9786941409111023, 0.7760457396507263],\n",
       "  [0.9768518209457397, 0.8290812969207764],\n",
       "  [0.9836512207984924, 0.7930022478103638],\n",
       "  [0.984155535697937, 0.9218441247940063],\n",
       "  [0.9773648977279663, 0.8210694789886475],\n",
       "  [0.9839665293693542, 0.8092710375785828],\n",
       "  [0.9858074188232422, 0.92446368932724],\n",
       "  [0.9783534407615662, 0.7198670506477356],\n",
       "  [0.978437602519989, 0.6485414505004883],\n",
       "  [0.9881831407546997, 0.8541361093521118],\n",
       "  [0.979748547077179, 0.8810828328132629],\n",
       "  [0.9827027320861816, 0.8588594794273376],\n",
       "  [0.9822767972946167, 0.9259485602378845],\n",
       "  [0.985251784324646, 0.7786355018615723],\n",
       "  [0.9718416929244995, 0.739935040473938],\n",
       "  [0.9814748764038086, 0.925848662853241],\n",
       "  [0.9849461913108826, 0.9281633496284485],\n",
       "  [0.980762243270874, 0.840077817440033],\n",
       "  [0.9828049540519714, 0.8828974962234497],\n",
       "  [0.9841094017028809, 0.9459405541419983],\n",
       "  [0.9818626046180725, 0.869961142539978],\n",
       "  [0.9747810959815979, 0.6831682920455933],\n",
       "  [0.9786584973335266, 0.8990313410758972],\n",
       "  [0.9831991791725159, 0.7333859205245972],\n",
       "  [0.9815798401832581, 0.8994683623313904],\n",
       "  [0.983798623085022, 0.8719634413719177],\n",
       "  [0.9806034564971924, 0.8515094518661499],\n",
       "  [0.9823917746543884, 0.7125820517539978],\n",
       "  [0.984104573726654, 0.9418599009513855],\n",
       "  [0.9794471859931946, 0.8554390668869019],\n",
       "  [0.9884968996047974, 0.8739232420921326],\n",
       "  [0.981151819229126, 0.7884860038757324],\n",
       "  [0.9841840863227844, 0.9327077865600586],\n",
       "  [0.9827395677566528, 0.9191093444824219],\n",
       "  [0.9836125373840332, 0.8953084349632263],\n",
       "  [0.9779829978942871, 0.8518378138542175],\n",
       "  [0.9840312600135803, 0.7680542469024658],\n",
       "  [0.9816875457763672, 0.8591657876968384],\n",
       "  [0.9824314713478088, 0.8548263311386108],\n",
       "  [0.9825518131256104, 0.9159442782402039],\n",
       "  [0.980406641960144, 0.9003278613090515],\n",
       "  [0.9776415228843689, 0.8808497786521912],\n",
       "  [0.9829277396202087, 0.8490936160087585],\n",
       "  [0.9816272854804993, 0.8072311878204346],\n",
       "  [0.9796659350395203, 0.6990525722503662],\n",
       "  [0.9795917868614197, 0.6919214129447937],\n",
       "  [0.9863620400428772, 0.9195699691772461],\n",
       "  [0.9846206307411194, 0.8433327674865723],\n",
       "  [0.9844856858253479, 0.9529599547386169],\n",
       "  [0.9794908165931702, 0.8040359616279602],\n",
       "  [0.9851751923561096, 0.9336491227149963],\n",
       "  [0.9807621240615845, 0.9371289610862732],\n",
       "  [0.9824497699737549, 0.9206739664077759],\n",
       "  [0.9816414713859558, 0.8083786964416504],\n",
       "  [0.9791960716247559, 0.6927725672721863],\n",
       "  [0.9807256460189819, 0.851333498954773],\n",
       "  [0.9802559614181519, 0.8011955618858337],\n",
       "  [0.9826425909996033, 0.8062942028045654],\n",
       "  [0.9854918122291565, 0.9268552660942078],\n",
       "  [0.9824175834655762, 0.8938751220703125],\n",
       "  [0.9870705008506775, 0.7427480816841125],\n",
       "  [0.9855226278305054, 0.847212553024292],\n",
       "  [0.9810189604759216, 0.7501240968704224],\n",
       "  [0.9810956716537476, 0.8735325932502747],\n",
       "  [0.987973153591156, 0.794876754283905],\n",
       "  [0.9856235384941101, 0.9076806306838989],\n",
       "  [0.9810035228729248, 0.8313844203948975],\n",
       "  [0.9845156669616699, 0.9490545988082886],\n",
       "  [0.9828153848648071, 0.8092814683914185],\n",
       "  [0.984380304813385, 0.8758028745651245],\n",
       "  [0.9808964133262634, 0.8686466217041016],\n",
       "  [0.9818525314331055, 0.9272524118423462],\n",
       "  [0.9892396330833435, 0.8869315385818481],\n",
       "  [0.9791895151138306, 0.7433698773384094],\n",
       "  [0.9870036244392395, 0.9267407655715942],\n",
       "  [0.979230523109436, 0.7967005968093872],\n",
       "  [0.9808456301689148, 0.924548327922821],\n",
       "  [0.9826964735984802, 0.9039682149887085],\n",
       "  [0.9805825352668762, 0.7982365489006042],\n",
       "  [0.9823788404464722, 0.8303369879722595],\n",
       "  [0.9826240539550781, 0.9235463738441467],\n",
       "  [0.9802703857421875, 0.7829328775405884],\n",
       "  [0.9818689227104187, 0.6751081347465515],\n",
       "  [0.986905574798584, 0.9476563930511475],\n",
       "  [0.9791886806488037, 0.7624382972717285],\n",
       "  [0.9861995577812195, 0.9015476107597351],\n",
       "  [0.9841750264167786, 0.944263219833374],\n",
       "  [0.9797524809837341, 0.8993189334869385],\n",
       "  [0.9801300168037415, 0.829099714756012],\n",
       "  [0.9846154451370239, 0.7192716002464294],\n",
       "  [0.9840867519378662, 0.9426034688949585],\n",
       "  [0.9811990261077881, 0.8521799445152283],\n",
       "  [0.983854353427887, 0.8294029831886292],\n",
       "  [0.987384021282196, 0.8599257469177246],\n",
       "  [0.98123699426651, 0.8319856524467468],\n",
       "  [0.9809060096740723, 0.7494806051254272],\n",
       "  [0.9792674779891968, 0.84073406457901],\n",
       "  [0.9778239727020264, 0.7968485951423645],\n",
       "  [0.9863266944885254, 0.8643267750740051],\n",
       "  [0.9871565699577332, 0.8243085741996765],\n",
       "  [0.9846101403236389, 0.9383418560028076],\n",
       "  [0.9843522906303406, 0.7268579006195068],\n",
       "  [0.9850943684577942, 0.7774524688720703],\n",
       "  [0.9843981862068176, 0.8488866090774536],\n",
       "  [0.9835893511772156, 0.835027277469635],\n",
       "  [0.9867002367973328, 0.852326512336731],\n",
       "  [0.9803290367126465, 0.8829066753387451],\n",
       "  [0.9771754741668701, 0.8079358339309692],\n",
       "  [0.9843260049819946, 0.7991762757301331],\n",
       "  [0.9819363951683044, 0.7929458618164062],\n",
       "  [0.9870270490646362, 0.870861291885376],\n",
       "  [0.9822506308555603, 0.877665102481842],\n",
       "  [0.9801462888717651, 0.8208710551261902],\n",
       "  [0.9852216839790344, 0.9520901441574097],\n",
       "  [0.9849793314933777, 0.9344691038131714],\n",
       "  [0.981560230255127, 0.7624658942222595],\n",
       "  [0.9814402461051941, 0.8024355173110962],\n",
       "  [0.9856682419776917, 0.9079725742340088],\n",
       "  [0.9827650189399719, 0.8060746788978577],\n",
       "  [0.98012775182724, 0.8612997531890869],\n",
       "  [0.9804983735084534, 0.8586071729660034],\n",
       "  [0.9793000221252441, 0.9034303426742554],\n",
       "  [0.9784656763076782, 0.8872865438461304],\n",
       "  [0.9824111461639404, 0.819201648235321],\n",
       "  [0.9834368228912354, 0.8508552312850952],\n",
       "  [0.9777856469154358, 0.89476478099823],\n",
       "  [0.9814086556434631, 0.8620235919952393],\n",
       "  [0.9764662384986877, 0.9022811055183411],\n",
       "  [0.9838274717330933, 0.9159968495368958],\n",
       "  [0.9804931879043579, 0.9155562520027161],\n",
       "  [0.9791445732116699, 0.8927029371261597],\n",
       "  [0.9800498485565186, 0.8283036947250366],\n",
       "  [0.9784792065620422, 0.8788855671882629],\n",
       "  [0.984422504901886, 0.9477771520614624],\n",
       "  [0.9800824522972107, 0.7648144960403442],\n",
       "  [0.9901365637779236, 0.9675601720809937],\n",
       "  [0.9798270463943481, 0.7537661790847778],\n",
       "  [0.9786874055862427, 0.8847047686576843],\n",
       "  [0.9778016209602356, 0.7594625353813171],\n",
       "  [0.9873320460319519, 0.9478906393051147],\n",
       "  [0.981093168258667, 0.7748198509216309],\n",
       "  [0.9835329651832581, 0.6935310363769531],\n",
       "  [0.9774090647697449, 0.7966532111167908],\n",
       "  [0.9815217852592468, 0.8597994446754456],\n",
       "  [0.9822975397109985, 0.8661343455314636],\n",
       "  [0.9795848727226257, 0.8165444731712341],\n",
       "  [0.9863457083702087, 0.8287431001663208],\n",
       "  [0.9802087545394897, 0.7930978536605835],\n",
       "  [0.9861209988594055, 0.89604252576828],\n",
       "  [0.9829861521720886, 0.9282866716384888],\n",
       "  [0.9838598966598511, 0.9050233364105225],\n",
       "  [0.988673746585846, 0.9190965294837952],\n",
       "  [0.9815266728401184, 0.7680339813232422],\n",
       "  [0.9846211671829224, 0.8723829984664917],\n",
       "  [0.9837338328361511, 0.8028825521469116],\n",
       "  [0.9738467335700989, 0.8068286180496216],\n",
       "  [0.9832484126091003, 0.8340579271316528],\n",
       "  [0.9892023205757141, 0.8115753531455994],\n",
       "  [0.9806897044181824, 0.8485943078994751],\n",
       "  [0.978644073009491, 0.9041725993156433],\n",
       "  [0.9745331406593323, 0.8846834301948547],\n",
       "  [0.9834254384040833, 0.8371368050575256],\n",
       "  [0.9868233799934387, 0.9394853115081787],\n",
       "  [0.9876890778541565, 0.9351593255996704],\n",
       "  [0.9870828986167908, 0.9516188502311707],\n",
       "  [0.9870660901069641, 0.8005468845367432],\n",
       "  [0.9876498579978943, 0.8326672315597534],\n",
       "  [0.9866003394126892, 0.9069740176200867],\n",
       "  [0.9810017347335815, 0.843920886516571],\n",
       "  [0.9820565581321716, 0.8682238459587097],\n",
       "  [0.9798356890678406, 0.7768826484680176],\n",
       "  [0.9840278029441833, 0.7955987453460693],\n",
       "  [0.9886779189109802, 0.8119643330574036],\n",
       "  [0.9883762001991272, 0.8197101950645447],\n",
       "  [0.9832926988601685, 0.8830071687698364],\n",
       "  [0.9844302535057068, 0.819563090801239],\n",
       "  [0.980445921421051, 0.6899052858352661],\n",
       "  [0.9764032959938049, 0.7496943473815918],\n",
       "  [0.9795844554901123, 0.8664169311523438],\n",
       "  [0.9871483445167542, 0.86100172996521],\n",
       "  [0.9869809746742249, 0.8618472814559937],\n",
       "  [0.9850310683250427, 0.8352946043014526],\n",
       "  [0.9820815920829773, 0.9218015670776367],\n",
       "  [0.9823399782180786, 0.9126304984092712],\n",
       "  [0.9829303026199341, 0.9502549171447754],\n",
       "  [0.9866117238998413, 0.9442000389099121],\n",
       "  [0.9803722500801086, 0.8641186952590942],\n",
       "  [0.9777473211288452, 0.8725820779800415],\n",
       "  [0.9804643988609314, 0.9216300249099731],\n",
       "  [0.9769585132598877, 0.8154721856117249],\n",
       "  [0.9876062273979187, 0.8802662491798401],\n",
       "  [0.984501838684082, 0.942864179611206],\n",
       "  [0.9850299954414368, 0.9180474281311035],\n",
       "  [0.9838768839836121, 0.9260818362236023],\n",
       "  [0.984788179397583, 0.8818998336791992],\n",
       "  [0.9782837629318237, 0.8750680088996887],\n",
       "  [0.9807823896408081, 0.767957329750061],\n",
       "  [0.9846994876861572, 0.7295557856559753],\n",
       "  [0.9820643067359924, 0.8049682974815369],\n",
       "  [0.978268563747406, 0.7117199301719666],\n",
       "  [0.9830124974250793, 0.8589865565299988],\n",
       "  [0.9791815876960754, 0.8414296507835388],\n",
       "  [0.9826793670654297, 0.8367154598236084],\n",
       "  [0.9804283380508423, 0.8418998718261719],\n",
       "  [0.9819819331169128, 0.9154011011123657],\n",
       "  [0.9861063957214355, 0.8874000310897827],\n",
       "  [0.9860813617706299, 0.8781592845916748],\n",
       "  [0.9814748764038086, 0.7559112906455994],\n",
       "  [0.9851824641227722, 0.9441423416137695],\n",
       "  [0.9809284210205078, 0.7527399659156799],\n",
       "  [0.986548662185669, 0.9137808084487915],\n",
       "  [0.9836123585700989, 0.9474413990974426],\n",
       "  [0.9831130504608154, 0.8648655414581299],\n",
       "  [0.9792576432228088, 0.8376622796058655],\n",
       "  [0.9880347847938538, 0.951160728931427],\n",
       "  [0.9855276942253113, 0.9416093826293945],\n",
       "  [0.9809027910232544, 0.8306587934494019],\n",
       "  [0.9811051487922668, 0.8460643291473389],\n",
       "  [0.9914193749427795, 0.9684159755706787],\n",
       "  [0.981173038482666, 0.8129286766052246],\n",
       "  [0.9859963655471802, 0.932532548904419],\n",
       "  [0.9798937439918518, 0.920829713344574],\n",
       "  [0.9823508262634277, 0.9324151277542114],\n",
       "  [0.9873113632202148, 0.8900863528251648],\n",
       "  [0.9723234176635742, 0.8824024796485901],\n",
       "  [0.9810996651649475, 0.7712970972061157],\n",
       "  [0.9812654852867126, 0.8433876633644104],\n",
       "  [0.9837856888771057, 0.8688998222351074],\n",
       "  [0.9853862524032593, 0.7769476175308228],\n",
       "  [0.9859933853149414, 0.922423779964447],\n",
       "  [0.9842914342880249, 0.9258456826210022],\n",
       "  [0.9823757410049438, 0.8425239324569702],\n",
       "  [0.9830801486968994, 0.9245484471321106],\n",
       "  [0.9851824641227722, 0.8763814568519592],\n",
       "  [0.9840461015701294, 0.8903132677078247],\n",
       "  [0.984268844127655, 0.9406399726867676],\n",
       "  [0.9784797430038452, 0.8738594055175781],\n",
       "  [0.9812874794006348, 0.7960432171821594],\n",
       "  [0.9818181991577148, 0.7159295082092285],\n",
       "  [0.9815233945846558, 0.8609328866004944],\n",
       "  [0.9769012331962585, 0.7703530192375183],\n",
       "  [0.9799554944038391, 0.8286480903625488],\n",
       "  [0.98591548204422, 0.8575360774993896],\n",
       "  [0.9739252328872681, 0.8706142902374268],\n",
       "  [0.985388457775116, 0.8635567426681519],\n",
       "  [0.98476642370224, 0.8078954219818115],\n",
       "  [0.979439914226532, 0.8934173583984375],\n",
       "  [0.9824991226196289, 0.7284521460533142],\n",
       "  [0.9801012873649597, 0.8948712348937988],\n",
       "  [0.9841441512107849, 0.8998429775238037],\n",
       "  [0.9807121753692627, 0.7886741161346436],\n",
       "  [0.9813151359558105, 0.8509618639945984],\n",
       "  [0.9786056280136108, 0.8305680751800537],\n",
       "  [0.9832285046577454, 0.8297123908996582],\n",
       "  [0.9796428680419922, 0.7472224235534668],\n",
       "  [0.9856341481208801, 0.9344056248664856],\n",
       "  [0.9808040857315063, 0.8775755167007446],\n",
       "  [0.9830687642097473, 0.7846493721008301],\n",
       "  [0.9807287454605103, 0.8259053826332092],\n",
       "  [0.9844632744789124, 0.9290493726730347],\n",
       "  [0.9822361469268799, 0.7022714614868164],\n",
       "  [0.9824807047843933, 0.7771803140640259],\n",
       "  [0.9777777791023254, 0.7202286124229431],\n",
       "  [0.9828943014144897, 0.7712365388870239],\n",
       "  [0.9842932224273682, 0.776677131652832],\n",
       "  [0.9827828407287598, 0.8477250337600708],\n",
       "  [0.9833679795265198, 0.9124606847763062],\n",
       "  [0.9812043309211731, 0.8278924226760864],\n",
       "  [0.9882026314735413, 0.9559224843978882],\n",
       "  [0.9833967089653015, 0.8519876003265381],\n",
       "  [0.9751980900764465, 0.701541006565094],\n",
       "  [0.9923211336135864, 0.8289843201637268],\n",
       "  [0.9859845638275146, 0.9055628776550293],\n",
       "  [0.9857612252235413, 0.8715956807136536],\n",
       "  [0.9799577593803406, 0.7611842155456543],\n",
       "  [0.981728732585907, 0.9229901432991028],\n",
       "  [0.982110857963562, 0.8345074653625488],\n",
       "  [0.9824812412261963, 0.7680788040161133],\n",
       "  [0.9796847701072693, 0.9063119888305664],\n",
       "  [0.9819597005844116, 0.8159570097923279],\n",
       "  [0.9850799441337585, 0.9377448558807373],\n",
       "  [0.978268563747406, 0.8316411972045898],\n",
       "  [0.9824874997138977, 0.8580268025398254],\n",
       "  [0.9813213348388672, 0.910101056098938],\n",
       "  [0.9817118048667908, 0.7870413661003113],\n",
       "  [0.9880447387695312, 0.9512538909912109],\n",
       "  [0.9832970499992371, 0.8468535542488098],\n",
       "  [0.9771470427513123, 0.8881134986877441],\n",
       "  [0.9825310707092285, 0.9235475659370422],\n",
       "  [0.987346351146698, 0.955909788608551],\n",
       "  [0.9854491949081421, 0.8676158785820007],\n",
       "  [0.9878614544868469, 0.9507869482040405],\n",
       "  [0.9816135168075562, 0.8785489201545715],\n",
       "  [0.9836648106575012, 0.7357974648475647],\n",
       "  [0.9859622716903687, 0.9159545302391052],\n",
       "  [0.9819973111152649, 0.8593661189079285],\n",
       "  [0.9824314713478088, 0.6503292322158813],\n",
       "  [0.9816685318946838, 0.90277498960495],\n",
       "  [0.9867403507232666, 0.8433742523193359],\n",
       "  [0.9811946749687195, 0.6142995357513428],\n",
       "  [0.9846422672271729, 0.9357848167419434],\n",
       "  [0.9826328754425049, 0.8994545936584473],\n",
       "  [0.9838765859603882, 0.942040205001831],\n",
       "  [0.9836241006851196, 0.851747989654541],\n",
       "  [0.9860243201255798, 0.912446141242981],\n",
       "  [0.9826425909996033, 0.9129310846328735],\n",
       "  [0.9815078377723694, 0.7140846252441406],\n",
       "  [0.9833887219429016, 0.8269176483154297],\n",
       "  [0.9839426279067993, 0.9434131383895874],\n",
       "  [0.9809474945068359, 0.914995014667511],\n",
       "  [0.984466016292572, 0.8459994196891785],\n",
       "  [0.9809872508049011, 0.9165644645690918],\n",
       "  [0.9774678349494934, 0.9276573061943054],\n",
       "  [0.9829484820365906, 0.9169492721557617],\n",
       "  [0.9853493571281433, 0.7977179288864136],\n",
       "  [0.9843863248825073, 0.7783052325248718],\n",
       "  [0.9821760654449463, 0.9193545579910278],\n",
       "  [0.9862219095230103, 0.944473922252655],\n",
       "  [0.9818586111068726, 0.8545228838920593],\n",
       "  [0.9855989217758179, 0.956484317779541],\n",
       "  [0.9828513264656067, 0.8602253198623657],\n",
       "  [0.9804325103759766, 0.9175575375556946],\n",
       "  [0.9855595827102661, 0.9280447959899902],\n",
       "  [0.9851222038269043, 0.9438189268112183],\n",
       "  [0.9849300384521484, 0.9284204840660095],\n",
       "  [0.9802329540252686, 0.9256436228752136],\n",
       "  [0.987963855266571, 0.9135448336601257],\n",
       "  [0.9848484396934509, 0.8521784543991089],\n",
       "  [0.9840406179428101, 0.799196720123291],\n",
       "  [0.9810646176338196, 0.8395107984542847],\n",
       "  [0.9865209460258484, 0.9486662149429321],\n",
       "  [0.9785376191139221, 0.7386024594306946],\n",
       "  [0.9798922538757324, 0.8885382413864136],\n",
       "  [0.979303240776062, 0.686251699924469],\n",
       "  [0.9867598414421082, 0.8591452836990356],\n",
       "  [0.9873554706573486, 0.9141190648078918],\n",
       "  [0.9878135919570923, 0.9553284645080566],\n",
       "  [0.9864285588264465, 0.8629981875419617],\n",
       "  [0.9850854277610779, 0.9538137316703796],\n",
       "  [0.9861687421798706, 0.8753531575202942],\n",
       "  [0.9799924492835999, 0.7114486694335938],\n",
       "  [0.9787709712982178, 0.7003292441368103],\n",
       "  [0.986453652381897, 0.9348307847976685],\n",
       "  [0.9815497994422913, 0.9332660436630249],\n",
       "  [0.979498028755188, 0.8596176505088806],\n",
       "  [0.9851801991462708, 0.9399276971817017],\n",
       "  [0.9882562160491943, 0.9515765905380249],\n",
       "  [0.9821173548698425, 0.8876663446426392],\n",
       "  [0.9840406179428101, 0.9259846806526184],\n",
       "  [0.9805217385292053, 0.8108128905296326],\n",
       "  [0.9885945320129395, 0.9632905721664429],\n",
       "  [0.9880952835083008, 0.9576372504234314],\n",
       "  [0.9821619391441345, 0.8875290155410767],\n",
       "  [0.9828250408172607, 0.9189263582229614],\n",
       "  [0.982358992099762, 0.9380868673324585],\n",
       "  [0.9849333763122559, 0.8640552759170532],\n",
       "  [0.9875912070274353, 0.8771212697029114],\n",
       "  [0.9836065173149109, 0.8619216084480286],\n",
       "  [0.985414445400238, 0.9346294403076172],\n",
       "  [0.9831706881523132, 0.9392074346542358],\n",
       "  [0.9769442677497864, 0.7102774977684021],\n",
       "  [0.9871260523796082, 0.9497537612915039],\n",
       "  [0.9804537892341614, 0.8788169026374817],\n",
       "  [0.9793853163719177, 0.7903361916542053],\n",
       "  [0.9769176244735718, 0.8399897813796997],\n",
       "  [0.9904044270515442, 0.9582657814025879],\n",
       "  [0.9849315285682678, 0.8765757083892822],\n",
       "  [0.9802342653274536, 0.8430928587913513],\n",
       "  [0.9876149892807007, 0.8777579069137573],\n",
       "  [0.985069215297699, 0.93458092212677],\n",
       "  [0.9829277396202087, 0.7843655943870544],\n",
       "  [0.9782771468162537, 0.86994469165802],\n",
       "  [0.9858607053756714, 0.9482445120811462],\n",
       "  [0.9858367443084717, 0.843164324760437],\n",
       "  [0.9818316698074341, 0.7423850893974304],\n",
       "  [0.9860544204711914, 0.9125908017158508],\n",
       "  [0.9852305054664612, 0.7121704816818237],\n",
       "  [0.9775280952453613, 0.8193440437316895],\n",
       "  [0.9845767617225647, 0.9263067841529846],\n",
       "  [0.9896828532218933, 0.8729881048202515],\n",
       "  [0.9870356917381287, 0.8722736835479736],\n",
       "  [0.9875457882881165, 0.9618236422538757],\n",
       "  [0.9832050800323486, 0.9336714744567871],\n",
       "  [0.9833981394767761, 0.9199419021606445],\n",
       "  [0.986462414264679, 0.7750122547149658],\n",
       "  [0.9762333035469055, 0.7650960683822632],\n",
       "  [0.9838230013847351, 0.8680894374847412],\n",
       "  [0.9823740720748901, 0.877022922039032],\n",
       "  [0.9803431034088135, 0.8952282667160034],\n",
       "  [0.9839105010032654, 0.9098595976829529],\n",
       "  [0.9827839136123657, 0.9378463625907898],\n",
       "  [0.9845531582832336, 0.8709666132926941],\n",
       "  [0.9799456000328064, 0.8306530714035034],\n",
       "  [0.9821968674659729, 0.8407562971115112],\n",
       "  [0.9769178032875061, 0.8023796677589417],\n",
       "  [0.9853862524032593, 0.7885782718658447],\n",
       "  [0.9825200438499451, 0.9160892367362976],\n",
       "  [0.9857142567634583, 0.8517616391181946],\n",
       "  [0.9740132093429565, 0.6741516590118408],\n",
       "  [0.9854661226272583, 0.8552416563034058],\n",
       "  [0.984413743019104, 0.8794214129447937],\n",
       "  [0.9832285046577454, 0.7775754332542419],\n",
       "  [0.9837250709533691, 0.897440493106842],\n",
       "  [0.9782532453536987, 0.8447418808937073],\n",
       "  [0.9836298823356628, 0.9474778771400452],\n",
       "  [0.9853479862213135, 0.9313633441925049],\n",
       "  [0.9793373346328735, 0.8071781992912292],\n",
       "  [0.9775720834732056, 0.7348664999008179],\n",
       "  [0.9929153323173523, 0.9121268391609192],\n",
       "  [0.9838890433311462, 0.8438073396682739],\n",
       "  [0.9807342886924744, 0.9157649278640747],\n",
       "  [0.9821491241455078, 0.799397885799408],\n",
       "  [0.9798206090927124, 0.7717892527580261],\n",
       "  [0.9832202792167664, 0.7776974439620972],\n",
       "  [0.979857861995697, 0.8238137364387512],\n",
       "  [0.9858644604682922, 0.8598832488059998],\n",
       "  [0.9844452142715454, 0.8581798076629639],\n",
       "  [0.9832152128219604, 0.938258945941925],\n",
       "  [0.981410026550293, 0.9290311932563782],\n",
       "  [0.9880324006080627, 0.8121775388717651],\n",
       "  [0.9825870990753174, 0.8708927035331726],\n",
       "  [0.9838588833808899, 0.9337256550788879],\n",
       "  [0.9817479848861694, 0.9294137358665466],\n",
       "  [0.9785568714141846, 0.8997635841369629],\n",
       "  [0.9878676533699036, 0.8344212770462036],\n",
       "  [0.9766142964363098, 0.8866926431655884],\n",
       "  [0.9773210287094116, 0.7646074295043945],\n",
       "  [0.9868766069412231, 0.8173209428787231],\n",
       "  [0.980728030204773, 0.7432429194450378],\n",
       "  [0.9820061326026917, 0.7670280337333679],\n",
       "  [0.9848648905754089, 0.8715117573738098],\n",
       "  [0.9821873903274536, 0.862714946269989],\n",
       "  [0.985823392868042, 0.9373599290847778],\n",
       "  [0.978822648525238, 0.7529957294464111],\n",
       "  [0.9826551079750061, 0.919822633266449],\n",
       "  [0.9828816056251526, 0.7068142890930176],\n",
       "  [0.9870370626449585, 0.9568324685096741],\n",
       "  [0.9754433631896973, 0.7741779685020447],\n",
       "  [0.9843639135360718, 0.7828542590141296],\n",
       "  [0.9824368953704834, 0.9334303736686707],\n",
       "  [0.9824684262275696, 0.827462911605835],\n",
       "  [0.9817640781402588, 0.7736364603042603],\n",
       "  [0.9789586663246155, 0.6444324254989624],\n",
       "  [0.9816060066223145, 0.9085296392440796],\n",
       "  [0.982334554195404, 0.9198319911956787],\n",
       "  [0.9849596619606018, 0.818621814250946],\n",
       "  [0.981333315372467, 0.936133861541748],\n",
       "  [0.9868561029434204, 0.9373260736465454],\n",
       "  [0.9860383868217468, 0.866540789604187],\n",
       "  [0.9824807047843933, 0.8489622473716736],\n",
       "  [0.9808828234672546, 0.6342455744743347],\n",
       "  [0.983345627784729, 0.8928243517875671],\n",
       "  [0.982410192489624, 0.9312844276428223],\n",
       "  [0.9847972989082336, 0.9516664147377014],\n",
       "  [0.9852734804153442, 0.9515700936317444],\n",
       "  [0.9802342653274536, 0.9488725662231445],\n",
       "  [0.9860615134239197, 0.935946524143219],\n",
       "  [0.9819978475570679, 0.8434885740280151],\n",
       "  [0.9884434342384338, 0.802809476852417],\n",
       "  [0.9812613129615784, 0.8379825353622437],\n",
       "  [0.9837913513183594, 0.6939387321472168],\n",
       "  [0.9811946749687195, 0.7481475472450256],\n",
       "  [0.9816875457763672, 0.8043763041496277],\n",
       "  [0.9829908013343811, 0.7955582141876221],\n",
       "  [0.9769653081893921, 0.7431446313858032],\n",
       "  [0.9774463176727295, 0.8200920224189758],\n",
       "  [0.986392080783844, 0.9388781785964966],\n",
       "  [0.9833217859268188, 0.9327267408370972],\n",
       "  [0.9850255846977234, 0.7358068227767944],\n",
       "  [0.9823529720306396, 0.8327886462211609],\n",
       "  [0.9872808456420898, 0.8551756143569946],\n",
       "  [0.9804983735084534, 0.850060224533081],\n",
       "  [0.986801028251648, 0.9488295316696167],\n",
       "  [0.9844290614128113, 0.8152310848236084],\n",
       "  [0.9854369163513184, 0.9354850053787231],\n",
       "  [0.9835831522941589, 0.934235692024231],\n",
       "  [0.9845531582832336, 0.738382875919342],\n",
       "  [0.9840933084487915, 0.7763102650642395],\n",
       "  [0.9770804047584534, 0.7754366993904114],\n",
       "  [0.9810760617256165, 0.8322207927703857],\n",
       "  [0.9841493368148804, 0.7740534543991089],\n",
       "  [0.9848431348800659, 0.9367868304252625],\n",
       "  [0.9836236834526062, 0.77122962474823],\n",
       "  [0.9867240786552429, 0.7800883054733276],\n",
       "  [0.9797160029411316, 0.8297973275184631],\n",
       "  [0.9834596514701843, 0.856355607509613],\n",
       "  [0.9810375571250916, 0.7106947302818298],\n",
       "  [0.9748613238334656, 0.7893496751785278],\n",
       "  [0.9813953042030334, 0.7244320511817932],\n",
       "  [0.9859102964401245, 0.8523034453392029],\n",
       "  [0.9875904321670532, 0.962914228439331],\n",
       "  [0.9772234559059143, 0.8257579207420349],\n",
       "  [0.9818499088287354, 0.915459156036377],\n",
       "  [0.9813969731330872, 0.9412022233009338],\n",
       "  [0.9847549796104431, 0.923743724822998],\n",
       "  [0.9858507513999939, 0.8888697624206543],\n",
       "  [0.984935462474823, 0.862095057964325],\n",
       "  [0.9858695864677429, 0.8498746752738953],\n",
       "  [0.9833754897117615, 0.7131178975105286],\n",
       "  [0.9860724210739136, 0.9257789850234985],\n",
       "  [0.9769421815872192, 0.8178868889808655],\n",
       "  [0.9825390577316284, 0.831841230392456],\n",
       "  [0.9890255928039551, 0.8656712770462036],\n",
       "  [0.9798496961593628, 0.9107484817504883],\n",
       "  [0.9853607416152954, 0.8893784284591675],\n",
       "  [0.9864369630813599, 0.8303836584091187],\n",
       "  [0.9852198958396912, 0.741012692451477],\n",
       "  [0.9831334352493286, 0.9013916254043579],\n",
       "  [0.9817436933517456, 0.7671157717704773],\n",
       "  [0.9811450242996216, 0.9346194267272949],\n",
       "  [0.977520227432251, 0.842145562171936],\n",
       "  [0.9821683764457703, 0.9322589635848999],\n",
       "  [0.977584958076477, 0.897707462310791],\n",
       "  [0.9784147143363953, 0.9048142433166504],\n",
       "  [0.9885551333427429, 0.8604971170425415],\n",
       "  [0.9835329651832581, 0.8524842262268066],\n",
       "  [0.988914430141449, 0.9692232012748718],\n",
       "  [0.9853518605232239, 0.9354157447814941],\n",
       "  [0.9811715483665466, 0.9277666807174683],\n",
       "  [0.9818451404571533, 0.8410900831222534],\n",
       "  [0.9780424237251282, 0.8857083320617676],\n",
       "  [0.9820690155029297, 0.8390904664993286],\n",
       "  [0.986414909362793, 0.9500684142112732],\n",
       "  [0.9875822067260742, 0.9269546270370483],\n",
       "  [0.9773662686347961, 0.9116458892822266],\n",
       "  [0.984564483165741, 0.9314079880714417],\n",
       "  [0.9837177991867065, 0.9065312147140503],\n",
       "  [0.9915164113044739, 0.8717090487480164],\n",
       "  [0.9783340096473694, 0.7288286685943604],\n",
       "  [0.9784868955612183, 0.8256973028182983],\n",
       "  [0.9831207990646362, 0.8594828844070435],\n",
       "  [0.9783217310905457, 0.8166986703872681],\n",
       "  [0.9841605424880981, 0.9219940900802612],\n",
       "  [0.9837157130241394, 0.8489274382591248],\n",
       "  [0.986067533493042, 0.7930880784988403],\n",
       "  [0.9840333461761475, 0.8496227264404297],\n",
       "  [0.9786574840545654, 0.749669075012207],\n",
       "  [0.982467532157898, 0.8353278636932373],\n",
       "  [0.9831334352493286, 0.8938460350036621],\n",
       "  [0.985956072807312, 0.8888972997665405],\n",
       "  [0.9830273389816284, 0.8887912631034851],\n",
       "  [0.9800960421562195, 0.8220791816711426],\n",
       "  [0.9798249006271362, 0.9124162793159485],\n",
       "  [0.9861554503440857, 0.8716614246368408],\n",
       "  [0.9830069541931152, 0.8630134463310242],\n",
       "  [0.9883847236633301, 0.9526278376579285],\n",
       "  [0.9874538779258728, 0.9641277194023132],\n",
       "  [0.9853505492210388, 0.8687751889228821],\n",
       "  [0.9850904941558838, 0.9405965805053711],\n",
       "  [0.9840564131736755, 0.6720002293586731],\n",
       "  [0.9863731861114502, 0.8389674425125122],\n",
       "  [0.9829400777816772, 0.9220271110534668],\n",
       "  [0.9813363552093506, 0.8760436773300171],\n",
       "  [0.9837250709533691, 0.864093005657196],\n",
       "  [0.9812568426132202, 0.8882104754447937],\n",
       "  [0.9832422733306885, 0.921929657459259],\n",
       "  [0.9772813320159912, 0.8823838233947754],\n",
       "  [0.9799436926841736, 0.906539261341095],\n",
       "  [0.9845234155654907, 0.7993793487548828],\n",
       "  [0.9801807999610901, 0.8086089491844177],\n",
       "  [0.9838652014732361, 0.8380042314529419],\n",
       "  [0.9803994297981262, 0.8196243643760681],\n",
       "  [0.9838594198226929, 0.7719270586967468],\n",
       "  [0.985971212387085, 0.7863313555717468],\n",
       "  [0.9864270091056824, 0.8089391589164734],\n",
       "  [0.981582522392273, 0.8539510369300842],\n",
       "  [0.9875471591949463, 0.9286088347434998],\n",
       "  [0.9829710721969604, 0.8537079095840454],\n",
       "  [0.9821121096611023, 0.9016499519348145],\n",
       "  [0.9818243980407715, 0.8576759099960327],\n",
       "  [0.9861817955970764, 0.9295469522476196],\n",
       "  [0.980664849281311, 0.9259455800056458],\n",
       "  [0.9837015867233276, 0.8716070652008057],\n",
       "  [0.9853096008300781, 0.9210688471794128],\n",
       "  [0.9843578934669495, 0.9085545539855957],\n",
       "  [0.9884169697761536, 0.9068162441253662],\n",
       "  [0.9840267300605774, 0.7960196137428284],\n",
       "  [0.9842822551727295, 0.8520354628562927],\n",
       "  [0.9888729453086853, 0.9586010575294495],\n",
       "  [0.9836241006851196, 0.7958029508590698],\n",
       "  [0.9836838245391846, 0.6934012174606323],\n",
       "  [0.9804895520210266, 0.9247727394104004],\n",
       "  [0.975372850894928, 0.8704890608787537],\n",
       "  [0.9872635006904602, 0.7958449125289917],\n",
       "  [0.9852887392044067, 0.7304389476776123],\n",
       "  [0.9811722636222839, 0.7785839438438416],\n",
       "  [0.9862657785415649, 0.8138056993484497],\n",
       "  [0.9835646748542786, 0.7889055609703064],\n",
       "  [0.9776146411895752, 0.7377241849899292],\n",
       "  [0.981151819229126, 0.7405713200569153],\n",
       "  [0.9823632836341858, 0.8046754002571106],\n",
       "  [0.9843248724937439, 0.7845240831375122],\n",
       "  [0.973870038986206, 0.7914819717407227],\n",
       "  [0.9803149104118347, 0.8330942392349243],\n",
       "  [0.9805996417999268, 0.9118974804878235],\n",
       "  [0.9870765209197998, 0.8193241357803345],\n",
       "  [0.982252836227417, 0.8674004077911377],\n",
       "  [0.9808576107025146, 0.7895240783691406],\n",
       "  [0.9867792725563049, 0.7190676927566528],\n",
       "  [0.9847381114959717, 0.7782436609268188],\n",
       "  [0.9852492213249207, 0.8701205849647522]],\n",
       " [0.1353810727596283,\n",
       "  0.14341218769550323,\n",
       "  0.12364494800567627,\n",
       "  0.15189515054225922,\n",
       "  0.1645234227180481,\n",
       "  0.12815465033054352,\n",
       "  0.12801937758922577,\n",
       "  0.14092116057872772,\n",
       "  0.15547868609428406,\n",
       "  0.11044149100780487,\n",
       "  0.14231227338314056,\n",
       "  0.19357486069202423,\n",
       "  0.15053701400756836,\n",
       "  0.12271325290203094,\n",
       "  0.12948395311832428,\n",
       "  0.1618616133928299,\n",
       "  0.12382934987545013,\n",
       "  0.1957532912492752,\n",
       "  0.14200688898563385,\n",
       "  0.1277664452791214,\n",
       "  0.17987607419490814,\n",
       "  0.2052871435880661,\n",
       "  0.18053995072841644,\n",
       "  0.15725895762443542,\n",
       "  0.12619206309318542,\n",
       "  0.20194822549819946,\n",
       "  0.17652319371700287,\n",
       "  0.12763765454292297,\n",
       "  0.09973064810037613,\n",
       "  0.1274988353252411,\n",
       "  0.1343359351158142,\n",
       "  0.11248461902141571,\n",
       "  0.14747010171413422,\n",
       "  0.08498051017522812,\n",
       "  0.13266660273075104,\n",
       "  0.11024073511362076,\n",
       "  0.12625081837177277,\n",
       "  0.14287760853767395,\n",
       "  0.10234838724136353,\n",
       "  0.11483575403690338,\n",
       "  0.1575775444507599,\n",
       "  0.17973527312278748,\n",
       "  0.14079436659812927,\n",
       "  0.17010989785194397,\n",
       "  0.12477938830852509,\n",
       "  0.14041855931282043,\n",
       "  0.1711137443780899,\n",
       "  0.12316931784152985,\n",
       "  0.15832079946994781,\n",
       "  0.15324647724628448,\n",
       "  0.13389690220355988,\n",
       "  0.13119015097618103,\n",
       "  0.1472986787557602,\n",
       "  0.1551726907491684,\n",
       "  0.12071893364191055,\n",
       "  0.1813090592622757,\n",
       "  0.14214670658111572,\n",
       "  0.15314997732639313,\n",
       "  0.12186987698078156,\n",
       "  0.14665333926677704,\n",
       "  0.21994583308696747,\n",
       "  0.21477173268795013,\n",
       "  0.23313744366168976,\n",
       "  0.13023222982883453,\n",
       "  0.1727885901927948,\n",
       "  0.13568902015686035,\n",
       "  0.10161551833152771,\n",
       "  0.11900104582309723,\n",
       "  0.1420578807592392,\n",
       "  0.10394001752138138,\n",
       "  0.08823700994253159,\n",
       "  0.13764044642448425,\n",
       "  0.17641928791999817,\n",
       "  0.13176719844341278,\n",
       "  0.12467078864574432,\n",
       "  0.12998194992542267,\n",
       "  0.11062783002853394,\n",
       "  0.1294877827167511,\n",
       "  0.10080378502607346,\n",
       "  0.1456061601638794,\n",
       "  0.15655460953712463,\n",
       "  0.13671711087226868,\n",
       "  0.15220311284065247,\n",
       "  0.15160591900348663,\n",
       "  0.19953535497188568,\n",
       "  0.12091183662414551,\n",
       "  0.14684908092021942,\n",
       "  0.13984723389148712,\n",
       "  0.16843350231647491,\n",
       "  0.1695663183927536,\n",
       "  0.17269082367420197,\n",
       "  0.13444273173809052,\n",
       "  0.12691475450992584,\n",
       "  0.13175129890441895,\n",
       "  0.15210691094398499,\n",
       "  0.14096121490001678,\n",
       "  0.12593184411525726,\n",
       "  0.13175468146800995,\n",
       "  0.1463393270969391,\n",
       "  0.12051798403263092,\n",
       "  0.15432840585708618,\n",
       "  0.16511276364326477,\n",
       "  0.12850986421108246,\n",
       "  0.1287592500448227,\n",
       "  0.14335201680660248,\n",
       "  0.15778400003910065,\n",
       "  0.11485229432582855,\n",
       "  0.14350347220897675,\n",
       "  0.19530212879180908,\n",
       "  0.1519557237625122,\n",
       "  0.12392421066761017,\n",
       "  0.1310236155986786,\n",
       "  0.16804920136928558,\n",
       "  0.1270568072795868,\n",
       "  0.19915996491909027,\n",
       "  0.14644885063171387,\n",
       "  0.12947148084640503,\n",
       "  0.18350033462047577,\n",
       "  0.20832331478595734,\n",
       "  0.18371719121932983,\n",
       "  0.16048920154571533,\n",
       "  0.12738904356956482,\n",
       "  0.2047799974679947,\n",
       "  0.1775137186050415,\n",
       "  0.12874074280261993,\n",
       "  0.10058604925870895,\n",
       "  0.13152500987052917,\n",
       "  0.13617493212223053,\n",
       "  0.11586039513349533,\n",
       "  0.14989088475704193,\n",
       "  0.08635163307189941,\n",
       "  0.13325566053390503,\n",
       "  0.11160555481910706,\n",
       "  0.12897464632987976,\n",
       "  0.14583845436573029,\n",
       "  0.10464202612638474,\n",
       "  0.11213520914316177,\n",
       "  0.16233888268470764,\n",
       "  0.17966137826442719,\n",
       "  0.13708937168121338,\n",
       "  0.16765017807483673,\n",
       "  0.12689007818698883,\n",
       "  0.13991211354732513,\n",
       "  0.1725897490978241,\n",
       "  0.12291374057531357,\n",
       "  0.16004696488380432,\n",
       "  0.1549728661775589,\n",
       "  0.1367999166250229,\n",
       "  0.1315583884716034,\n",
       "  0.14717411994934082,\n",
       "  0.1566583216190338,\n",
       "  0.12078621238470078,\n",
       "  0.18101176619529724,\n",
       "  0.14225836098194122,\n",
       "  0.15411970019340515,\n",
       "  0.12225645780563354,\n",
       "  0.14817331731319427,\n",
       "  0.22165104746818542,\n",
       "  0.2177882194519043,\n",
       "  0.23452028632164001,\n",
       "  0.13135524094104767,\n",
       "  0.17369385063648224,\n",
       "  0.1359264850616455,\n",
       "  0.10045980662107468,\n",
       "  0.12164928764104843,\n",
       "  0.14122611284255981,\n",
       "  0.10498678684234619,\n",
       "  0.08964579552412033,\n",
       "  0.13978226482868195,\n",
       "  0.17727574706077576,\n",
       "  0.1331610232591629,\n",
       "  0.1256624311208725,\n",
       "  0.13037364184856415,\n",
       "  0.11236346513032913,\n",
       "  0.1284741759300232,\n",
       "  0.09923113137483597,\n",
       "  0.14498518407344818,\n",
       "  0.1544651836156845,\n",
       "  0.1356775015592575,\n",
       "  0.1527668684720993,\n",
       "  0.15135526657104492,\n",
       "  0.20025719702243805,\n",
       "  0.12159401923418045,\n",
       "  0.14896608889102936,\n",
       "  0.14222994446754456,\n",
       "  0.17098712921142578,\n",
       "  0.16962739825248718,\n",
       "  0.17593461275100708,\n",
       "  0.1351388692855835,\n",
       "  0.1278538852930069,\n",
       "  0.1319785714149475,\n",
       "  0.15258640050888062,\n",
       "  0.1433432251214981,\n",
       "  0.12667997181415558,\n",
       "  0.12942659854888916,\n",
       "  0.1468316614627838,\n",
       "  0.12091123312711716,\n",
       "  0.1537252813577652,\n",
       "  0.16561008989810944,\n",
       "  0.126301571726799,\n",
       "  0.12793609499931335,\n",
       "  0.1403704434633255,\n",
       "  0.15958741307258606,\n",
       "  0.1157940998673439,\n",
       "  0.14610978960990906,\n",
       "  0.19814440608024597,\n",
       "  0.15400071442127228,\n",
       "  0.12599261105060577,\n",
       "  0.1328253448009491,\n",
       "  0.1704007387161255,\n",
       "  0.12814293801784515,\n",
       "  0.19990494847297668,\n",
       "  0.14852474629878998,\n",
       "  0.13138195872306824,\n",
       "  0.1840735226869583,\n",
       "  0.21079139411449432,\n",
       "  0.18513227999210358,\n",
       "  0.15949660539627075,\n",
       "  0.1267922967672348,\n",
       "  0.20532038807868958,\n",
       "  0.1800263673067093,\n",
       "  0.12922483682632446,\n",
       "  0.0992354229092598,\n",
       "  0.1334628015756607,\n",
       "  0.13603650033473969,\n",
       "  0.11669859290122986,\n",
       "  0.14982758462429047,\n",
       "  0.0851144790649414,\n",
       "  0.13503482937812805,\n",
       "  0.11205290257930756,\n",
       "  0.13151119649410248,\n",
       "  0.14509566128253937,\n",
       "  0.10641280561685562,\n",
       "  0.11672300845384598,\n",
       "  0.16248668730258942,\n",
       "  0.18299750983715057,\n",
       "  0.13925956189632416,\n",
       "  0.16749307513237,\n",
       "  0.12867102026939392,\n",
       "  0.1422457993030548,\n",
       "  0.1745796948671341,\n",
       "  0.12410229444503784,\n",
       "  0.16139960289001465,\n",
       "  0.15534593164920807,\n",
       "  0.1372535228729248,\n",
       "  0.13353793323040009,\n",
       "  0.14545905590057373,\n",
       "  0.1588248908519745,\n",
       "  0.12046416103839874,\n",
       "  0.18206556141376495,\n",
       "  0.14166907966136932,\n",
       "  0.15480446815490723,\n",
       "  0.12208907306194305,\n",
       "  0.14970780909061432,\n",
       "  0.2243378758430481,\n",
       "  0.2158944308757782,\n",
       "  0.23418740928173065,\n",
       "  0.13102571666240692,\n",
       "  0.17358346283435822,\n",
       "  0.13609549403190613,\n",
       "  0.10289705544710159,\n",
       "  0.12256591022014618,\n",
       "  0.1458684355020523,\n",
       "  0.10347484052181244,\n",
       "  0.09045988321304321,\n",
       "  0.14089414477348328,\n",
       "  0.17904922366142273,\n",
       "  0.13175009191036224,\n",
       "  0.1250496357679367,\n",
       "  0.12769636511802673,\n",
       "  0.11140035837888718,\n",
       "  0.12861138582229614,\n",
       "  0.10075464844703674,\n",
       "  0.14452484250068665,\n",
       "  0.15789616107940674,\n",
       "  0.13628976047039032,\n",
       "  0.1514483392238617,\n",
       "  0.151890367269516,\n",
       "  0.20292125642299652,\n",
       "  0.12266554683446884,\n",
       "  0.150539368391037,\n",
       "  0.13909418880939484,\n",
       "  0.1695331186056137,\n",
       "  0.1707848459482193,\n",
       "  0.1774912029504776,\n",
       "  0.13583789765834808,\n",
       "  0.12798352539539337,\n",
       "  0.1322566419839859,\n",
       "  0.15013539791107178,\n",
       "  0.14537757635116577,\n",
       "  0.12619394063949585,\n",
       "  0.13084807991981506,\n",
       "  0.1926548182964325,\n",
       "  0.16470634937286377,\n",
       "  0.16330230236053467,\n",
       "  0.15092314779758453,\n",
       "  0.1371365338563919,\n",
       "  0.1474745124578476,\n",
       "  0.10844337195158005,\n",
       "  0.15551789104938507,\n",
       "  0.13453848659992218,\n",
       "  0.14766301214694977,\n",
       "  0.11639729887247086,\n",
       "  0.1661316603422165,\n",
       "  0.134755477309227,\n",
       "  0.12285187095403671,\n",
       "  0.170592799782753,\n",
       "  0.18156221508979797,\n",
       "  0.24961097538471222,\n",
       "  0.16190709173679352,\n",
       "  0.11889893561601639,\n",
       "  0.10677312314510345,\n",
       "  0.11017145961523056,\n",
       "  0.13700099289417267,\n",
       "  0.13340622186660767,\n",
       "  0.17505425214767456,\n",
       "  0.13188286125659943,\n",
       "  0.13098473846912384,\n",
       "  0.14798350632190704,\n",
       "  0.11752257496118546,\n",
       "  0.1387188881635666,\n",
       "  0.1558467149734497,\n",
       "  0.14879927039146423,\n",
       "  0.09442713856697083,\n",
       "  0.141936793923378,\n",
       "  0.16210995614528656,\n",
       "  0.07775992155075073,\n",
       "  0.13374961912631989,\n",
       "  0.18228580057621002,\n",
       "  0.16009517014026642,\n",
       "  0.11294060945510864,\n",
       "  0.141926571726799,\n",
       "  0.16207021474838257,\n",
       "  0.1762520968914032,\n",
       "  0.19964732229709625,\n",
       "  0.16034680604934692,\n",
       "  0.12307136505842209,\n",
       "  0.12470798194408417,\n",
       "  0.17511777579784393,\n",
       "  0.14216847717761993,\n",
       "  0.1705756038427353,\n",
       "  0.08945715427398682,\n",
       "  0.11175509542226791,\n",
       "  0.12336879968643188,\n",
       "  0.14747178554534912,\n",
       "  0.16471169888973236,\n",
       "  0.19387957453727722,\n",
       "  0.1303483545780182,\n",
       "  0.18753264844417572,\n",
       "  0.1295512318611145,\n",
       "  0.13681136071681976,\n",
       "  0.13351185619831085,\n",
       "  0.14629843831062317,\n",
       "  0.12479353696107864,\n",
       "  0.10978668183088303,\n",
       "  0.12075620144605637,\n",
       "  0.18317319452762604,\n",
       "  0.1789974421262741,\n",
       "  0.21016521751880646,\n",
       "  0.15285849571228027,\n",
       "  0.14733785390853882,\n",
       "  0.1634863018989563,\n",
       "  0.17671702802181244,\n",
       "  0.11198464781045914,\n",
       "  0.16644495725631714,\n",
       "  0.11490270495414734,\n",
       "  0.12812145054340363,\n",
       "  0.15568053722381592,\n",
       "  0.16123080253601074,\n",
       "  0.1655380129814148,\n",
       "  0.1579696536064148,\n",
       "  0.1823820024728775,\n",
       "  0.12401600927114487,\n",
       "  0.10365190356969833,\n",
       "  0.15919648110866547,\n",
       "  0.13717830181121826,\n",
       "  0.1434633880853653,\n",
       "  0.1861865073442459,\n",
       "  0.15162384510040283,\n",
       "  0.14441679418087006,\n",
       "  0.12969714403152466,\n",
       "  0.12834930419921875,\n",
       "  0.15765249729156494,\n",
       "  0.13321517407894135,\n",
       "  0.10118281841278076,\n",
       "  0.19577710330486298,\n",
       "  0.1321602612733841,\n",
       "  0.13337813317775726,\n",
       "  0.13323669135570526,\n",
       "  0.19065351784229279,\n",
       "  0.16731548309326172,\n",
       "  0.16279050707817078,\n",
       "  0.15258748829364777,\n",
       "  0.1382826566696167,\n",
       "  0.15275506675243378,\n",
       "  0.10830318927764893,\n",
       "  0.15775039792060852,\n",
       "  0.1365106999874115,\n",
       "  0.14763110876083374,\n",
       "  0.11964420974254608,\n",
       "  0.16633787751197815,\n",
       "  0.13673987984657288,\n",
       "  0.1233600303530693,\n",
       "  0.16952794790267944,\n",
       "  0.18054139614105225,\n",
       "  0.25190895795822144,\n",
       "  0.16281439363956451,\n",
       "  0.11893042922019958,\n",
       "  0.10589899867773056,\n",
       "  0.10712230950593948,\n",
       "  0.1363094598054886,\n",
       "  0.13578210771083832,\n",
       "  0.1778707355260849,\n",
       "  0.13416782021522522,\n",
       "  0.12991127371788025,\n",
       "  0.15025538206100464,\n",
       "  0.11729177832603455,\n",
       "  0.1378529816865921,\n",
       "  0.1589784473180771,\n",
       "  0.14826177060604095,\n",
       "  0.09495492279529572,\n",
       "  0.14199583232402802,\n",
       "  0.16293956339359283,\n",
       "  0.0772273913025856,\n",
       "  0.13255785405635834,\n",
       "  0.18752655386924744,\n",
       "  0.16178105771541595,\n",
       "  0.11097456514835358,\n",
       "  0.14248782396316528,\n",
       "  0.16325289011001587,\n",
       "  0.17882075905799866,\n",
       "  0.19890961050987244,\n",
       "  0.15908175706863403,\n",
       "  0.12492638826370239,\n",
       "  0.12284625321626663,\n",
       "  0.17793098092079163,\n",
       "  0.1450021117925644,\n",
       "  0.17248043417930603,\n",
       "  0.08882185816764832,\n",
       "  0.1148541048169136,\n",
       "  0.12433561682701111,\n",
       "  0.1492672711610794,\n",
       "  0.1677405685186386,\n",
       "  0.1955047845840454,\n",
       "  0.1317669302225113,\n",
       "  0.18865333497524261,\n",
       "  0.1318468451499939,\n",
       "  0.1382840871810913,\n",
       "  0.13396193087100983,\n",
       "  0.14673767983913422,\n",
       "  0.12622064352035522,\n",
       "  0.11165357381105423,\n",
       "  0.12161975353956223,\n",
       "  0.18611422181129456,\n",
       "  0.17926517128944397,\n",
       "  0.2106030136346817,\n",
       "  0.1564064770936966,\n",
       "  0.14694908261299133,\n",
       "  0.16689740121364594,\n",
       "  0.1764274686574936,\n",
       "  0.11294998973608017,\n",
       "  0.16849033534526825,\n",
       "  0.11494262516498566,\n",
       "  0.12851527333259583,\n",
       "  0.15541769564151764,\n",
       "  0.16184471547603607,\n",
       "  0.16409985721111298,\n",
       "  0.16029243171215057,\n",
       "  0.1849515438079834,\n",
       "  0.12233338505029678,\n",
       "  0.1028938889503479,\n",
       "  0.15898211300373077,\n",
       "  0.13812771439552307,\n",
       "  0.14234559237957,\n",
       "  0.18583117425441742,\n",
       "  0.1519962102174759,\n",
       "  0.1425057351589203,\n",
       "  0.1332574039697647,\n",
       "  0.12926438450813293,\n",
       "  0.1561615765094757,\n",
       "  0.13360290229320526,\n",
       "  0.09837504476308823,\n",
       "  0.19466322660446167,\n",
       "  0.13221463561058044,\n",
       "  0.1365172266960144,\n",
       "  0.13088491559028625,\n",
       "  0.19283081591129303,\n",
       "  0.16639603674411774,\n",
       "  0.16331374645233154,\n",
       "  0.15090398490428925,\n",
       "  0.138861283659935,\n",
       "  0.15153808891773224,\n",
       "  0.10925260186195374,\n",
       "  0.15862810611724854,\n",
       "  0.13804756104946136,\n",
       "  0.14771302044391632,\n",
       "  0.1189897358417511,\n",
       "  0.16924120485782623,\n",
       "  0.13811390101909637,\n",
       "  0.12289713323116302,\n",
       "  0.17199525237083435,\n",
       "  0.1825389266014099,\n",
       "  0.25542306900024414,\n",
       "  0.1651749312877655,\n",
       "  0.11891873180866241,\n",
       "  0.106646828353405,\n",
       "  0.10773739218711853,\n",
       "  0.13707105815410614,\n",
       "  0.13450615108013153,\n",
       "  0.17755182087421417,\n",
       "  0.13316082954406738,\n",
       "  0.13240519165992737,\n",
       "  0.14809845387935638,\n",
       "  0.11691845953464508,\n",
       "  0.13808345794677734,\n",
       "  0.15603101253509521,\n",
       "  0.14960765838623047,\n",
       "  0.09386748820543289,\n",
       "  0.14109142124652863,\n",
       "  0.1632431149482727,\n",
       "  0.07767137140035629,\n",
       "  0.13439883291721344,\n",
       "  0.18596172332763672,\n",
       "  0.16149234771728516,\n",
       "  0.11110444366931915,\n",
       "  0.14082302153110504,\n",
       "  0.16151274740695953,\n",
       "  0.17847290635108948,\n",
       "  0.19900715351104736,\n",
       "  0.16022105515003204,\n",
       "  0.12498116493225098,\n",
       "  0.12274663895368576,\n",
       "  0.17645438015460968,\n",
       "  0.14308448135852814,\n",
       "  0.17272169888019562,\n",
       "  0.08947820216417313,\n",
       "  0.11368760466575623,\n",
       "  0.12242544442415237,\n",
       "  0.14888915419578552,\n",
       "  0.16563831269741058,\n",
       "  0.1935967206954956,\n",
       "  0.13322627544403076,\n",
       "  0.18701232969760895,\n",
       "  0.13139651715755463,\n",
       "  0.13740146160125732,\n",
       "  0.13341151177883148,\n",
       "  0.14284169673919678,\n",
       "  0.1279049962759018,\n",
       "  0.11326292902231216,\n",
       "  0.12431132048368454,\n",
       "  0.18875133991241455,\n",
       "  0.17792393267154694,\n",
       "  0.21458472311496735,\n",
       "  0.15366314351558685,\n",
       "  0.14798922836780548,\n",
       "  0.1655895709991455,\n",
       "  0.17508836090564728,\n",
       "  0.11196047812700272,\n",
       "  0.16713152825832367,\n",
       "  0.11460233479738235,\n",
       "  0.12879368662834167,\n",
       "  0.15586327016353607,\n",
       "  0.15869680047035217,\n",
       "  0.16206832230091095,\n",
       "  0.15664225816726685,\n",
       "  0.1805134117603302,\n",
       "  0.12210137397050858,\n",
       "  0.1033208891749382,\n",
       "  0.1561233103275299,\n",
       "  0.13738979399204254,\n",
       "  0.14083905518054962,\n",
       "  0.1858910173177719,\n",
       "  0.1516735553741455,\n",
       "  0.14363333582878113,\n",
       "  0.1304592341184616,\n",
       "  0.12723487615585327,\n",
       "  0.15743090212345123,\n",
       "  0.1332143396139145,\n",
       "  0.09895370900630951,\n",
       "  0.19584159553050995,\n",
       "  0.13290245831012726,\n",
       "  0.1359776109457016,\n",
       "  0.16064076125621796,\n",
       "  0.16363780200481415,\n",
       "  0.13835807144641876,\n",
       "  0.12613846361637115,\n",
       "  0.1312716156244278,\n",
       "  0.11273138970136642,\n",
       "  0.1389922797679901,\n",
       "  0.16908366978168488,\n",
       "  0.17668385803699493,\n",
       "  0.1434382051229477,\n",
       "  0.117019422352314,\n",
       "  0.13325810432434082,\n",
       "  0.16557256877422333,\n",
       "  0.14517299830913544,\n",
       "  0.14666630327701569,\n",
       "  0.15724478662014008,\n",
       "  0.15855570137500763,\n",
       "  0.1887250691652298,\n",
       "  0.18397459387779236,\n",
       "  0.11063072830438614,\n",
       "  0.1313350945711136,\n",
       "  0.15947465598583221,\n",
       "  0.14382706582546234,\n",
       "  0.11390655487775803,\n",
       "  0.16561666131019592,\n",
       "  0.13128885626792908,\n",
       "  0.15776129066944122,\n",
       "  0.12154223024845123,\n",
       "  0.14105568826198578,\n",
       "  0.1582452803850174,\n",
       "  0.18394002318382263,\n",
       "  0.15531596541404724,\n",
       "  0.12535834312438965,\n",
       "  0.1877223402261734,\n",
       "  0.17478451132774353,\n",
       "  0.12404626607894897,\n",
       "  0.16156505048274994,\n",
       "  0.12354956567287445,\n",
       "  0.0932992622256279,\n",
       "  0.14515413343906403,\n",
       "  0.1835969239473343,\n",
       "  0.07206480205059052,\n",
       "  0.1626185029745102,\n",
       "  0.13600820302963257,\n",
       "  0.13178303837776184,\n",
       "  0.14183993637561798,\n",
       "  0.11079693585634232,\n",
       "  0.12465553730726242,\n",
       "  0.17124517261981964,\n",
       "  0.1507783979177475,\n",
       "  0.1871093213558197,\n",
       "  0.15178045630455017,\n",
       "  0.11053037643432617,\n",
       "  0.14699460566043854,\n",
       "  0.1532474160194397,\n",
       "  0.13936085999011993,\n",
       "  0.15821421146392822,\n",
       "  0.12753108143806458,\n",
       "  0.11013740301132202,\n",
       "  0.14120841026306152,\n",
       "  0.2247125208377838,\n",
       "  0.10031569749116898,\n",
       "  0.1484268307685852,\n",
       "  0.12915457785129547,\n",
       "  0.15502454340457916,\n",
       "  0.15604156255722046,\n",
       "  0.1710837036371231,\n",
       "  0.1918843537569046,\n",
       "  0.12139032781124115,\n",
       "  0.20041963458061218,\n",
       "  0.18868792057037354,\n",
       "  0.15430958569049835,\n",
       "  0.1391732394695282,\n",
       "  0.15232962369918823,\n",
       "  0.10017438977956772,\n",
       "  0.20225167274475098,\n",
       "  0.14279282093048096,\n",
       "  0.18078197538852692,\n",
       "  0.16527941823005676,\n",
       "  0.11491341143846512,\n",
       "  0.10970322787761688,\n",
       "  0.16932900249958038,\n",
       "  0.11728809773921967,\n",
       "  0.1574622392654419,\n",
       "  0.12364616990089417,\n",
       "  0.1831808239221573,\n",
       "  0.12277848273515701,\n",
       "  0.15583592653274536,\n",
       "  0.15615032613277435,\n",
       "  0.17446234822273254,\n",
       "  0.15387102961540222,\n",
       "  0.11551083624362946,\n",
       "  0.13365384936332703,\n",
       "  0.1485392153263092,\n",
       "  0.1897616684436798,\n",
       "  0.1585506945848465,\n",
       "  0.19127671420574188,\n",
       "  0.159966841340065,\n",
       "  0.16543209552764893,\n",
       "  0.13710138201713562,\n",
       "  0.12758517265319824,\n",
       "  0.13337521255016327,\n",
       "  0.11271736025810242,\n",
       "  0.1387484073638916,\n",
       "  0.1683446615934372,\n",
       "  0.17815245687961578,\n",
       "  0.14350996911525726,\n",
       "  0.11819416284561157,\n",
       "  0.13491472601890564,\n",
       "  0.16736526787281036,\n",
       "  0.14593645930290222,\n",
       "  0.14799736440181732,\n",
       "  0.15966126322746277,\n",
       "  0.16115665435791016,\n",
       "  0.18910840153694153,\n",
       "  0.1857527643442154,\n",
       "  0.11315584927797318,\n",
       "  0.13468089699745178,\n",
       "  0.16050277650356293,\n",
       "  0.14404381811618805,\n",
       "  0.1141153872013092,\n",
       "  0.16492387652397156,\n",
       "  0.13216648995876312,\n",
       "  0.15769149363040924,\n",
       "  0.12078947573900223,\n",
       "  0.13851924240589142,\n",
       "  0.16059176623821259,\n",
       "  0.18542994558811188,\n",
       "  0.15403427183628082,\n",
       "  0.12447898089885712,\n",
       "  0.18799038231372833,\n",
       "  0.1752936989068985,\n",
       "  0.12379827350378036,\n",
       "  0.15966354310512543,\n",
       "  0.12404714524745941,\n",
       "  0.09184446185827255,\n",
       "  0.1439899355173111,\n",
       "  0.1842799186706543,\n",
       "  0.07115074247121811,\n",
       "  0.1618061065673828,\n",
       "  0.13451078534126282,\n",
       "  0.13082896173000336,\n",
       "  0.14001600444316864,\n",
       "  0.11149990558624268,\n",
       "  0.12325036525726318,\n",
       "  0.1713840365409851,\n",
       "  0.15141406655311584,\n",
       "  0.18607406318187714,\n",
       "  0.15214630961418152,\n",
       "  0.11105651408433914,\n",
       "  0.14573894441127777,\n",
       "  0.15413352847099304,\n",
       "  0.13823045790195465,\n",
       "  0.15933389961719513,\n",
       "  0.12931938469409943,\n",
       "  0.10923606902360916,\n",
       "  0.141484335064888,\n",
       "  0.22868160903453827,\n",
       "  0.10014431178569794,\n",
       "  0.1468227356672287,\n",
       "  0.12942174077033997,\n",
       "  0.1565157175064087,\n",
       "  0.15718476474285126,\n",
       "  0.17009581625461578,\n",
       "  0.19097916781902313,\n",
       "  0.1205490455031395,\n",
       "  0.2009526938199997,\n",
       "  0.18981754779815674,\n",
       "  0.15372233092784882,\n",
       "  0.13880926370620728,\n",
       "  0.15454021096229553,\n",
       "  0.09947652369737625,\n",
       "  0.20018136501312256,\n",
       "  0.14328259229660034,\n",
       "  0.18167534470558167,\n",
       "  0.16567076742649078,\n",
       "  0.11526400595903397,\n",
       "  0.11044353246688843,\n",
       "  0.17080874741077423,\n",
       "  0.1174275204539299,\n",
       "  0.15734805166721344,\n",
       "  0.12358497828245163,\n",
       "  0.1834535449743271,\n",
       "  0.12476744502782822,\n",
       "  0.15672224760055542,\n",
       "  0.15755416452884674,\n",
       "  0.17393559217453003,\n",
       "  0.15562984347343445,\n",
       "  0.11544634401798248,\n",
       "  0.1357944756746292,\n",
       "  0.1523253321647644,\n",
       "  0.19136977195739746,\n",
       "  0.16012458503246307,\n",
       "  0.19289609789848328,\n",
       "  0.1629718542098999,\n",
       "  0.16691036522388458,\n",
       "  0.13855983316898346,\n",
       "  0.1276184469461441,\n",
       "  0.13493552803993225,\n",
       "  0.11403008550405502,\n",
       "  0.14033085107803345,\n",
       "  0.17042775452136993,\n",
       "  0.1805582195520401,\n",
       "  0.14541283249855042,\n",
       "  0.12008336186408997,\n",
       "  0.13669316470623016,\n",
       "  0.16802102327346802,\n",
       "  0.14836566150188446,\n",
       "  0.15248732268810272,\n",
       "  0.16158738732337952,\n",
       "  0.16255640983581543,\n",
       "  0.1910998672246933,\n",
       "  0.18891924619674683,\n",
       "  0.1134793758392334,\n",
       "  0.13573245704174042,\n",
       "  0.16313408315181732,\n",
       "  0.14565998315811157,\n",
       "  0.1162487044930458,\n",
       "  0.1686139702796936,\n",
       "  0.13152490556240082,\n",
       "  0.1574534773826599,\n",
       "  0.11943613737821579,\n",
       "  0.13987767696380615,\n",
       "  0.1599665880203247,\n",
       "  0.18541911244392395,\n",
       "  0.15521185100078583,\n",
       "  0.12570588290691376,\n",
       "  0.1879996955394745,\n",
       "  0.17203980684280396,\n",
       "  0.12478248029947281,\n",
       "  0.1606987714767456,\n",
       "  0.1219325065612793,\n",
       "  0.09184962511062622,\n",
       "  0.1447705626487732,\n",
       "  0.18540489673614502,\n",
       "  0.07161383330821991,\n",
       "  0.16179685294628143,\n",
       "  0.13464748859405518,\n",
       "  0.13167111575603485,\n",
       "  0.1411028504371643,\n",
       "  0.1119319498538971,\n",
       "  0.12361365556716919,\n",
       "  0.17248408496379852,\n",
       "  0.1513010412454605,\n",
       "  0.18871472775936127,\n",
       "  0.1529369056224823,\n",
       "  0.11116267740726471,\n",
       "  0.14609193801879883,\n",
       "  0.15590806305408478,\n",
       "  0.13912685215473175,\n",
       "  0.1577073186635971,\n",
       "  0.1297418624162674,\n",
       "  0.10834745317697525,\n",
       "  0.14171741902828217,\n",
       "  0.22628745436668396,\n",
       "  0.10154426097869873,\n",
       "  0.146621972322464,\n",
       "  0.1300218552350998,\n",
       "  0.1562701016664505,\n",
       "  0.15849216282367706,\n",
       "  0.1705542802810669,\n",
       "  0.1902388483285904,\n",
       "  0.12198883295059204,\n",
       "  0.20278671383857727,\n",
       "  0.18995924293994904,\n",
       "  0.15652404725551605,\n",
       "  0.13839663565158844,\n",
       "  0.15317799150943756,\n",
       "  0.10102162510156631,\n",
       "  0.20097950100898743,\n",
       "  0.1457948237657547,\n",
       "  0.18208619952201843,\n",
       "  0.1662558615207672,\n",
       "  0.11423227190971375,\n",
       "  0.11228592693805695,\n",
       "  0.16976095736026764,\n",
       "  0.11989475041627884,\n",
       "  0.15730927884578705,\n",
       "  0.12246432900428772,\n",
       "  0.18477538228034973,\n",
       "  0.12410575896501541,\n",
       "  0.15659025311470032,\n",
       "  0.15851373970508575,\n",
       "  0.17598973214626312,\n",
       "  0.1576164960861206,\n",
       "  0.11445857584476471,\n",
       "  0.13856492936611176,\n",
       "  0.1538504958152771,\n",
       "  0.1918024867773056,\n",
       "  0.160725936293602,\n",
       "  0.192612424492836],\n",
       " [[0.9636556506156921, 0.7484144568443298],\n",
       "  [0.9588477611541748, 0.721993088722229],\n",
       "  [0.9621450901031494, 0.7204864621162415],\n",
       "  [0.9632301926612854, 0.6769623756408691],\n",
       "  [0.9662373661994934, 0.6984089612960815],\n",
       "  [0.9642049670219421, 0.8358293771743774],\n",
       "  [0.9632564783096313, 0.6611958742141724],\n",
       "  [0.9606465101242065, 0.6725104451179504],\n",
       "  [0.9615528583526611, 0.7566417455673218],\n",
       "  [0.9677419662475586, 0.7539688944816589],\n",
       "  [0.968465268611908, 0.769543468952179],\n",
       "  [0.9508083462715149, 0.5776935815811157],\n",
       "  [0.9657584428787231, 0.6727773547172546],\n",
       "  [0.9694574475288391, 0.7909048795700073],\n",
       "  [0.9659129977226257, 0.8194068074226379],\n",
       "  [0.9644444584846497, 0.7225257158279419],\n",
       "  [0.9652112126350403, 0.6496955752372742],\n",
       "  [0.9580549597740173, 0.7163902521133423],\n",
       "  [0.9633604288101196, 0.7326114177703857],\n",
       "  [0.9675614833831787, 0.835328221321106],\n",
       "  [0.9579100012779236, 0.6356863379478455],\n",
       "  [0.9574235677719116, 0.5733238458633423],\n",
       "  [0.9589292407035828, 0.8193969130516052],\n",
       "  [0.9592795372009277, 0.6174092292785645],\n",
       "  [0.9656046628952026, 0.808802604675293],\n",
       "  [0.9584378600120544, 0.6695317029953003],\n",
       "  [0.9649184942245483, 0.5915727615356445],\n",
       "  [0.9720223546028137, 0.7050385475158691],\n",
       "  [0.9714998006820679, 0.8684067726135254],\n",
       "  [0.9670722484588623, 0.6620457768440247],\n",
       "  [0.9636892080307007, 0.5527105331420898],\n",
       "  [0.9696123003959656, 0.8228347301483154],\n",
       "  [0.9645959138870239, 0.6466606855392456],\n",
       "  [0.9732234477996826, 0.7204105854034424],\n",
       "  [0.9640759825706482, 0.6424075961112976],\n",
       "  [0.9725217223167419, 0.8208206295967102],\n",
       "  [0.9643356800079346, 0.7002040147781372],\n",
       "  [0.9667148590087891, 0.6392542123794556],\n",
       "  [0.9706693887710571, 0.672876238822937],\n",
       "  [0.9647286534309387, 0.785774827003479],\n",
       "  [0.9592360854148865, 0.7474532723426819],\n",
       "  [0.9628601670265198, 0.5587267875671387],\n",
       "  [0.9677419662475586, 0.5962260961532593],\n",
       "  [0.9610705375671387, 0.6592739224433899],\n",
       "  [0.9640535116195679, 0.86052405834198],\n",
       "  [0.9555555582046509, 0.6279823184013367],\n",
       "  [0.9610835313796997, 0.5384552478790283],\n",
       "  [0.9674825668334961, 0.7001427412033081],\n",
       "  [0.9617993235588074, 0.7933119535446167],\n",
       "  [0.9578292369842529, 0.6608673930168152],\n",
       "  [0.9634010791778564, 0.6211813688278198],\n",
       "  [0.9632432460784912, 0.7549247741699219],\n",
       "  [0.9643104672431946, 0.6632527112960815],\n",
       "  [0.9611614942550659, 0.6590234637260437],\n",
       "  [0.9698593020439148, 0.8603582978248596],\n",
       "  [0.9556525349617004, 0.6659455299377441],\n",
       "  [0.961126983165741, 0.6589145660400391],\n",
       "  [0.9621075391769409, 0.6972496509552002],\n",
       "  [0.9705346822738647, 0.7805812954902649],\n",
       "  [0.961444079875946, 0.6859683990478516],\n",
       "  [0.9545906186103821, 0.6143877506256104],\n",
       "  [0.9554628133773804, 0.5048573613166809],\n",
       "  [0.953505277633667, 0.56136554479599],\n",
       "  [0.961459755897522, 0.7750728726387024],\n",
       "  [0.9619341492652893, 0.8041394352912903],\n",
       "  [0.9641657471656799, 0.5848600268363953],\n",
       "  [0.974007785320282, 0.8125285506248474],\n",
       "  [0.9637383222579956, 0.6305503845214844],\n",
       "  [0.9569536447525024, 0.5475476980209351],\n",
       "  [0.9691977500915527, 0.7063842415809631],\n",
       "  [0.9751784801483154, 0.7020791172981262],\n",
       "  [0.9651081562042236, 0.6297001242637634],\n",
       "  [0.9572873115539551, 0.7240776419639587],\n",
       "  [0.9610810875892639, 0.7173113226890564],\n",
       "  [0.9668180346488953, 0.8472939729690552],\n",
       "  [0.9674026966094971, 0.8692905306816101],\n",
       "  [0.9689226746559143, 0.7812986373901367],\n",
       "  [0.9660839438438416, 0.5672811269760132],\n",
       "  [0.9745582938194275, 0.8684384226799011],\n",
       "  [0.9624535441398621, 0.7100698351860046],\n",
       "  [0.9614423513412476, 0.685932457447052],\n",
       "  [0.9677990078926086, 0.7345055937767029],\n",
       "  [0.9682310819625854, 0.7771095037460327],\n",
       "  [0.9650276899337769, 0.7489484548568726],\n",
       "  [0.9584073424339294, 0.6189581751823425],\n",
       "  [0.9661391377449036, 0.7858494520187378],\n",
       "  [0.9542693495750427, 0.6664208769798279],\n",
       "  [0.9656700491905212, 0.6735321283340454],\n",
       "  [0.9586206674575806, 0.6627318263053894],\n",
       "  [0.9598539471626282, 0.5487675666809082],\n",
       "  [0.9574775099754333, 0.57135409116745],\n",
       "  [0.9653679728507996, 0.678633987903595],\n",
       "  [0.9661614298820496, 0.7747544050216675],\n",
       "  [0.9624549150466919, 0.5888780951499939],\n",
       "  [0.9573125839233398, 0.7540172934532166],\n",
       "  [0.9664233326911926, 0.6565052270889282],\n",
       "  [0.9637160897254944, 0.7121332883834839],\n",
       "  [0.9650670886039734, 0.7637672424316406],\n",
       "  [0.9595959782600403, 0.7185291647911072],\n",
       "  [0.9624955654144287, 0.6755629181861877],\n",
       "  [0.960824728012085, 0.6235392689704895],\n",
       "  [0.9662373661994934, 0.700747013092041],\n",
       "  [0.9664657115936279, 0.8481993675231934],\n",
       "  [0.9654178619384766, 0.6688986420631409],\n",
       "  [0.9624033570289612, 0.6762471199035645],\n",
       "  [0.9637925028800964, 0.7682375907897949],\n",
       "  [0.9677419662475586, 0.755362331867218],\n",
       "  [0.9681149125099182, 0.7703707814216614],\n",
       "  [0.9508083462715149, 0.6201264262199402],\n",
       "  [0.9687039852142334, 0.6805949211120605],\n",
       "  [0.9683794379234314, 0.7870382070541382],\n",
       "  [0.9673043489456177, 0.8410653471946716],\n",
       "  [0.9644444584846497, 0.7232931852340698],\n",
       "  [0.9630813002586365, 0.6429868936538696],\n",
       "  [0.959168553352356, 0.720009446144104],\n",
       "  [0.9626202583312988, 0.7300581336021423],\n",
       "  [0.9671886563301086, 0.831012487411499],\n",
       "  [0.9564586281776428, 0.629612922668457],\n",
       "  [0.9574235677719116, 0.5715427398681641],\n",
       "  [0.9589292407035828, 0.8188983798027039],\n",
       "  [0.9604541659355164, 0.6211053729057312],\n",
       "  [0.9663287401199341, 0.8118637204170227],\n",
       "  [0.9598709940910339, 0.6743196845054626],\n",
       "  [0.9649184942245483, 0.5913798809051514],\n",
       "  [0.9720223546028137, 0.704657256603241],\n",
       "  [0.9725685715675354, 0.8795299530029297],\n",
       "  [0.9645668864250183, 0.6553610563278198],\n",
       "  [0.9636892080307007, 0.5512582659721375],\n",
       "  [0.9685644507408142, 0.8208500742912292],\n",
       "  [0.9642618894577026, 0.6445042490959167],\n",
       "  [0.9732234477996826, 0.7227444052696228],\n",
       "  [0.963039755821228, 0.6445263624191284],\n",
       "  [0.9718260765075684, 0.8160568475723267],\n",
       "  [0.9646853804588318, 0.7008184790611267],\n",
       "  [0.9659912586212158, 0.6283056735992432],\n",
       "  [0.9696341753005981, 0.666931688785553],\n",
       "  [0.9666666388511658, 0.798555314540863],\n",
       "  [0.9588688611984253, 0.7466099858283997],\n",
       "  [0.9625130295753479, 0.5573497414588928],\n",
       "  [0.9699166417121887, 0.6449727416038513],\n",
       "  [0.9603753685951233, 0.6582263112068176],\n",
       "  [0.9632887244224548, 0.7897707223892212],\n",
       "  [0.9559259414672852, 0.6331407427787781],\n",
       "  [0.9595574140548706, 0.5352718234062195],\n",
       "  [0.968181848526001, 0.7007530927658081],\n",
       "  [0.962156355381012, 0.795137345790863],\n",
       "  [0.9574835896492004, 0.6575021147727966],\n",
       "  [0.9626617431640625, 0.6850952506065369],\n",
       "  [0.9639639854431152, 0.7575122117996216],\n",
       "  [0.9639639258384705, 0.6623409986495972],\n",
       "  [0.9607985019683838, 0.6579974293708801],\n",
       "  [0.9705291390419006, 0.8651596307754517],\n",
       "  [0.954925537109375, 0.6621739268302917],\n",
       "  [0.9614835977554321, 0.6582299470901489],\n",
       "  [0.9606639742851257, 0.6971206665039062],\n",
       "  [0.9698071479797363, 0.7779536843299866],\n",
       "  [0.9607430696487427, 0.6854962706565857],\n",
       "  [0.9532648324966431, 0.6094985008239746],\n",
       "  [0.9554628133773804, 0.5049285888671875],\n",
       "  [0.9538685083389282, 0.5649904012680054],\n",
       "  [0.9600955247879028, 0.7702333927154541],\n",
       "  [0.9605624079704285, 0.7992359399795532],\n",
       "  [0.9641657471656799, 0.5859488248825073],\n",
       "  [0.974007785320282, 0.8138870000839233],\n",
       "  [0.9637383222579956, 0.6307702660560608],\n",
       "  [0.9576894640922546, 0.5520344972610474],\n",
       "  [0.9684814214706421, 0.7063091397285461],\n",
       "  [0.9758585691452026, 0.7558294534683228],\n",
       "  [0.9658059477806091, 0.6288342475891113],\n",
       "  [0.9572873115539551, 0.7250999212265015],\n",
       "  [0.9600000381469727, 0.6644202470779419],\n",
       "  [0.9664687514305115, 0.8577205538749695],\n",
       "  [0.9663512110710144, 0.8484631776809692],\n",
       "  [0.9671961665153503, 0.7761890888214111],\n",
       "  [0.9639860391616821, 0.5569746494293213],\n",
       "  [0.9734982252120972, 0.8619880676269531],\n",
       "  [0.9628252983093262, 0.7121070623397827],\n",
       "  [0.9614423513412476, 0.6849797368049622],\n",
       "  [0.9677990078926086, 0.7378041744232178],\n",
       "  [0.9678700566291809, 0.7744724154472351],\n",
       "  [0.9667589664459229, 0.7608258128166199],\n",
       "  [0.9587628841400146, 0.6188509464263916],\n",
       "  [0.9657710790634155, 0.7854562997817993],\n",
       "  [0.9546266198158264, 0.6168566942214966],\n",
       "  [0.9671465754508972, 0.6795132756233215],\n",
       "  [0.9582922458648682, 0.6584968566894531],\n",
       "  [0.958759069442749, 0.5436675548553467],\n",
       "  [0.9581982493400574, 0.537070631980896],\n",
       "  [0.9642857313156128, 0.6762421131134033],\n",
       "  [0.965456485748291, 0.710634171962738],\n",
       "  [0.9631769061088562, 0.6290671229362488],\n",
       "  [0.9580549597740173, 0.761600136756897],\n",
       "  [0.9660583734512329, 0.6542401909828186],\n",
       "  [0.9657097458839417, 0.6644930839538574],\n",
       "  [0.9643613696098328, 0.7561911344528198],\n",
       "  [0.9595959782600403, 0.7191192507743835],\n",
       "  [0.9624955654144287, 0.6701639890670776],\n",
       "  [0.9628865718841553, 0.6794523596763611],\n",
       "  [0.9665854573249817, 0.7016972303390503],\n",
       "  [0.9649585485458374, 0.8400417566299438],\n",
       "  [0.9657780528068542, 0.6719059944152832],\n",
       "  [0.963457465171814, 0.6789553761482239],\n",
       "  [0.9634191989898682, 0.7674522399902344],\n",
       "  [0.9688804745674133, 0.7604167461395264],\n",
       "  [0.968465268611908, 0.7693572640419006],\n",
       "  [0.9514963626861572, 0.623210072517395],\n",
       "  [0.9675993919372559, 0.6760022640228271],\n",
       "  [0.9683794379234314, 0.7857696413993835],\n",
       "  [0.9676521420478821, 0.7648379802703857],\n",
       "  [0.9640740752220154, 0.7192862629890442],\n",
       "  [0.9641462564468384, 0.6471285223960876],\n",
       "  [0.9584261775016785, 0.7191413044929504],\n",
       "  [0.9618800282478333, 0.6526454091072083],\n",
       "  [0.9664429426193237, 0.8251924514770508],\n",
       "  [0.9571843147277832, 0.630419909954071],\n",
       "  [0.9570596814155579, 0.5704017281532288],\n",
       "  [0.9585625529289246, 0.820490837097168],\n",
       "  [0.9612372517585754, 0.6239259839057922],\n",
       "  [0.9670528769493103, 0.8174871802330017],\n",
       "  [0.9595127105712891, 0.6279342770576477],\n",
       "  [0.9645641446113586, 0.5910193920135498],\n",
       "  [0.973621129989624, 0.7129339575767517],\n",
       "  [0.9729248285293579, 0.8813896179199219],\n",
       "  [0.9652827382087708, 0.6609208583831787],\n",
       "  [0.9644153714179993, 0.5542948246002197],\n",
       "  [0.9696123003959656, 0.8273943662643433],\n",
       "  [0.9652639031410217, 0.6477845311164856],\n",
       "  [0.9735667705535889, 0.7237346768379211],\n",
       "  [0.9654576778411865, 0.6493023633956909],\n",
       "  [0.9707825779914856, 0.8129082322120667],\n",
       "  [0.9653846621513367, 0.6988964080810547],\n",
       "  [0.9674384593963623, 0.7441307306289673],\n",
       "  [0.9706693887710571, 0.6662948727607727],\n",
       "  [0.9655038714408875, 0.7887393236160278],\n",
       "  [0.9603378176689148, 0.7493363618850708],\n",
       "  [0.9600833058357239, 0.546098530292511],\n",
       "  [0.9688292741775513, 0.6020225286483765],\n",
       "  [0.9603753685951233, 0.658225953578949],\n",
       "  [0.9617590308189392, 0.8494946956634521],\n",
       "  [0.9562962651252747, 0.6433326601982117],\n",
       "  [0.9595574140548706, 0.5361553430557251],\n",
       "  [0.9667832255363464, 0.6963251829147339],\n",
       "  [0.9617993235588074, 0.7941288352012634],\n",
       "  [0.9578292369842529, 0.6545931696891785],\n",
       "  [0.9611829519271851, 0.5771125555038452],\n",
       "  [0.9628828763961792, 0.6981609463691711],\n",
       "  [0.9643104672431946, 0.6629327535629272],\n",
       "  [0.9586206674575806, 0.6513659954071045],\n",
       "  [0.9695244431495667, 0.8587155342102051],\n",
       "  [0.9527444839477539, 0.6512201428413391],\n",
       "  [0.9607703685760498, 0.6569136381149292],\n",
       "  [0.9610248804092407, 0.6969418525695801],\n",
       "  [0.9679883122444153, 0.7734805345535278],\n",
       "  [0.9603925347328186, 0.6823290586471558],\n",
       "  [0.953927755355835, 0.6105446815490723],\n",
       "  [0.9572025537490845, 0.5128799080848694],\n",
       "  [0.9538685083389282, 0.5624706149101257],\n",
       "  [0.9618008136749268, 0.7751405239105225],\n",
       "  [0.9622771143913269, 0.8094220161437988],\n",
       "  [0.9645390510559082, 0.5889135599136353],\n",
       "  [0.9736565351486206, 0.8123945593833923],\n",
       "  [0.9629906415939331, 0.629742443561554],\n",
       "  [0.956585705280304, 0.545921266078949],\n",
       "  [0.9688395857810974, 0.7066903114318848],\n",
       "  [0.9748384952545166, 0.7531985640525818],\n",
       "  [0.9661548733711243, 0.6313881874084473],\n",
       "  [0.9576619863510132, 0.722181499004364],\n",
       "  [0.9618018269538879, 0.7220444679260254],\n",
       "  [0.9675166010856628, 0.8605489134788513],\n",
       "  [0.9670522212982178, 0.8517261147499084],\n",
       "  [0.9689226746559143, 0.76053386926651],\n",
       "  [0.9650350213050842, 0.5593542456626892],\n",
       "  [0.9727914929389954, 0.8562878966331482],\n",
       "  [0.9628252983093262, 0.7079402804374695],\n",
       "  [0.962156355381012, 0.6902006268501282],\n",
       "  [0.9681528210639954, 0.6961326599121094],\n",
       "  [0.9678700566291809, 0.7764293551445007],\n",
       "  [0.9657201766967773, 0.7575199007987976],\n",
       "  [0.9594738483428955, 0.622826874256134],\n",
       "  [0.9654030203819275, 0.7864982485771179],\n",
       "  [0.9549838900566101, 0.6695246696472168],\n",
       "  [0.968254029750824, 0.6771603226661682],\n",
       "  [0.958949089050293, 0.6644790172576904],\n",
       "  [0.9605839252471924, 0.5858214497566223],\n",
       "  [0.9567567706108093, 0.531925618648529],\n",
       "  [0.9653679728507996, 0.6779940128326416],\n",
       "  [0.9651039838790894, 0.7700285911560059],\n",
       "  [0.9624549150466919, 0.5907588005065918],\n",
       "  [0.9580549597740173, 0.7574353814125061],\n",
       "  [0.9667882919311523, 0.6563539505004883],\n",
       "  [0.9653109908103943, 0.7203454375267029],\n",
       "  [0.968045711517334, 0.7311027646064758],\n",
       "  [0.9606134295463562, 0.6173893213272095],\n",
       "  [0.9627554416656494, 0.686723530292511],\n",
       "  [0.9591426253318787, 0.7056999802589417],\n",
       "  [0.9605602622032166, 0.5871374607086182],\n",
       "  [0.9612159132957458, 0.5372213125228882],\n",
       "  [0.964969277381897, 0.7862557768821716],\n",
       "  [0.9739935398101807, 0.670355498790741],\n",
       "  [0.9570801258087158, 0.7811983823776245],\n",
       "  [0.9659497737884521, 0.6691292524337769],\n",
       "  [0.9622511863708496, 0.7537999153137207],\n",
       "  [0.9657894968986511, 0.6119117140769958],\n",
       "  [0.9611070156097412, 0.6221872568130493],\n",
       "  [0.9651122689247131, 0.7794857025146484],\n",
       "  [0.9666212201118469, 0.7763447761535645],\n",
       "  [0.9593891501426697, 0.6570042967796326],\n",
       "  [0.9602968096733093, 0.6646504998207092],\n",
       "  [0.9560283422470093, 0.6336161494255066],\n",
       "  [0.9649427533149719, 0.6832816004753113],\n",
       "  [0.966433584690094, 0.872094988822937],\n",
       "  [0.9694516062736511, 0.8515050411224365],\n",
       "  [0.9705103635787964, 0.5759420990943909],\n",
       "  [0.9631220698356628, 0.7713824510574341],\n",
       "  [0.9632459878921509, 0.6982535719871521],\n",
       "  [0.9590811133384705, 0.610776424407959],\n",
       "  [0.9610632658004761, 0.8522230386734009],\n",
       "  [0.9689530730247498, 0.7835010290145874],\n",
       "  [0.9680412411689758, 0.699950635433197],\n",
       "  [0.9644927978515625, 0.7630809545516968],\n",
       "  [0.9634362459182739, 0.6789188981056213],\n",
       "  [0.9552344083786011, 0.6614487767219543],\n",
       "  [0.962442934513092, 0.6179240942001343],\n",
       "  [0.967021644115448, 0.774048924446106],\n",
       "  [0.9625495076179504, 0.6304327845573425],\n",
       "  [0.961061954498291, 0.7679312825202942],\n",
       "  [0.9765458703041077, 0.6811990141868591],\n",
       "  [0.9682890772819519, 0.6725979447364807],\n",
       "  [0.958287239074707, 0.5531566739082336],\n",
       "  [0.961161732673645, 0.584273099899292],\n",
       "  [0.96859210729599, 0.7346426248550415],\n",
       "  [0.9712414145469666, 0.8717255592346191],\n",
       "  [0.9602977633476257, 0.6677821278572083],\n",
       "  [0.9604895710945129, 0.6479239463806152],\n",
       "  [0.953174889087677, 0.6602404713630676],\n",
       "  [0.9586426019668579, 0.6557165384292603],\n",
       "  [0.9667049050331116, 0.5760034918785095],\n",
       "  [0.9653519988059998, 0.7332374453544617],\n",
       "  [0.9552293419837952, 0.6245602369308472],\n",
       "  [0.9631879925727844, 0.4843882918357849],\n",
       "  [0.9628024101257324, 0.6085772514343262],\n",
       "  [0.9735733866691589, 0.7116488218307495],\n",
       "  [0.9700320959091187, 0.7785266041755676],\n",
       "  [0.9708700776100159, 0.6601161360740662],\n",
       "  [0.9591522216796875, 0.5852949619293213],\n",
       "  [0.9631901383399963, 0.6990361213684082],\n",
       "  [0.9557291865348816, 0.7352516055107117],\n",
       "  [0.9654685854911804, 0.6032698154449463],\n",
       "  [0.9613375067710876, 0.5981428027153015],\n",
       "  [0.9656307697296143, 0.8463225364685059],\n",
       "  [0.9651432633399963, 0.783134937286377],\n",
       "  [0.9683063626289368, 0.6868729591369629],\n",
       "  [0.9626004695892334, 0.5598248839378357],\n",
       "  [0.966528594493866, 0.7660081386566162],\n",
       "  [0.9668180346488953, 0.6393632292747498],\n",
       "  [0.9663194417953491, 0.8489978909492493],\n",
       "  [0.9565380215644836, 0.7335101962089539],\n",
       "  [0.9566010236740112, 0.5812643766403198],\n",
       "  [0.9560798406600952, 0.6214437484741211],\n",
       "  [0.9620299339294434, 0.7389495372772217],\n",
       "  [0.9626028537750244, 0.6077720522880554],\n",
       "  [0.960517406463623, 0.6218999028205872],\n",
       "  [0.9576420187950134, 0.6288484930992126],\n",
       "  [0.9718004465103149, 0.8377229571342468],\n",
       "  [0.9577562212944031, 0.5881487131118774],\n",
       "  [0.9663394093513489, 0.8572638630867004],\n",
       "  [0.9727696180343628, 0.7488952875137329],\n",
       "  [0.9644128084182739, 0.8079582452774048],\n",
       "  [0.9609619975090027, 0.7492896914482117],\n",
       "  [0.959909200668335, 0.6331697702407837],\n",
       "  [0.9596958160400391, 0.7180211544036865],\n",
       "  [0.9572681784629822, 0.696246862411499],\n",
       "  [0.9670868515968323, 0.8670976161956787],\n",
       "  [0.9724834561347961, 0.720239520072937],\n",
       "  [0.9606987237930298, 0.785525918006897],\n",
       "  [0.9711858034133911, 0.5594564080238342],\n",
       "  [0.9610389471054077, 0.6298936009407043],\n",
       "  [0.9596381783485413, 0.7679021954536438],\n",
       "  [0.9655809998512268, 0.8448524475097656],\n",
       "  [0.9630300998687744, 0.8249494433403015],\n",
       "  [0.9667256474494934, 0.5822528004646301],\n",
       "  [0.9652174115180969, 0.698986828327179],\n",
       "  [0.9652203917503357, 0.6069225668907166],\n",
       "  [0.9674279093742371, 0.8320837020874023],\n",
       "  [0.9768199920654297, 0.689155638217926],\n",
       "  [0.9574309587478638, 0.6580997705459595],\n",
       "  [0.9624778628349304, 0.6204067468643188],\n",
       "  [0.9662027955055237, 0.677099883556366],\n",
       "  [0.9683820605278015, 0.7349511981010437],\n",
       "  [0.9627047777175903, 0.6214509606361389],\n",
       "  [0.9634146094322205, 0.6897621154785156],\n",
       "  [0.9601473212242126, 0.7076089382171631],\n",
       "  [0.9616660475730896, 0.5886028409004211],\n",
       "  [0.9615653157234192, 0.5368335247039795],\n",
       "  [0.9646081328392029, 0.7850057482719421],\n",
       "  [0.9725685715675354, 0.6658306121826172],\n",
       "  [0.9560662508010864, 0.7777895331382751],\n",
       "  [0.9670250415802002, 0.6702032089233398],\n",
       "  [0.961564838886261, 0.75471031665802],\n",
       "  [0.9657894968986511, 0.6090630292892456],\n",
       "  [0.9611070156097412, 0.6704434752464294],\n",
       "  [0.9647668600082397, 0.7774692177772522],\n",
       "  [0.9679836630821228, 0.7804566621780396],\n",
       "  [0.9618188142776489, 0.669811487197876],\n",
       "  [0.9602968096733093, 0.6655043363571167],\n",
       "  [0.9563829302787781, 0.6383199095726013],\n",
       "  [0.9656369686126709, 0.6846188306808472],\n",
       "  [0.9643356800079346, 0.7783231735229492],\n",
       "  [0.9690835475921631, 0.8496724367141724],\n",
       "  [0.9708884358406067, 0.5769725441932678],\n",
       "  [0.9624059796333313, 0.7687413692474365],\n",
       "  [0.9636099338531494, 0.7000380754470825],\n",
       "  [0.9576453566551208, 0.6083706617355347],\n",
       "  [0.9588169455528259, 0.8480624556541443],\n",
       "  [0.96859210729599, 0.783268928527832],\n",
       "  [0.9676975607872009, 0.7237282395362854],\n",
       "  [0.9641304612159729, 0.7603036761283875],\n",
       "  [0.9627262949943542, 0.6778766512870789],\n",
       "  [0.9548819065093994, 0.6497533321380615],\n",
       "  [0.962442934513092, 0.6213869452476501],\n",
       "  [0.9663345813751221, 0.7735957503318787],\n",
       "  [0.9639899134635925, 0.692783534526825],\n",
       "  [0.9596459865570068, 0.7606949210166931],\n",
       "  [0.9772565960884094, 0.6833113431930542],\n",
       "  [0.9679203629493713, 0.6678163409233093],\n",
       "  [0.9542266726493835, 0.5410036444664001],\n",
       "  [0.9618371725082397, 0.5887373685836792],\n",
       "  [0.9700361490249634, 0.738583505153656],\n",
       "  [0.9716054201126099, 0.8724848628044128],\n",
       "  [0.960652232170105, 0.6511104106903076],\n",
       "  [0.9615384936332703, 0.6950767040252686],\n",
       "  [0.9538843631744385, 0.6584722995758057],\n",
       "  [0.956875205039978, 0.6494600176811218],\n",
       "  [0.9670876264572144, 0.5866720080375671],\n",
       "  [0.9653519988059998, 0.6548833250999451],\n",
       "  [0.9552293419837952, 0.6237940192222595],\n",
       "  [0.9628306031227112, 0.48476454615592957],\n",
       "  [0.9631635546684265, 0.6065216660499573],\n",
       "  [0.9724243879318237, 0.7094773650169373],\n",
       "  [0.9696753025054932, 0.7784485816955566],\n",
       "  [0.9693369269371033, 0.6506341695785522],\n",
       "  [0.9587668776512146, 0.5830026865005493],\n",
       "  [0.9624683856964111, 0.6952528357505798],\n",
       "  [0.9568452835083008, 0.7530026435852051],\n",
       "  [0.9651162624359131, 0.606434166431427],\n",
       "  [0.9606408476829529, 0.5940701961517334],\n",
       "  [0.964899480342865, 0.8434126973152161],\n",
       "  [0.9651432633399963, 0.7824417948722839],\n",
       "  [0.9686364531517029, 0.7536413073539734],\n",
       "  [0.9622509479522705, 0.5571285486221313],\n",
       "  [0.9679088592529297, 0.7715892791748047],\n",
       "  [0.9661194682121277, 0.6362020373344421],\n",
       "  [0.9663194417953491, 0.8472906947135925],\n",
       "  [0.9576619863510132, 0.7366834282875061],\n",
       "  [0.9569657444953918, 0.6139807105064392],\n",
       "  [0.9560798406600952, 0.6213268637657166],\n",
       "  [0.9612997770309448, 0.7370814681053162],\n",
       "  [0.9622288942337036, 0.6054991483688354],\n",
       "  [0.9594963192939758, 0.617361843585968],\n",
       "  [0.9594069719314575, 0.63613361120224],\n",
       "  [0.9707158207893372, 0.8340332508087158],\n",
       "  [0.9591412544250488, 0.5930725932121277],\n",
       "  [0.9677419066429138, 0.8633089065551758],\n",
       "  [0.9724113345146179, 0.7479367852210999],\n",
       "  [0.9644128084182739, 0.8033705353736877],\n",
       "  [0.9606134295463562, 0.7493374943733215],\n",
       "  [0.9610438346862793, 0.7120499610900879],\n",
       "  [0.9596958160400391, 0.719486653804779],\n",
       "  [0.9580312371253967, 0.6997454762458801],\n",
       "  [0.9667367339134216, 0.8684476613998413],\n",
       "  [0.9714385271072388, 0.7187226414680481],\n",
       "  [0.9610626101493835, 0.7862217426300049],\n",
       "  [0.9708163738250732, 0.5584760904312134],\n",
       "  [0.960678219795227, 0.6279916763305664],\n",
       "  [0.9589422345161438, 0.7148265242576599],\n",
       "  [0.9652109146118164, 0.8449956178665161],\n",
       "  [0.9626676440238953, 0.8248710632324219],\n",
       "  [0.9656636714935303, 0.5790395736694336],\n",
       "  [0.9652174115180969, 0.6988689303398132],\n",
       "  [0.9659091234207153, 0.6090930104255676],\n",
       "  [0.9666791558265686, 0.8295745849609375],\n",
       "  [0.9757334589958191, 0.6853747367858887],\n",
       "  [0.957057535648346, 0.6584616899490356],\n",
       "  [0.9617698788642883, 0.6865463256835938],\n",
       "  [0.9650099277496338, 0.6731404662132263],\n",
       "  [0.968718409538269, 0.7359529733657837],\n",
       "  [0.9606134295463562, 0.6149491667747498],\n",
       "  [0.9630849957466125, 0.6868436932563782],\n",
       "  [0.9598124623298645, 0.7074159979820251],\n",
       "  [0.9616660475730896, 0.5894432067871094],\n",
       "  [0.9619147181510925, 0.5443275570869446],\n",
       "  [0.9631635546684265, 0.7807591557502747],\n",
       "  [0.9743497967720032, 0.6674312949180603],\n",
       "  [0.9570801258087158, 0.7807912826538086],\n",
       "  [0.9659497737884521, 0.6698024272918701],\n",
       "  [0.9612216353416443, 0.7494691014289856],\n",
       "  [0.9650375843048096, 0.6072716116905212],\n",
       "  [0.961480975151062, 0.670586884021759],\n",
       "  [0.9637305736541748, 0.7709027528762817],\n",
       "  [0.9666212201118469, 0.772551953792572],\n",
       "  [0.9607775211334229, 0.664725661277771],\n",
       "  [0.9610389471054077, 0.6699612140655518],\n",
       "  [0.9560283422470093, 0.6386728286743164],\n",
       "  [0.9663311839103699, 0.7386429309844971],\n",
       "  [0.9653846621513367, 0.7806271314620972],\n",
       "  [0.968347430229187, 0.8476452827453613],\n",
       "  [0.9720226526260376, 0.5807058811187744],\n",
       "  [0.9631220698356628, 0.7732138633728027],\n",
       "  [0.9639738202095032, 0.7021129131317139],\n",
       "  [0.9587221741676331, 0.6088261008262634],\n",
       "  [0.9595656991004944, 0.8493714332580566],\n",
       "  [0.96859210729599, 0.7820330858230591],\n",
       "  [0.9673539400100708, 0.7178704142570496],\n",
       "  [0.9659420847892761, 0.7668013572692871],\n",
       "  [0.9637912511825562, 0.7291654944419861],\n",
       "  [0.9552344083786011, 0.6612809300422668],\n",
       "  [0.9617409706115723, 0.6153796315193176],\n",
       "  [0.967021644115448, 0.7722123861312866],\n",
       "  [0.9636297821998596, 0.691062331199646],\n",
       "  [0.96070796251297, 0.765993058681488],\n",
       "  [0.9769012331962585, 0.6819223761558533],\n",
       "  [0.9668141603469849, 0.6653568148612976],\n",
       "  [0.9557032585144043, 0.5419955253601074],\n",
       "  [0.9631880521774292, 0.5923206210136414],\n",
       "  [0.9700361490249634, 0.7393982410430908],\n",
       "  [0.9705133438110352, 0.866330087184906],\n",
       "  [0.9610067009925842, 0.6748025417327881],\n",
       "  [0.9625874757766724, 0.6993837952613831],\n",
       "  [0.953174889087677, 0.6563085913658142],\n",
       "  [0.956875205039978, 0.6478248834609985],\n",
       "  [0.9670876264572144, 0.5778919458389282],\n",
       "  [0.9664577841758728, 0.6580871939659119],\n",
       "  [0.9563302397727966, 0.6277945637702942],\n",
       "  [0.9635454416275024, 0.48592886328697205],\n",
       "  [0.9628024101257324, 0.6040658354759216],\n",
       "  [0.9724243879318237, 0.7079991102218628],\n",
       "  [0.9696753025054932, 0.7810156941413879],\n",
       "  [0.9701035022735596, 0.6546433568000793],\n",
       "  [0.9595375657081604, 0.6206600069999695],\n",
       "  [0.9613857865333557, 0.6878082752227783],\n",
       "  [0.9587053656578064, 0.7538179159164429],\n",
       "  [0.964763879776001, 0.6470277309417725],\n",
       "  [0.9609891772270203, 0.5974387526512146],\n",
       "  [0.964899480342865, 0.8427919745445251],\n",
       "  [0.9647560119628906, 0.7816423177719116],\n",
       "  [0.9683063626289368, 0.6905853152275085],\n",
       "  [0.9643480777740479, 0.5645086765289307],\n",
       "  [0.967563807964325, 0.770447850227356],\n",
       "  [0.967167317867279, 0.6386827826499939],\n",
       "  [0.9645833373069763, 0.8405796885490417],\n",
       "  [0.9580366611480713, 0.7384681701660156],\n",
       "  [0.9569657444953918, 0.6141660213470459],\n",
       "  [0.9568057656288147, 0.6560719609260559],\n",
       "  [0.9620299339294434, 0.7379220128059387],\n",
       "  [0.9596111178398132, 0.5862071514129639],\n",
       "  [0.9608577489852905, 0.6181640625],\n",
       "  [0.9572890400886536, 0.6288651823997498],\n",
       "  [0.9707158207893372, 0.8328788876533508],\n",
       "  [0.9584487080574036, 0.5873948931694031],\n",
       "  [0.9670406579971313, 0.8621783256530762],\n",
       "  [0.972053050994873, 0.7494968771934509],\n",
       "  [0.9647687077522278, 0.8043617606163025],\n",
       "  [0.9602648615837097, 0.7473844289779663],\n",
       "  [0.9614220261573792, 0.7143007516860962],\n",
       "  [0.9604562520980835, 0.7209099531173706],\n",
       "  [0.9580312371253967, 0.6983274817466736],\n",
       "  [0.9667367339134216, 0.8641178011894226],\n",
       "  [0.9731800556182861, 0.7244823575019836],\n",
       "  [0.9625182151794434, 0.7905579209327698],\n",
       "  [0.9711858034133911, 0.5613319277763367],\n",
       "  [0.9610389471054077, 0.6285591125488281],\n",
       "  [0.9585943222045898, 0.7124484181404114],\n",
       "  [0.9655809998512268, 0.8452275395393372],\n",
       "  [0.9623051881790161, 0.8198179602622986],\n",
       "  [0.9667256474494934, 0.5823641419410706],\n",
       "  [0.9652174115180969, 0.6977580189704895],\n",
       "  [0.9662534594535828, 0.6073625087738037],\n",
       "  [0.9666791558265686, 0.828757643699646],\n",
       "  [0.9775444269180298, 0.6905556917190552],\n",
       "  [0.9581777453422546, 0.6569823026657104],\n",
       "  [0.9624778628349304, 0.6206647753715515],\n",
       "  [0.9646123647689819, 0.6718159914016724],\n",
       "  [0.9599400758743286, 0.6306411027908325],\n",
       "  [0.9559270739555359, 0.8269584774971008],\n",
       "  [0.9643117785453796, 0.6532030701637268],\n",
       "  [0.9644128084182739, 0.7785371541976929],\n",
       "  [0.9647058844566345, 0.696519672870636],\n",
       "  [0.9660249352455139, 0.6373474597930908],\n",
       "  [0.9671052098274231, 0.7834853529930115],\n",
       "  [0.9599716663360596, 0.598362386226654],\n",
       "  [0.9620253443717957, 0.6925250291824341],\n",
       "  [0.9715369939804077, 0.692044734954834],\n",
       "  [0.9704610705375671, 0.582477867603302],\n",
       "  [0.9672846794128418, 0.84797602891922],\n",
       "  [0.9603604078292847, 0.6606309413909912],\n",
       "  [0.9622511863708496, 0.7550313472747803],\n",
       "  [0.962699830532074, 0.6809098720550537],\n",
       "  [0.9626917839050293, 0.7344092726707458],\n",
       "  [0.9648939967155457, 0.7418434023857117],\n",
       "  [0.9595295190811157, 0.7156319618225098],\n",
       "  [0.956985592842102, 0.75705885887146],\n",
       "  [0.9656915664672852, 0.8406612277030945],\n",
       "  [0.9665828347206116, 0.6789318323135376],\n",
       "  [0.9594738483428955, 0.8482745289802551],\n",
       "  [0.9600855708122253, 0.7255125045776367],\n",
       "  [0.971178412437439, 0.7624149322509766],\n",
       "  [0.957565188407898, 0.6467030644416809],\n",
       "  [0.9688066840171814, 0.725550651550293],\n",
       "  [0.9606029391288757, 0.6648159027099609],\n",
       "  [0.96827632188797, 0.8389503359794617],\n",
       "  [0.962270975112915, 0.652031660079956],\n",
       "  [0.9623836278915405, 0.6502702236175537],\n",
       "  [0.9618155360221863, 0.5669954419136047],\n",
       "  [0.9628415107727051, 0.8540860414505005],\n",
       "  [0.9643480777740479, 0.7577390670776367],\n",
       "  [0.9548711180686951, 0.6360257267951965],\n",
       "  [0.9621075391769409, 0.6440203189849854],\n",
       "  [0.9702270030975342, 0.6600305438041687],\n",
       "  [0.9638818502426147, 0.5941595435142517],\n",
       "  [0.96730637550354, 0.7616671323776245],\n",
       "  [0.971045970916748, 0.7914789915084839],\n",
       "  [0.9711136817932129, 0.8353131413459778],\n",
       "  [0.9511423707008362, 0.6589300036430359],\n",
       "  [0.9759436845779419, 0.8639094829559326],\n",
       "  [0.9572890400886536, 0.7438215017318726],\n",
       "  [0.9657387733459473, 0.6556220054626465],\n",
       "  [0.9617604613304138, 0.8371322154998779],\n",
       "  [0.9654665589332581, 0.5929478406906128],\n",
       "  [0.9699812531471252, 0.6126759648323059],\n",
       "  [0.9660657644271851, 0.7685461044311523],\n",
       "  [0.9568600058555603, 0.6741061210632324],\n",
       "  [0.9605446457862854, 0.5523964166641235],\n",
       "  [0.9564453959465027, 0.6304538249969482],\n",
       "  [0.9583182334899902, 0.7380234599113464],\n",
       "  [0.9740356206893921, 0.733525276184082],\n",
       "  [0.963462233543396, 0.6399294137954712],\n",
       "  [0.9610481262207031, 0.576208233833313],\n",
       "  [0.9680963754653931, 0.6857988238334656],\n",
       "  [0.9588109254837036, 0.5589479804039001],\n",
       "  [0.9659510850906372, 0.8320712447166443],\n",
       "  [0.967602550983429, 0.6863749623298645],\n",
       "  [0.9658500552177429, 0.6895100474357605],\n",
       "  [0.9534717202186584, 0.5660921931266785],\n",
       "  [0.9731981754302979, 0.8072613477706909],\n",
       "  [0.9628173112869263, 0.6435734629631042],\n",
       "  [0.9656716585159302, 0.6163768768310547],\n",
       "  [0.9659129977226257, 0.5963515639305115],\n",
       "  [0.9645317196846008, 0.8127994537353516],\n",
       "  [0.9620344042778015, 0.6531850099563599],\n",
       "  [0.9562212228775024, 0.5216477513313293],\n",
       "  [0.9641728401184082, 0.7590762376785278],\n",
       "  [0.9573460221290588, 0.6076825857162476],\n",
       "  [0.9573426842689514, 0.6623632311820984],\n",
       "  [0.9697974324226379, 0.7492836713790894],\n",
       "  [0.9615658521652222, 0.8264734148979187],\n",
       "  [0.9631858468055725, 0.6370062232017517],\n",
       "  [0.9742249846458435, 0.7754697799682617],\n",
       "  [0.9571998715400696, 0.5389404296875],\n",
       "  [0.963001012802124, 0.6340826749801636],\n",
       "  [0.9652650952339172, 0.6918820142745972],\n",
       "  [0.963799238204956, 0.5927673578262329],\n",
       "  [0.9681894779205322, 0.6512738466262817],\n",
       "  [0.9734022617340088, 0.8347163796424866],\n",
       "  [0.9633802771568298, 0.6449072957038879],\n",
       "  [0.9668609499931335, 0.6941652297973633],\n",
       "  [0.9612970948219299, 0.684043288230896],\n",
       "  [0.9685466289520264, 0.7384784817695618],\n",
       "  [0.9561216831207275, 0.5639495849609375],\n",
       "  [0.9678816199302673, 0.7058943510055542],\n",
       "  [0.959168553352356, 0.6774392127990723],\n",
       "  [0.9667519330978394, 0.6337775588035583],\n",
       "  [0.9581856727600098, 0.6429556608200073],\n",
       "  [0.9642976522445679, 0.5449908375740051],\n",
       "  [0.9677087068557739, 0.8764604330062866],\n",
       "  [0.964102566242218, 0.7972522377967834],\n",
       "  [0.9622230529785156, 0.5733384490013123],\n",
       "  [0.9578911066055298, 0.764083981513977],\n",
       "  [0.9644268751144409, 0.6217491030693054],\n",
       "  [0.9568006992340088, 0.7515015602111816],\n",
       "  [0.9591913223266602, 0.6290130019187927],\n",
       "  [0.9540273547172546, 0.8245012164115906],\n",
       "  [0.9650400876998901, 0.6557718515396118],\n",
       "  [0.9647687077522278, 0.7779531478881836],\n",
       "  [0.9629233479499817, 0.6631324291229248],\n",
       "  [0.9664024114608765, 0.641200065612793],\n",
       "  [0.9664127230644226, 0.7806895971298218],\n",
       "  [0.9613885879516602, 0.6040453314781189],\n",
       "  [0.9609990119934082, 0.6411458849906921],\n",
       "  [0.9715369939804077, 0.695924699306488],\n",
       "  [0.969740629196167, 0.5812159180641174],\n",
       "  [0.9672846794128418, 0.848294734954834],\n",
       "  [0.9607207179069519, 0.6637865900993347],\n",
       "  [0.9622511863708496, 0.7555214762687683],\n",
       "  [0.9609236121177673, 0.6235315203666687],\n",
       "  [0.9626917839050293, 0.7350685000419617],\n",
       "  [0.9635036587715149, 0.7374650835990906],\n",
       "  [0.9588377475738525, 0.7118330001831055],\n",
       "  [0.9562973380088806, 0.7563434839248657],\n",
       "  [0.9642469882965088, 0.8322525024414062],\n",
       "  [0.9644268751144409, 0.6722601652145386],\n",
       "  [0.9598293304443359, 0.8476325273513794],\n",
       "  [0.9615110754966736, 0.7338752746582031],\n",
       "  [0.9700839519500732, 0.7660987973213196],\n",
       "  [0.9565216898918152, 0.644328236579895],\n",
       "  [0.9669930934906006, 0.7183552384376526],\n",
       "  [0.9609455466270447, 0.6669375896453857],\n",
       "  [0.9665139317512512, 0.8321043848991394],\n",
       "  [0.9615523219108582, 0.6506146192550659],\n",
       "  [0.9616387486457825, 0.6496977210044861],\n",
       "  [0.9610950946807861, 0.5656619071960449],\n",
       "  [0.9639344215393066, 0.78807532787323],\n",
       "  [0.9653967022895813, 0.7428478598594666],\n",
       "  [0.9530802369117737, 0.5893979668617249],\n",
       "  [0.9606639742851257, 0.6287046670913696],\n",
       "  [0.9705991744995117, 0.6620537042617798],\n",
       "  [0.9642466902732849, 0.5965296030044556],\n",
       "  [0.9665955901145935, 0.7564685344696045],\n",
       "  [0.9717698693275452, 0.7967004776000977],\n",
       "  [0.9714937806129456, 0.8434462547302246],\n",
       "  [0.9511423707008362, 0.6602047085762024],\n",
       "  [0.9755735993385315, 0.8631154298782349],\n",
       "  [0.9576420187950134, 0.7452939748764038],\n",
       "  [0.9664525389671326, 0.6583364605903625],\n",
       "  [0.9613997340202332, 0.7073713541030884],\n",
       "  [0.9662013053894043, 0.5960428714752197],\n",
       "  [0.9707317352294922, 0.6194260716438293],\n",
       "  [0.9660657644271851, 0.7714845538139343],\n",
       "  [0.9561527967453003, 0.6695778369903564],\n",
       "  [0.9629887938499451, 0.6232417225837708],\n",
       "  [0.9560941457748413, 0.629112184047699],\n",
       "  [0.9586806893348694, 0.741837203502655],\n",
       "  [0.9740356206893921, 0.7357336282730103],\n",
       "  [0.963462233543396, 0.6398787498474121],\n",
       "  [0.9624645709991455, 0.619391143321991],\n",
       "  [0.9702233076095581, 0.6949093341827393],\n",
       "  [0.9563037753105164, 0.5495060086250305],\n",
       "  [0.9666913151741028, 0.8369045257568359],\n",
       "  [0.967602550983429, 0.6835419535636902],\n",
       "  [0.9658500552177429, 0.6904115676879883],\n",
       "  [0.9541875123977661, 0.5661706328392029],\n",
       "  [0.9750090837478638, 0.8145583868026733],\n",
       "  [0.9624597430229187, 0.642846405506134],\n",
       "  [0.9675373435020447, 0.6202316284179688],\n",
       "  [0.9666086435317993, 0.6195942759513855],\n",
       "  [0.9634986519813538, 0.8061198592185974],\n",
       "  [0.9631088972091675, 0.6580216884613037],\n",
       "  [0.9592933654785156, 0.5136004686355591],\n",
       "  [0.9641728401184082, 0.7631888389587402],\n",
       "  [0.9577105641365051, 0.6069929003715515],\n",
       "  [0.9559441208839417, 0.6602380275726318],\n",
       "  [0.9694291353225708, 0.7174684405326843],\n",
       "  [0.9633452296257019, 0.8375769853591919],\n",
       "  [0.9631858468055725, 0.6407026648521423],\n",
       "  [0.9745733141899109, 0.774289071559906],\n",
       "  [0.9579252600669861, 0.5422663688659668],\n",
       "  [0.9640287756919861, 0.637150228023529],\n",
       "  [0.9656307697296143, 0.7458723783493042],\n",
       "  [0.9630824327468872, 0.589094877243042],\n",
       "  [0.9681894779205322, 0.6513499021530151],\n",
       "  [0.9730328321456909, 0.8336604237556458],\n",
       "  [0.9630281329154968, 0.6435586810112],\n",
       "  [0.9672250747680664, 0.6933852434158325],\n",
       "  [0.9630404710769653, 0.7780401706695557],\n",
       "  [0.9692696928977966, 0.7443400621414185],\n",
       "  [0.956475555896759, 0.6075660586357117],\n",
       "  [0.9675207138061523, 0.7732999920845032],\n",
       "  [0.9602821469306946, 0.6815466284751892],\n",
       "  [0.9660212397575378, 0.6323580145835876],\n",
       "  [0.9588943719863892, 0.6514546275138855],\n",
       "  [0.9642976522445679, 0.5455661416053772],\n",
       "  [0.9677087068557739, 0.8761875033378601],\n",
       "  [0.9630768895149231, 0.7952040433883667],\n",
       "  [0.9600436091423035, 0.5672345757484436],\n",
       "  [0.9585757851600647, 0.7689620852470398],\n",
       "  [0.9647862315177917, 0.6678433418273926],\n",
       "  [0.957228422164917, 0.752038300037384],\n",
       "  [0.9599400758743286, 0.6310655474662781],\n",
       "  [0.9551671743392944, 0.8261059522628784],\n",
       "  [0.9646759033203125, 0.6534830331802368],\n",
       "  [0.9651245474815369, 0.7815837264060974],\n",
       "  [0.9647058844566345, 0.6664263010025024],\n",
       "  [0.9664024114608765, 0.6442079544067383],\n",
       "  [0.9688365459442139, 0.7887061834335327],\n",
       "  [0.9606801271438599, 0.602343738079071],\n",
       "  [0.9589462876319885, 0.6813674569129944],\n",
       "  [0.9715369939804077, 0.6954517364501953],\n",
       "  [0.9708213210105896, 0.5850545763969421],\n",
       "  [0.9669211506843567, 0.8421662449836731],\n",
       "  [0.9600000381469727, 0.6611918210983276],\n",
       "  [0.9629375338554382, 0.7562599778175354],\n",
       "  [0.962699830532074, 0.6741272211074829],\n",
       "  [0.9626917839050293, 0.733768105506897],\n",
       "  [0.9645463824272156, 0.7436966896057129],\n",
       "  [0.9588377475738525, 0.7137724757194519],\n",
       "  [0.9552649855613708, 0.7467702031135559],\n",
       "  [0.9638858437538147, 0.8249096274375916],\n",
       "  [0.9662235379219055, 0.6753553152084351],\n",
       "  [0.9584073424339294, 0.841805100440979],\n",
       "  [0.9611546993255615, 0.7259851098060608],\n",
       "  [0.9700839519500732, 0.7660371661186218],\n",
       "  [0.9572173357009888, 0.642737090587616],\n",
       "  [0.9677185416221619, 0.7225709557533264],\n",
       "  [0.9616307020187378, 0.6694588661193848],\n",
       "  [0.9689813256263733, 0.8425501585006714],\n",
       "  [0.9608336687088013, 0.6454823613166809],\n",
       "  [0.9616387486457825, 0.6486499905586243],\n",
       "  [0.9618155360221863, 0.567872166633606],\n",
       "  [0.9639344215393066, 0.7879889011383057],\n",
       "  [0.9646976590156555, 0.7626671195030212],\n",
       "  [0.9537966251373291, 0.637004017829895],\n",
       "  [0.9617466330528259, 0.6434203386306763],\n",
       "  [0.9702270030975342, 0.6615155935287476],\n",
       "  [0.9646114706993103, 0.5995153188705444],\n",
       "  [0.9676617383956909, 0.7602993845939636],\n",
       "  [0.9721317887306213, 0.7991434931755066],\n",
       "  [0.9707335829734802, 0.8328925371170044],\n",
       "  [0.9518453478813171, 0.6616645455360413],\n",
       "  [0.9766839146614075, 0.8717823028564453],\n",
       "  [0.9569360613822937, 0.7411497831344604],\n",
       "  [0.9668093919754028, 0.6601914167404175],\n",
       "  [0.9628427028656006, 0.7739317417144775],\n",
       "  [0.968405544757843, 0.6020956039428711],\n",
       "  [0.9703564643859863, 0.6208469271659851],\n",
       "  [0.966772735118866, 0.7735741138458252],\n",
       "  [0.9568600058555603, 0.6727592349052429],\n",
       "  [0.9636871218681335, 0.6295027732849121],\n",
       "  [0.9567966461181641, 0.6308266520500183],\n",
       "  [0.9604929685592651, 0.7507262229919434],\n",
       "  [0.9740356206893921, 0.7352494597434998],\n",
       "  [0.9638170003890991, 0.6420197486877441],\n",
       "  [0.9599858522415161, 0.5715181827545166],\n",
       "  [0.9684509038925171, 0.6872510313987732],\n",
       "  [0.955945611000061, 0.5474154353141785],\n",
       "  [0.9663212299346924, 0.8318468332290649],\n",
       "  [0.9683225154876709, 0.6875412464141846],\n",
       "  [0.9654788970947266, 0.6868545413017273],\n",
       "  [0.9541875123977661, 0.5782687067985535],\n",
       "  [0.9735603332519531, 0.8094643354415894],\n",
       "  [0.9621022343635559, 0.597338080406189],\n",
       "  [0.9660447835922241, 0.6178516745567322],\n",
       "  [0.9659129977226257, 0.6174553632736206],\n",
       "  [0.9648760557174683, 0.8126354217529297],\n",
       "  [0.9613180756568909, 0.6510884761810303],\n",
       "  [0.9592933654785156, 0.534984827041626],\n",
       "  [0.9631190896034241, 0.754339337348938],\n",
       "  [0.9591688513755798, 0.6451919674873352],\n",
       "  [0.9576923251152039, 0.6655216217041016],\n",
       "  [0.9690607786178589, 0.7476942539215088],\n",
       "  [0.9644128084182739, 0.8452073931694031],\n",
       "  [0.9642477631568909, 0.6430570483207703],\n",
       "  [0.9735283851623535, 0.7710378766059875],\n",
       "  [0.9582880139350891, 0.542985200881958],\n",
       "  [0.964371383190155, 0.6398387551307678],\n",
       "  [0.9659963846206665, 0.6926308274269104],\n",
       "  [0.9648745059967041, 0.5959073305130005],\n",
       "  [0.9681894779205322, 0.7023158073425293],\n",
       "  [0.9730328321456909, 0.833095371723175],\n",
       "  [0.9630281329154968, 0.6432165503501892],\n",
       "  [0.9672250747680664, 0.6921529769897461],\n",
       "  [0.9626917839050293, 0.7742868661880493],\n",
       "  [0.9707158207893372, 0.746021568775177],\n",
       "  [0.9554139971733093, 0.5632404685020447],\n",
       "  [0.9686033725738525, 0.7121251821517944],\n",
       "  [0.9576837420463562, 0.6734064817428589],\n",
       "  [0.9667519330978394, 0.6376785635948181],\n",
       "  [0.9603118300437927, 0.6615638136863708],\n",
       "  [0.9646313190460205, 0.5462916493415833],\n",
       "  [0.967021644115448, 0.8728948831558228],\n",
       "  [0.964102566242218, 0.7980901598930359],\n",
       "  [0.9607700705528259, 0.5689534544944763],\n",
       "  [0.9565216898918152, 0.7619913816452026],\n",
       "  [0.9655048847198486, 0.6140336990356445],\n",
       "  [0.9576561450958252, 0.7530730366706848]])"
      ]
     },
     "execution_count": 20,
     "metadata": {},
     "output_type": "execute_result"
    }
   ],
   "source": [
    "train_loop(\n",
    "    train_set=(train_W, train_X, train_Y),\n",
    "    dev_set=(dev_W, dev_X, dev_Y),\n",
    "    model=ln_chr_glv_model.to(device),\n",
    "    lr=0.001,\n",
    "    cos_max=10,\n",
    "    n_classes=len(lbl_to_id)-1,\n",
    "    train_batch_size=128,\n",
    "    dev_batch_size=128,\n",
    "    grad_clip_norm=5,\n",
    "    patience=3,\n",
    "    max_epochs=100,\n",
    "    show=False\n",
    ")"
   ]
  },
  {
   "cell_type": "code",
   "execution_count": 17,
   "metadata": {},
   "outputs": [],
   "source": [
    "torch.save(ln_chr_glv_model.state_dict(), 'data/pt-cache/ln_chr_glv_model.pt')"
   ]
  },
  {
   "cell_type": "code",
   "execution_count": 18,
   "metadata": {},
   "outputs": [],
   "source": [
    "test_pred = ln_chr_glv_model.to(device).batch_predict(test_W, test_X, 4096)"
   ]
  },
  {
   "cell_type": "code",
   "execution_count": 19,
   "metadata": {},
   "outputs": [
    {
     "name": "stdout",
     "output_type": "stream",
     "text": [
      "              precision    recall  f1-score   support\n",
      "\n",
      "         art       0.14      0.05      0.07       102\n",
      "         eve       0.43      0.34      0.38        87\n",
      "         geo       0.81      0.89      0.85      9912\n",
      "         gpe       0.92      0.91      0.91      4168\n",
      "         nat       0.44      0.38      0.41        55\n",
      "         org       0.65      0.57      0.60      5205\n",
      "         per       0.76      0.77      0.77      4406\n",
      "         tim       0.83      0.86      0.84      5275\n",
      "\n",
      "   micro avg       0.79      0.81      0.80     29210\n",
      "   macro avg       0.62      0.60      0.61     29210\n",
      "weighted avg       0.79      0.81      0.80     29210\n",
      "\n",
      "15.470650911331177\n"
     ]
    }
   ],
   "source": [
    "tic = time.time()\n",
    "print(conll_report(test_Y, test_pred, id_to_lbl, lbl_to_id['PAD_LBL']))\n",
    "toc = time.time()\n",
    "print(toc-tic)"
   ]
  },
  {
   "cell_type": "code",
   "execution_count": null,
   "metadata": {},
   "outputs": [],
   "source": []
  }
 ],
 "metadata": {
  "kernelspec": {
   "display_name": "Python 3",
   "language": "python",
   "name": "python3"
  },
  "language_info": {
   "codemirror_mode": {
    "name": "ipython",
    "version": 3
   },
   "file_extension": ".py",
   "mimetype": "text/x-python",
   "name": "python",
   "nbconvert_exporter": "python",
   "pygments_lexer": "ipython3",
   "version": "3.6.10"
  }
 },
 "nbformat": 4,
 "nbformat_minor": 4
}
